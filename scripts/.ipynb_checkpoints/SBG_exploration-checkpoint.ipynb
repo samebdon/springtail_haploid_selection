{
 "cells": [
  {
   "cell_type": "code",
   "execution_count": 59,
   "id": "e9494f45",
   "metadata": {},
   "outputs": [],
   "source": [
    "import pandas as pd\n",
    "import numpy as np\n",
    "import seaborn as sns\n",
    "import matplotlib.pyplot as plt"
   ]
  },
  {
   "cell_type": "code",
   "execution_count": 50,
   "id": "ccfb8dc5",
   "metadata": {},
   "outputs": [],
   "source": [
    "gene_bed_df = pd.read_csv('../data/results/deseq/allacma_fusca.tsebra.augustus.genes.bed', \n",
    "                        sep = '\\t', \n",
    "                        header = None,\n",
    "                        names = ['chrom','start','end','Geneid'])\n",
    "SBG_df = pd.read_csv('../data/results/deseq2/allacma_fusca/v_1/allacma_fusca.DEseq2_results_filtered.tsv', \n",
    "                        sep = '\\t')\n",
    "raw_df = pd.read_csv('../data/results/deseq2/allacma_fusca/v_1/allacma_fusca.DEseq2_results_raw.tsv', \n",
    "                        sep = '\\t')"
   ]
  },
  {
   "cell_type": "code",
   "execution_count": 51,
   "id": "2efb2ef9",
   "metadata": {},
   "outputs": [
    {
     "data": {
      "text/html": [
       "<div>\n",
       "<style scoped>\n",
       "    .dataframe tbody tr th:only-of-type {\n",
       "        vertical-align: middle;\n",
       "    }\n",
       "\n",
       "    .dataframe tbody tr th {\n",
       "        vertical-align: top;\n",
       "    }\n",
       "\n",
       "    .dataframe thead th {\n",
       "        text-align: right;\n",
       "    }\n",
       "</style>\n",
       "<table border=\"1\" class=\"dataframe\">\n",
       "  <thead>\n",
       "    <tr style=\"text-align: right;\">\n",
       "      <th></th>\n",
       "      <th>Geneid</th>\n",
       "      <th>baseMean</th>\n",
       "      <th>log2FoldChange</th>\n",
       "      <th>lfcSE</th>\n",
       "      <th>stat</th>\n",
       "      <th>pvalue</th>\n",
       "      <th>padj</th>\n",
       "    </tr>\n",
       "  </thead>\n",
       "  <tbody>\n",
       "    <tr>\n",
       "      <th>0</th>\n",
       "      <td>g_27516</td>\n",
       "      <td>201.994071</td>\n",
       "      <td>4.873614</td>\n",
       "      <td>1.997111</td>\n",
       "      <td>2.440333</td>\n",
       "      <td>0.014674</td>\n",
       "      <td>0.034694</td>\n",
       "    </tr>\n",
       "    <tr>\n",
       "      <th>1</th>\n",
       "      <td>g_89</td>\n",
       "      <td>0.000000</td>\n",
       "      <td>NaN</td>\n",
       "      <td>NaN</td>\n",
       "      <td>NaN</td>\n",
       "      <td>NaN</td>\n",
       "      <td>NaN</td>\n",
       "    </tr>\n",
       "    <tr>\n",
       "      <th>2</th>\n",
       "      <td>g_92</td>\n",
       "      <td>107.971550</td>\n",
       "      <td>3.828103</td>\n",
       "      <td>1.199300</td>\n",
       "      <td>3.191947</td>\n",
       "      <td>0.001413</td>\n",
       "      <td>0.004194</td>\n",
       "    </tr>\n",
       "    <tr>\n",
       "      <th>3</th>\n",
       "      <td>g_94</td>\n",
       "      <td>76.484759</td>\n",
       "      <td>0.740931</td>\n",
       "      <td>0.797213</td>\n",
       "      <td>0.929402</td>\n",
       "      <td>0.352681</td>\n",
       "      <td>0.482745</td>\n",
       "    </tr>\n",
       "    <tr>\n",
       "      <th>4</th>\n",
       "      <td>g_95</td>\n",
       "      <td>62.965088</td>\n",
       "      <td>0.821753</td>\n",
       "      <td>0.793751</td>\n",
       "      <td>1.035278</td>\n",
       "      <td>0.300539</td>\n",
       "      <td>0.428585</td>\n",
       "    </tr>\n",
       "    <tr>\n",
       "      <th>...</th>\n",
       "      <td>...</td>\n",
       "      <td>...</td>\n",
       "      <td>...</td>\n",
       "      <td>...</td>\n",
       "      <td>...</td>\n",
       "      <td>...</td>\n",
       "      <td>...</td>\n",
       "    </tr>\n",
       "    <tr>\n",
       "      <th>25938</th>\n",
       "      <td>g_4693</td>\n",
       "      <td>0.284396</td>\n",
       "      <td>1.551587</td>\n",
       "      <td>3.099186</td>\n",
       "      <td>0.500643</td>\n",
       "      <td>0.616622</td>\n",
       "      <td>NaN</td>\n",
       "    </tr>\n",
       "    <tr>\n",
       "      <th>25939</th>\n",
       "      <td>g_4695</td>\n",
       "      <td>0.131596</td>\n",
       "      <td>0.221832</td>\n",
       "      <td>3.107732</td>\n",
       "      <td>0.071381</td>\n",
       "      <td>0.943095</td>\n",
       "      <td>NaN</td>\n",
       "    </tr>\n",
       "    <tr>\n",
       "      <th>25940</th>\n",
       "      <td>g_4696</td>\n",
       "      <td>0.000000</td>\n",
       "      <td>NaN</td>\n",
       "      <td>NaN</td>\n",
       "      <td>NaN</td>\n",
       "      <td>NaN</td>\n",
       "      <td>NaN</td>\n",
       "    </tr>\n",
       "    <tr>\n",
       "      <th>25941</th>\n",
       "      <td>g_4706</td>\n",
       "      <td>0.043541</td>\n",
       "      <td>0.224751</td>\n",
       "      <td>3.109072</td>\n",
       "      <td>0.072289</td>\n",
       "      <td>0.942372</td>\n",
       "      <td>NaN</td>\n",
       "    </tr>\n",
       "    <tr>\n",
       "      <th>25942</th>\n",
       "      <td>g_4711</td>\n",
       "      <td>0.000000</td>\n",
       "      <td>NaN</td>\n",
       "      <td>NaN</td>\n",
       "      <td>NaN</td>\n",
       "      <td>NaN</td>\n",
       "      <td>NaN</td>\n",
       "    </tr>\n",
       "  </tbody>\n",
       "</table>\n",
       "<p>25943 rows × 7 columns</p>\n",
       "</div>"
      ],
      "text/plain": [
       "        Geneid    baseMean  log2FoldChange     lfcSE      stat    pvalue  \\\n",
       "0      g_27516  201.994071        4.873614  1.997111  2.440333  0.014674   \n",
       "1         g_89    0.000000             NaN       NaN       NaN       NaN   \n",
       "2         g_92  107.971550        3.828103  1.199300  3.191947  0.001413   \n",
       "3         g_94   76.484759        0.740931  0.797213  0.929402  0.352681   \n",
       "4         g_95   62.965088        0.821753  0.793751  1.035278  0.300539   \n",
       "...        ...         ...             ...       ...       ...       ...   \n",
       "25938   g_4693    0.284396        1.551587  3.099186  0.500643  0.616622   \n",
       "25939   g_4695    0.131596        0.221832  3.107732  0.071381  0.943095   \n",
       "25940   g_4696    0.000000             NaN       NaN       NaN       NaN   \n",
       "25941   g_4706    0.043541        0.224751  3.109072  0.072289  0.942372   \n",
       "25942   g_4711    0.000000             NaN       NaN       NaN       NaN   \n",
       "\n",
       "           padj  \n",
       "0      0.034694  \n",
       "1           NaN  \n",
       "2      0.004194  \n",
       "3      0.482745  \n",
       "4      0.428585  \n",
       "...         ...  \n",
       "25938       NaN  \n",
       "25939       NaN  \n",
       "25940       NaN  \n",
       "25941       NaN  \n",
       "25942       NaN  \n",
       "\n",
       "[25943 rows x 7 columns]"
      ]
     },
     "execution_count": 51,
     "metadata": {},
     "output_type": "execute_result"
    }
   ],
   "source": [
    "#how to import featurecounts data to look at dosage?"
   ]
  },
  {
   "cell_type": "code",
   "execution_count": 53,
   "id": "ff524a7e",
   "metadata": {},
   "outputs": [],
   "source": [
    "gene_bed_df = gene_bed_df.merge(SBG_df[['Geneid','log2FoldChange']], \n",
    "                                       how = 'outer',\n",
    "                                       on = 'Geneid')"
   ]
  },
  {
   "cell_type": "code",
   "execution_count": 54,
   "id": "9b1da738",
   "metadata": {},
   "outputs": [],
   "source": [
    "bias_conditions = [\n",
    "    (gene_bed_df['log2FoldChange'] > 0),\n",
    "    (gene_bed_df['log2FoldChange'] < 0)]\n",
    "bias_outcomes = ['male_biased', 'female_biased']\n",
    "gene_bed_df['bias'] = np.select(bias_conditions, bias_outcomes, default='unbiased')"
   ]
  },
  {
   "cell_type": "code",
   "execution_count": 55,
   "id": "51ab022d",
   "metadata": {
    "scrolled": false
   },
   "outputs": [],
   "source": [
    "chromosomes = ['OX359245.1',\n",
    " 'OX359246.1',\n",
    " 'OX359247.1',\n",
    " 'OX359248.1',\n",
    " 'OX359249.1',\n",
    " 'OX359250.1']\n",
    "\n",
    "chrom_df = gene_bed_df[gene_bed_df['chrom'].isin(chromosomes)]"
   ]
  },
  {
   "cell_type": "code",
   "execution_count": 56,
   "id": "8f94ad01",
   "metadata": {},
   "outputs": [
    {
     "data": {
      "text/plain": [
       "chrom       bias         \n",
       "OX359245.1  unbiased         4572\n",
       "            male_biased       953\n",
       "            female_biased     425\n",
       "OX359246.1  unbiased         4455\n",
       "            male_biased       878\n",
       "            female_biased     456\n",
       "OX359247.1  unbiased         3370\n",
       "            male_biased       901\n",
       "            female_biased     381\n",
       "OX359248.1  unbiased         2760\n",
       "            male_biased       718\n",
       "            female_biased     354\n",
       "OX359249.1  unbiased         1793\n",
       "            male_biased       735\n",
       "            female_biased     231\n",
       "OX359250.1  unbiased         1717\n",
       "            male_biased       861\n",
       "            female_biased     137\n",
       "Name: count, dtype: int64"
      ]
     },
     "execution_count": 56,
     "metadata": {},
     "output_type": "execute_result"
    }
   ],
   "source": [
    "chrom_df.groupby(['chrom'])['bias'].value_counts()"
   ]
  },
  {
   "cell_type": "code",
   "execution_count": 45,
   "id": "2a593ea7",
   "metadata": {},
   "outputs": [
    {
     "data": {
      "text/plain": [
       "chrom       bias         \n",
       "OX359245.1  unbiased         0.768403\n",
       "            male_biased      0.160168\n",
       "            female_biased    0.071429\n",
       "OX359246.1  unbiased         0.769563\n",
       "            male_biased      0.151667\n",
       "            female_biased    0.078770\n",
       "OX359247.1  unbiased         0.724420\n",
       "            male_biased      0.193680\n",
       "            female_biased    0.081900\n",
       "OX359248.1  unbiased         0.720251\n",
       "            male_biased      0.187370\n",
       "            female_biased    0.092380\n",
       "OX359249.1  unbiased         0.649873\n",
       "            male_biased      0.266401\n",
       "            female_biased    0.083726\n",
       "OX359250.1  unbiased         0.632413\n",
       "            male_biased      0.317127\n",
       "            female_biased    0.050460\n",
       "Name: proportion, dtype: float64"
      ]
     },
     "execution_count": 45,
     "metadata": {},
     "output_type": "execute_result"
    }
   ],
   "source": [
    "chrom_df.groupby(['chrom'])['bias'].value_counts(normalize='True')"
   ]
  },
  {
   "cell_type": "code",
   "execution_count": 81,
   "id": "37b41b94",
   "metadata": {
    "scrolled": false
   },
   "outputs": [
    {
     "data": {
      "image/png": "[encoded data removed]",
      "text/plain": [
       "<Figure size 720x720 with 6 Axes>"
      ]
     },
     "metadata": {
      "needs_background": "light"
     },
     "output_type": "display_data"
    }
   ],
   "source": [
    "fig, axs = plt.subplots(nrows = 6, sharex=True, figsize = (10,10))\n",
    "\n",
    "for i, chrom in enumerate(chromosomes):\n",
    "    \n",
    "    sns.histplot(chrom_df[chrom_df['chrom']==chrom]['log2FoldChange'],\n",
    "                color = 'grey',\n",
    "                stat = 'proportion',\n",
    "                bins = np.arange(-23, 26, 1),\n",
    "                ax = axs[i])\n",
    "    axs[i].set_title(chrom, loc = 'right')\n",
    "    \n",
    "\n",
    "plt.tight_layout()"
   ]
  },
  {
   "cell_type": "code",
   "execution_count": 102,
   "id": "ec3129b4",
   "metadata": {},
   "outputs": [],
   "source": [
    "barplot_df_count = chrom_df.groupby(['chrom'])['bias'].value_counts().reset_index()\n",
    "barplot_df_prop = chrom_df.groupby(['chrom'])['bias'].value_counts(normalize='True').reset_index()"
   ]
  },
  {
   "cell_type": "code",
   "execution_count": 101,
   "id": "bf536ed9",
   "metadata": {},
   "outputs": [
    {
     "data": {
      "image/png": "[encoded data removed]",
      "text/plain": [
       "<Figure size 720x720 with 2 Axes>"
      ]
     },
     "metadata": {
      "needs_background": "light"
     },
     "output_type": "display_data"
    }
   ],
   "source": [
    "fig, axs = plt.subplots(nrows = 2, sharex=True, figsize = (10,10))\n",
    "\n",
    "sns.barplot(data=barplot_df_count, \n",
    "            x=\"chrom\", \n",
    "            y=\"count\",\n",
    "            hue=\"bias\",\n",
    "            ax = axs[0])\n",
    "\n",
    "sns.barplot(data=barplot_df_prop, \n",
    "            x=\"chrom\", \n",
    "            y=\"proportion\",\n",
    "            hue=\"bias\",\n",
    "            ax = axs[1])\n",
    "\n",
    "axs[1].legend().set_visible(False)"
   ]
  },
  {
   "cell_type": "code",
   "execution_count": null,
   "id": "3ccb9458",
   "metadata": {},
   "outputs": [],
   "source": []
  }
 ],
 "metadata": {
  "kernelspec": {
   "display_name": "Python 3 (ipykernel)",
   "language": "python",
   "name": "python3"
  },
  "language_info": {
   "codemirror_mode": {
    "name": "ipython",
    "version": 3
   },
   "file_extension": ".py",
   "mimetype": "text/x-python",
   "name": "python",
   "nbconvert_exporter": "python",
   "pygments_lexer": "ipython3",
   "version": "3.10.12"
  }
 },
 "nbformat": 4,
 "nbformat_minor": 5
}
