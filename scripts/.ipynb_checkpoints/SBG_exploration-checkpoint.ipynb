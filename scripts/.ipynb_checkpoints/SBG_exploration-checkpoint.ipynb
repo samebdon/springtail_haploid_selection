{
 "cells": [
  {
   "cell_type": "code",
   "execution_count": 59,
   "id": "a754e588",
   "metadata": {},
   "outputs": [],
   "source": [
    "import pandas as pd\n",
    "import numpy as np\n",
    "import seaborn as sns\n",
    "import matplotlib.pyplot as plt"
   ]
  },
  {
   "cell_type": "code",
   "execution_count": 186,
   "id": "860c4bfa",
   "metadata": {},
   "outputs": [],
   "source": [
    "gene_bed_df = pd.read_csv('../data/results/deseq/allacma_fusca.tsebra.augustus.genes.bed', \n",
    "                        sep = '\\t', \n",
    "                        header = None,\n",
    "                        names = ['chrom','start','end','Geneid'])\n",
    "SBG_df = pd.read_csv('../data/results/deseq2/allacma_fusca/v_1/allacma_fusca.DEseq2_results_filtered.tsv', \n",
    "                        sep = '\\t')\n",
    "raw_df = pd.read_csv('../data/results/deseq2/allacma_fusca/v_1/allacma_fusca.DEseq2_results_raw.tsv', \n",
    "                        sep = '\\t')\n",
    "counts_df = pd.read_csv('../data/results/deseq2/allacma_fusca/v_1/allacma_fusca.DEseq2_counts.tsv',\n",
    "                        sep = '\\t')"
   ]
  },
  {
   "cell_type": "code",
   "execution_count": 187,
   "id": "f51ff1bb",
   "metadata": {},
   "outputs": [],
   "source": [
    "sample_names = ['AF_F_1','AF_F_2','AF_F_3','AF_F_4','AF_F_5','AF_F_6','AF_F_7','AF_F_8','AF_F_9','AF_F_10',\n",
    "    'AF_M_1','AF_M_2','AF_M_3','AF_M_4','AF_M_5','AF_M_6','AF_M_7','AF_M_8','AF_M_9','AF_M_10']"
   ]
  },
  {
   "cell_type": "code",
   "execution_count": 188,
   "id": "f761b5bd",
   "metadata": {},
   "outputs": [],
   "source": [
    "gene_bed_df['length'] = gene_bed_df['end'] - gene_bed_df['start']\n",
    "counts_df['chrom'] = gene_bed_df['chrom']\n",
    "counts_df['length(kb)'] = gene_bed_df['length']/1000"
   ]
  },
  {
   "cell_type": "code",
   "execution_count": 189,
   "id": "92dff423",
   "metadata": {},
   "outputs": [
    {
     "data": {
      "text/plain": [
       "count    25943.000000\n",
       "mean         2.978753\n",
       "std          6.260916\n",
       "min          0.203000\n",
       "25%          0.722000\n",
       "50%          1.443000\n",
       "75%          2.762000\n",
       "max        146.042000\n",
       "Name: length(kb), dtype: float64"
      ]
     },
     "execution_count": 189,
     "metadata": {},
     "output_type": "execute_result"
    }
   ],
   "source": [
    "counts_df['length(kb)'].describe()"
   ]
  },
  {
   "cell_type": "code",
   "execution_count": 183,
   "id": "cb61b2c9",
   "metadata": {},
   "outputs": [
    {
     "data": {
      "text/html": [
       "<div>\n",
       "<style scoped>\n",
       "    .dataframe tbody tr th:only-of-type {\n",
       "        vertical-align: middle;\n",
       "    }\n",
       "\n",
       "    .dataframe tbody tr th {\n",
       "        vertical-align: top;\n",
       "    }\n",
       "\n",
       "    .dataframe thead th {\n",
       "        text-align: right;\n",
       "    }\n",
       "</style>\n",
       "<table border=\"1\" class=\"dataframe\">\n",
       "  <thead>\n",
       "    <tr style=\"text-align: right;\">\n",
       "      <th></th>\n",
       "      <th>Geneid</th>\n",
       "      <th>AF_F_1</th>\n",
       "      <th>AF_F_2</th>\n",
       "      <th>AF_F_3</th>\n",
       "      <th>AF_F_4</th>\n",
       "      <th>AF_F_5</th>\n",
       "      <th>AF_F_6</th>\n",
       "      <th>AF_F_7</th>\n",
       "      <th>AF_F_8</th>\n",
       "      <th>AF_F_9</th>\n",
       "      <th>...</th>\n",
       "      <th>AF_M_4</th>\n",
       "      <th>AF_M_5</th>\n",
       "      <th>AF_M_6</th>\n",
       "      <th>AF_M_7</th>\n",
       "      <th>AF_M_8</th>\n",
       "      <th>AF_M_9</th>\n",
       "      <th>AF_M_10</th>\n",
       "      <th>chrom</th>\n",
       "      <th>length</th>\n",
       "      <th>length(kb)</th>\n",
       "    </tr>\n",
       "  </thead>\n",
       "  <tbody>\n",
       "    <tr>\n",
       "      <th>0</th>\n",
       "      <td>g_27516</td>\n",
       "      <td>117</td>\n",
       "      <td>94</td>\n",
       "      <td>5</td>\n",
       "      <td>3</td>\n",
       "      <td>304</td>\n",
       "      <td>0</td>\n",
       "      <td>0</td>\n",
       "      <td>0</td>\n",
       "      <td>0</td>\n",
       "      <td>...</td>\n",
       "      <td>1229</td>\n",
       "      <td>736</td>\n",
       "      <td>0</td>\n",
       "      <td>0</td>\n",
       "      <td>0</td>\n",
       "      <td>0</td>\n",
       "      <td>0</td>\n",
       "      <td>CAMXBY010000001.1</td>\n",
       "      <td>6479</td>\n",
       "      <td>6.479</td>\n",
       "    </tr>\n",
       "    <tr>\n",
       "      <th>1</th>\n",
       "      <td>g_89</td>\n",
       "      <td>0</td>\n",
       "      <td>0</td>\n",
       "      <td>0</td>\n",
       "      <td>0</td>\n",
       "      <td>0</td>\n",
       "      <td>0</td>\n",
       "      <td>0</td>\n",
       "      <td>0</td>\n",
       "      <td>0</td>\n",
       "      <td>...</td>\n",
       "      <td>0</td>\n",
       "      <td>0</td>\n",
       "      <td>0</td>\n",
       "      <td>0</td>\n",
       "      <td>0</td>\n",
       "      <td>0</td>\n",
       "      <td>0</td>\n",
       "      <td>CAMXBY010000002.1</td>\n",
       "      <td>431</td>\n",
       "      <td>0.431</td>\n",
       "    </tr>\n",
       "    <tr>\n",
       "      <th>2</th>\n",
       "      <td>g_92</td>\n",
       "      <td>31</td>\n",
       "      <td>82</td>\n",
       "      <td>15</td>\n",
       "      <td>49</td>\n",
       "      <td>134</td>\n",
       "      <td>0</td>\n",
       "      <td>0</td>\n",
       "      <td>0</td>\n",
       "      <td>0</td>\n",
       "      <td>...</td>\n",
       "      <td>554</td>\n",
       "      <td>170</td>\n",
       "      <td>449</td>\n",
       "      <td>243</td>\n",
       "      <td>35</td>\n",
       "      <td>0</td>\n",
       "      <td>0</td>\n",
       "      <td>CAMXBY010000002.1</td>\n",
       "      <td>2450</td>\n",
       "      <td>2.450</td>\n",
       "    </tr>\n",
       "    <tr>\n",
       "      <th>3</th>\n",
       "      <td>g_94</td>\n",
       "      <td>89</td>\n",
       "      <td>143</td>\n",
       "      <td>142</td>\n",
       "      <td>118</td>\n",
       "      <td>91</td>\n",
       "      <td>29</td>\n",
       "      <td>11</td>\n",
       "      <td>24</td>\n",
       "      <td>40</td>\n",
       "      <td>...</td>\n",
       "      <td>63</td>\n",
       "      <td>173</td>\n",
       "      <td>44</td>\n",
       "      <td>56</td>\n",
       "      <td>51</td>\n",
       "      <td>0</td>\n",
       "      <td>0</td>\n",
       "      <td>CAMXBY010000002.1</td>\n",
       "      <td>1934</td>\n",
       "      <td>1.934</td>\n",
       "    </tr>\n",
       "    <tr>\n",
       "      <th>4</th>\n",
       "      <td>g_95</td>\n",
       "      <td>84</td>\n",
       "      <td>138</td>\n",
       "      <td>139</td>\n",
       "      <td>70</td>\n",
       "      <td>87</td>\n",
       "      <td>15</td>\n",
       "      <td>10</td>\n",
       "      <td>20</td>\n",
       "      <td>18</td>\n",
       "      <td>...</td>\n",
       "      <td>88</td>\n",
       "      <td>150</td>\n",
       "      <td>26</td>\n",
       "      <td>42</td>\n",
       "      <td>46</td>\n",
       "      <td>0</td>\n",
       "      <td>0</td>\n",
       "      <td>CAMXBY010000002.1</td>\n",
       "      <td>451</td>\n",
       "      <td>0.451</td>\n",
       "    </tr>\n",
       "    <tr>\n",
       "      <th>...</th>\n",
       "      <td>...</td>\n",
       "      <td>...</td>\n",
       "      <td>...</td>\n",
       "      <td>...</td>\n",
       "      <td>...</td>\n",
       "      <td>...</td>\n",
       "      <td>...</td>\n",
       "      <td>...</td>\n",
       "      <td>...</td>\n",
       "      <td>...</td>\n",
       "      <td>...</td>\n",
       "      <td>...</td>\n",
       "      <td>...</td>\n",
       "      <td>...</td>\n",
       "      <td>...</td>\n",
       "      <td>...</td>\n",
       "      <td>...</td>\n",
       "      <td>...</td>\n",
       "      <td>...</td>\n",
       "      <td>...</td>\n",
       "      <td>...</td>\n",
       "    </tr>\n",
       "    <tr>\n",
       "      <th>25938</th>\n",
       "      <td>g_4693</td>\n",
       "      <td>0</td>\n",
       "      <td>0</td>\n",
       "      <td>0</td>\n",
       "      <td>0</td>\n",
       "      <td>0</td>\n",
       "      <td>0</td>\n",
       "      <td>0</td>\n",
       "      <td>0</td>\n",
       "      <td>0</td>\n",
       "      <td>...</td>\n",
       "      <td>0</td>\n",
       "      <td>0</td>\n",
       "      <td>1</td>\n",
       "      <td>3</td>\n",
       "      <td>0</td>\n",
       "      <td>0</td>\n",
       "      <td>0</td>\n",
       "      <td>OX359250.1</td>\n",
       "      <td>397</td>\n",
       "      <td>0.397</td>\n",
       "    </tr>\n",
       "    <tr>\n",
       "      <th>25939</th>\n",
       "      <td>g_4695</td>\n",
       "      <td>0</td>\n",
       "      <td>0</td>\n",
       "      <td>1</td>\n",
       "      <td>0</td>\n",
       "      <td>0</td>\n",
       "      <td>0</td>\n",
       "      <td>0</td>\n",
       "      <td>0</td>\n",
       "      <td>0</td>\n",
       "      <td>...</td>\n",
       "      <td>0</td>\n",
       "      <td>1</td>\n",
       "      <td>0</td>\n",
       "      <td>0</td>\n",
       "      <td>0</td>\n",
       "      <td>0</td>\n",
       "      <td>0</td>\n",
       "      <td>OX359250.1</td>\n",
       "      <td>3413</td>\n",
       "      <td>3.413</td>\n",
       "    </tr>\n",
       "    <tr>\n",
       "      <th>25940</th>\n",
       "      <td>g_4696</td>\n",
       "      <td>0</td>\n",
       "      <td>0</td>\n",
       "      <td>0</td>\n",
       "      <td>0</td>\n",
       "      <td>0</td>\n",
       "      <td>0</td>\n",
       "      <td>0</td>\n",
       "      <td>0</td>\n",
       "      <td>0</td>\n",
       "      <td>...</td>\n",
       "      <td>0</td>\n",
       "      <td>0</td>\n",
       "      <td>0</td>\n",
       "      <td>0</td>\n",
       "      <td>0</td>\n",
       "      <td>0</td>\n",
       "      <td>0</td>\n",
       "      <td>OX359250.1</td>\n",
       "      <td>1608</td>\n",
       "      <td>1.608</td>\n",
       "    </tr>\n",
       "    <tr>\n",
       "      <th>25941</th>\n",
       "      <td>g_4706</td>\n",
       "      <td>0</td>\n",
       "      <td>0</td>\n",
       "      <td>0</td>\n",
       "      <td>0</td>\n",
       "      <td>0</td>\n",
       "      <td>0</td>\n",
       "      <td>0</td>\n",
       "      <td>0</td>\n",
       "      <td>0</td>\n",
       "      <td>...</td>\n",
       "      <td>0</td>\n",
       "      <td>1</td>\n",
       "      <td>0</td>\n",
       "      <td>0</td>\n",
       "      <td>0</td>\n",
       "      <td>0</td>\n",
       "      <td>0</td>\n",
       "      <td>OX359250.1</td>\n",
       "      <td>1430</td>\n",
       "      <td>1.430</td>\n",
       "    </tr>\n",
       "    <tr>\n",
       "      <th>25942</th>\n",
       "      <td>g_4711</td>\n",
       "      <td>0</td>\n",
       "      <td>0</td>\n",
       "      <td>0</td>\n",
       "      <td>0</td>\n",
       "      <td>0</td>\n",
       "      <td>0</td>\n",
       "      <td>0</td>\n",
       "      <td>0</td>\n",
       "      <td>0</td>\n",
       "      <td>...</td>\n",
       "      <td>0</td>\n",
       "      <td>0</td>\n",
       "      <td>0</td>\n",
       "      <td>0</td>\n",
       "      <td>0</td>\n",
       "      <td>0</td>\n",
       "      <td>0</td>\n",
       "      <td>OX359250.1</td>\n",
       "      <td>509</td>\n",
       "      <td>0.509</td>\n",
       "    </tr>\n",
       "  </tbody>\n",
       "</table>\n",
       "<p>25943 rows × 24 columns</p>\n",
       "</div>"
      ],
      "text/plain": [
       "        Geneid  AF_F_1  AF_F_2  AF_F_3  AF_F_4  AF_F_5  AF_F_6  AF_F_7  \\\n",
       "0      g_27516     117      94       5       3     304       0       0   \n",
       "1         g_89       0       0       0       0       0       0       0   \n",
       "2         g_92      31      82      15      49     134       0       0   \n",
       "3         g_94      89     143     142     118      91      29      11   \n",
       "4         g_95      84     138     139      70      87      15      10   \n",
       "...        ...     ...     ...     ...     ...     ...     ...     ...   \n",
       "25938   g_4693       0       0       0       0       0       0       0   \n",
       "25939   g_4695       0       0       1       0       0       0       0   \n",
       "25940   g_4696       0       0       0       0       0       0       0   \n",
       "25941   g_4706       0       0       0       0       0       0       0   \n",
       "25942   g_4711       0       0       0       0       0       0       0   \n",
       "\n",
       "       AF_F_8  AF_F_9  ...  AF_M_4  AF_M_5  AF_M_6  AF_M_7  AF_M_8  AF_M_9  \\\n",
       "0           0       0  ...    1229     736       0       0       0       0   \n",
       "1           0       0  ...       0       0       0       0       0       0   \n",
       "2           0       0  ...     554     170     449     243      35       0   \n",
       "3          24      40  ...      63     173      44      56      51       0   \n",
       "4          20      18  ...      88     150      26      42      46       0   \n",
       "...       ...     ...  ...     ...     ...     ...     ...     ...     ...   \n",
       "25938       0       0  ...       0       0       1       3       0       0   \n",
       "25939       0       0  ...       0       1       0       0       0       0   \n",
       "25940       0       0  ...       0       0       0       0       0       0   \n",
       "25941       0       0  ...       0       1       0       0       0       0   \n",
       "25942       0       0  ...       0       0       0       0       0       0   \n",
       "\n",
       "       AF_M_10              chrom  length  length(kb)  \n",
       "0            0  CAMXBY010000001.1    6479       6.479  \n",
       "1            0  CAMXBY010000002.1     431       0.431  \n",
       "2            0  CAMXBY010000002.1    2450       2.450  \n",
       "3            0  CAMXBY010000002.1    1934       1.934  \n",
       "4            0  CAMXBY010000002.1     451       0.451  \n",
       "...        ...                ...     ...         ...  \n",
       "25938        0         OX359250.1     397       0.397  \n",
       "25939        0         OX359250.1    3413       3.413  \n",
       "25940        0         OX359250.1    1608       1.608  \n",
       "25941        0         OX359250.1    1430       1.430  \n",
       "25942        0         OX359250.1     509       0.509  \n",
       "\n",
       "[25943 rows x 24 columns]"
      ]
     },
     "execution_count": 183,
     "metadata": {},
     "output_type": "execute_result"
    }
   ],
   "source": [
    "counts_df"
   ]
  },
  {
   "cell_type": "code",
   "execution_count": 190,
   "id": "1da90ab2",
   "metadata": {},
   "outputs": [],
   "source": [
    "#need a function to calculate TPM\n",
    "# take read count\n",
    "# divide by length of gene (rpk)\n",
    "# sum RPK for sample and divide by 1,000,000\n",
    "# divide RPK by this number (tpm)"
   ]
  },
  {
   "cell_type": "code",
   "execution_count": 167,
   "id": "1a326cc3",
   "metadata": {},
   "outputs": [],
   "source": [
    "gene_bed_df = gene_bed_df.merge(SBG_df[['Geneid','log2FoldChange']], \n",
    "                                       how = 'outer',\n",
    "                                       on = 'Geneid')"
   ]
  },
  {
   "cell_type": "code",
   "execution_count": 168,
   "id": "61ed8579",
   "metadata": {},
   "outputs": [],
   "source": [
    "bias_conditions = [\n",
    "    (gene_bed_df['log2FoldChange'] > 0),\n",
    "    (gene_bed_df['log2FoldChange'] < 0)]\n",
    "bias_outcomes = ['male_biased', 'female_biased']\n",
    "gene_bed_df['bias'] = np.select(bias_conditions, bias_outcomes, default='unbiased')"
   ]
  },
  {
   "cell_type": "code",
   "execution_count": 169,
   "id": "08d23c01",
   "metadata": {
    "scrolled": false
   },
   "outputs": [],
   "source": [
    "chromosomes = ['OX359245.1',\n",
    " 'OX359246.1',\n",
    " 'OX359247.1',\n",
    " 'OX359248.1',\n",
    " 'OX359249.1',\n",
    " 'OX359250.1']\n",
    "\n",
    "chrom_df = gene_bed_df[gene_bed_df['chrom'].isin(chromosomes)]"
   ]
  },
  {
   "cell_type": "code",
   "execution_count": 170,
   "id": "bca4a909",
   "metadata": {},
   "outputs": [
    {
     "data": {
      "text/plain": [
       "chrom       bias         \n",
       "OX359245.1  unbiased         4572\n",
       "            male_biased       953\n",
       "            female_biased     425\n",
       "OX359246.1  unbiased         4455\n",
       "            male_biased       878\n",
       "            female_biased     456\n",
       "OX359247.1  unbiased         3370\n",
       "            male_biased       901\n",
       "            female_biased     381\n",
       "OX359248.1  unbiased         2760\n",
       "            male_biased       718\n",
       "            female_biased     354\n",
       "OX359249.1  unbiased         1793\n",
       "            male_biased       735\n",
       "            female_biased     231\n",
       "OX359250.1  unbiased         1717\n",
       "            male_biased       861\n",
       "            female_biased     137\n",
       "Name: count, dtype: int64"
      ]
     },
     "execution_count": 170,
     "metadata": {},
     "output_type": "execute_result"
    }
   ],
   "source": [
    "chrom_df.groupby(['chrom'])['bias'].value_counts()"
   ]
  },
  {
   "cell_type": "code",
   "execution_count": 171,
   "id": "d1cb4858",
   "metadata": {},
   "outputs": [
    {
     "data": {
      "text/plain": [
       "chrom       bias         \n",
       "OX359245.1  unbiased         0.768403\n",
       "            male_biased      0.160168\n",
       "            female_biased    0.071429\n",
       "OX359246.1  unbiased         0.769563\n",
       "            male_biased      0.151667\n",
       "            female_biased    0.078770\n",
       "OX359247.1  unbiased         0.724420\n",
       "            male_biased      0.193680\n",
       "            female_biased    0.081900\n",
       "OX359248.1  unbiased         0.720251\n",
       "            male_biased      0.187370\n",
       "            female_biased    0.092380\n",
       "OX359249.1  unbiased         0.649873\n",
       "            male_biased      0.266401\n",
       "            female_biased    0.083726\n",
       "OX359250.1  unbiased         0.632413\n",
       "            male_biased      0.317127\n",
       "            female_biased    0.050460\n",
       "Name: proportion, dtype: float64"
      ]
     },
     "execution_count": 171,
     "metadata": {},
     "output_type": "execute_result"
    }
   ],
   "source": [
    "chrom_df.groupby(['chrom'])['bias'].value_counts(normalize='True')"
   ]
  },
  {
   "cell_type": "code",
   "execution_count": 172,
   "id": "e39705bb",
   "metadata": {
    "scrolled": false
   },
   "outputs": [
    {
     "data": {
      "image/png": "[encoded data removed]",
      "text/plain": [
       "<Figure size 720x720 with 6 Axes>"
      ]
     },
     "metadata": {
      "needs_background": "light"
     },
     "output_type": "display_data"
    }
   ],
   "source": [
    "fig, axs = plt.subplots(nrows = 6, sharex=True, figsize = (10,10))\n",
    "\n",
    "for i, chrom in enumerate(chromosomes):\n",
    "    \n",
    "    sns.histplot(chrom_df[chrom_df['chrom']==chrom]['log2FoldChange'],\n",
    "                color = 'grey',\n",
    "                stat = 'proportion',\n",
    "                bins = np.arange(-23, 26, 1),\n",
    "                ax = axs[i])\n",
    "    axs[i].set_title(chrom, loc = 'right')\n",
    "    \n",
    "\n",
    "plt.tight_layout()"
   ]
  },
  {
   "cell_type": "code",
   "execution_count": 173,
   "id": "09c23730",
   "metadata": {},
   "outputs": [],
   "source": [
    "barplot_df_count = chrom_df.groupby(['chrom'])['bias'].value_counts().reset_index()\n",
    "barplot_df_prop = chrom_df.groupby(['chrom'])['bias'].value_counts(normalize='True').reset_index()"
   ]
  },
  {
   "cell_type": "code",
   "execution_count": 174,
   "id": "5074d22c",
   "metadata": {},
   "outputs": [
    {
     "data": {
      "image/png": "[encoded data removed]",
      "text/plain": [
       "<Figure size 720x720 with 2 Axes>"
      ]
     },
     "metadata": {
      "needs_background": "light"
     },
     "output_type": "display_data"
    }
   ],
   "source": [
    "fig, axs = plt.subplots(nrows = 2, sharex=True, figsize = (10,10))\n",
    "\n",
    "sns.barplot(data=barplot_df_count, \n",
    "            x=\"chrom\", \n",
    "            y=\"count\",\n",
    "            hue=\"bias\",\n",
    "            ax = axs[0])\n",
    "\n",
    "sns.barplot(data=barplot_df_prop, \n",
    "            x=\"chrom\", \n",
    "            y=\"proportion\",\n",
    "            hue=\"bias\",\n",
    "            ax = axs[1])\n",
    "\n",
    "axs[1].legend().set_visible(False)"
   ]
  },
  {
   "cell_type": "code",
   "execution_count": 175,
   "id": "4d040482",
   "metadata": {},
   "outputs": [],
   "source": [
    "counts_chrom_df = counts_df[counts_df['chrom'].isin(chromosomes)]"
   ]
  },
  {
   "cell_type": "code",
   "execution_count": 177,
   "id": "a15fc21a",
   "metadata": {},
   "outputs": [
    {
     "data": {
      "text/html": [
       "<div>\n",
       "<style scoped>\n",
       "    .dataframe tbody tr th:only-of-type {\n",
       "        vertical-align: middle;\n",
       "    }\n",
       "\n",
       "    .dataframe tbody tr th {\n",
       "        vertical-align: top;\n",
       "    }\n",
       "\n",
       "    .dataframe thead tr th {\n",
       "        text-align: left;\n",
       "    }\n",
       "\n",
       "    .dataframe thead tr:last-of-type th {\n",
       "        text-align: right;\n",
       "    }\n",
       "</style>\n",
       "<table border=\"1\" class=\"dataframe\">\n",
       "  <thead>\n",
       "    <tr>\n",
       "      <th></th>\n",
       "      <th colspan=\"8\" halign=\"left\">AF_F_1</th>\n",
       "    </tr>\n",
       "    <tr>\n",
       "      <th></th>\n",
       "      <th>count</th>\n",
       "      <th>mean</th>\n",
       "      <th>std</th>\n",
       "      <th>min</th>\n",
       "      <th>25%</th>\n",
       "      <th>50%</th>\n",
       "      <th>75%</th>\n",
       "      <th>max</th>\n",
       "    </tr>\n",
       "    <tr>\n",
       "      <th>chrom</th>\n",
       "      <th></th>\n",
       "      <th></th>\n",
       "      <th></th>\n",
       "      <th></th>\n",
       "      <th></th>\n",
       "      <th></th>\n",
       "      <th></th>\n",
       "      <th></th>\n",
       "    </tr>\n",
       "  </thead>\n",
       "  <tbody>\n",
       "    <tr>\n",
       "      <th>OX359245.1</th>\n",
       "      <td>5950.0</td>\n",
       "      <td>770.669412</td>\n",
       "      <td>8661.420491</td>\n",
       "      <td>0.0</td>\n",
       "      <td>0.0</td>\n",
       "      <td>3.0</td>\n",
       "      <td>106.00</td>\n",
       "      <td>591587.0</td>\n",
       "    </tr>\n",
       "    <tr>\n",
       "      <th>OX359246.1</th>\n",
       "      <td>5789.0</td>\n",
       "      <td>920.173087</td>\n",
       "      <td>7693.560854</td>\n",
       "      <td>0.0</td>\n",
       "      <td>0.0</td>\n",
       "      <td>5.0</td>\n",
       "      <td>246.00</td>\n",
       "      <td>496920.0</td>\n",
       "    </tr>\n",
       "    <tr>\n",
       "      <th>OX359247.1</th>\n",
       "      <td>4652.0</td>\n",
       "      <td>1759.193035</td>\n",
       "      <td>8628.702137</td>\n",
       "      <td>0.0</td>\n",
       "      <td>1.0</td>\n",
       "      <td>58.0</td>\n",
       "      <td>918.25</td>\n",
       "      <td>222172.0</td>\n",
       "    </tr>\n",
       "    <tr>\n",
       "      <th>OX359248.1</th>\n",
       "      <td>3832.0</td>\n",
       "      <td>2300.678236</td>\n",
       "      <td>12796.984383</td>\n",
       "      <td>0.0</td>\n",
       "      <td>2.0</td>\n",
       "      <td>121.5</td>\n",
       "      <td>1293.25</td>\n",
       "      <td>537522.0</td>\n",
       "    </tr>\n",
       "    <tr>\n",
       "      <th>OX359249.1</th>\n",
       "      <td>2759.0</td>\n",
       "      <td>2582.009424</td>\n",
       "      <td>15535.362640</td>\n",
       "      <td>0.0</td>\n",
       "      <td>2.0</td>\n",
       "      <td>190.0</td>\n",
       "      <td>1647.50</td>\n",
       "      <td>624400.0</td>\n",
       "    </tr>\n",
       "    <tr>\n",
       "      <th>OX359250.1</th>\n",
       "      <td>2715.0</td>\n",
       "      <td>2149.998895</td>\n",
       "      <td>19268.226321</td>\n",
       "      <td>0.0</td>\n",
       "      <td>0.0</td>\n",
       "      <td>15.0</td>\n",
       "      <td>814.50</td>\n",
       "      <td>679949.0</td>\n",
       "    </tr>\n",
       "  </tbody>\n",
       "</table>\n",
       "</div>"
      ],
      "text/plain": [
       "            AF_F_1                                                       \\\n",
       "             count         mean           std  min  25%    50%      75%   \n",
       "chrom                                                                     \n",
       "OX359245.1  5950.0   770.669412   8661.420491  0.0  0.0    3.0   106.00   \n",
       "OX359246.1  5789.0   920.173087   7693.560854  0.0  0.0    5.0   246.00   \n",
       "OX359247.1  4652.0  1759.193035   8628.702137  0.0  1.0   58.0   918.25   \n",
       "OX359248.1  3832.0  2300.678236  12796.984383  0.0  2.0  121.5  1293.25   \n",
       "OX359249.1  2759.0  2582.009424  15535.362640  0.0  2.0  190.0  1647.50   \n",
       "OX359250.1  2715.0  2149.998895  19268.226321  0.0  0.0   15.0   814.50   \n",
       "\n",
       "                      \n",
       "                 max  \n",
       "chrom                 \n",
       "OX359245.1  591587.0  \n",
       "OX359246.1  496920.0  \n",
       "OX359247.1  222172.0  \n",
       "OX359248.1  537522.0  \n",
       "OX359249.1  624400.0  \n",
       "OX359250.1  679949.0  "
      ]
     },
     "execution_count": 177,
     "metadata": {},
     "output_type": "execute_result"
    }
   ],
   "source": [
    "counts_chrom_df[['chrom','AF_F_1']].groupby('chrom').describe()"
   ]
  },
  {
   "cell_type": "code",
   "execution_count": 119,
   "id": "6b5b077d",
   "metadata": {},
   "outputs": [],
   "source": [
    "count_matrix = counts_chrom_df.groupby('chrom')[sample_names].mean()"
   ]
  },
  {
   "cell_type": "code",
   "execution_count": 128,
   "id": "3633b8e6",
   "metadata": {},
   "outputs": [
    {
     "data": {
      "text/plain": [
       "Text(1.0, 1.0, 'DESEQ2 normalized counts')"
      ]
     },
     "execution_count": 128,
     "metadata": {},
     "output_type": "execute_result"
    },
    {
     "data": {
      "image/png": "[encoded data removed]",
      "text/plain": [
       "<Figure size 720x720 with 2 Axes>"
      ]
     },
     "metadata": {
      "needs_background": "light"
     },
     "output_type": "display_data"
    }
   ],
   "source": [
    "fig, axs = plt.subplots(nrows = 1, figsize = (10,10))\n",
    "\n",
    "sns.heatmap(data = count_matrix)\n",
    "axs.set_title('DESEQ2 normalized counts', loc = 'right')"
   ]
  },
  {
   "cell_type": "code",
   "execution_count": 145,
   "id": "50892d87",
   "metadata": {},
   "outputs": [
    {
     "data": {
      "text/plain": [
       "259       1206.192777\n",
       "277      11564.503170\n",
       "292       1196.788730\n",
       "293        642.444901\n",
       "317       1331.415088\n",
       "             ...     \n",
       "25892     1188.869532\n",
       "25893      200.454688\n",
       "25900      307.858805\n",
       "25911      281.131513\n",
       "25919     1582.849610\n",
       "Name: AF_F_1, Length: 8854, dtype: float64"
      ]
     },
     "execution_count": 145,
     "metadata": {},
     "output_type": "execute_result"
    }
   ],
   "source": [
    "counts_chrom_df[counts_chrom_df['AF_F_1'] > 100]['AF_F_1']"
   ]
  },
  {
   "cell_type": "code",
   "execution_count": 147,
   "id": "dd3a5b92",
   "metadata": {},
   "outputs": [
    {
     "data": {
      "text/plain": [
       "<Axes: xlabel='AF_F_1', ylabel='Count'>"
      ]
     },
     "execution_count": 147,
     "metadata": {},
     "output_type": "execute_result"
    },
    {
     "data": {
      "image/png": "[encoded data removed]",
      "text/plain": [
       "<Figure size 576x576 with 1 Axes>"
      ]
     },
     "metadata": {
      "needs_background": "light"
     },
     "output_type": "display_data"
    }
   ],
   "source": [
    "fig, axs = plt.subplots(nrows = 1, figsize = (8,8))\n",
    "\n",
    "sns.histplot(data = counts_chrom_df[counts_chrom_df['AF_F_1'] > 100],\n",
    "             x = 'AF_F_1',\n",
    "             hue = 'chrom',\n",
    "             bins = 100,\n",
    "             stat = 'count')"
   ]
  },
  {
   "cell_type": "code",
   "execution_count": null,
   "id": "7c1c8934",
   "metadata": {},
   "outputs": [],
   "source": []
  }
 ],
 "metadata": {
  "kernelspec": {
   "display_name": "Python 3 (ipykernel)",
   "language": "python",
   "name": "python3"
  },
  "language_info": {
   "codemirror_mode": {
    "name": "ipython",
    "version": 3
   },
   "file_extension": ".py",
   "mimetype": "text/x-python",
   "name": "python",
   "nbconvert_exporter": "python",
   "pygments_lexer": "ipython3",
   "version": "3.10.12"
  }
 },
 "nbformat": 4,
 "nbformat_minor": 5
}
