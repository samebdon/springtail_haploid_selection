{
 "cells": [
  {
   "cell_type": "code",
   "execution_count": 26,
   "id": "7b4f5307",
   "metadata": {},
   "outputs": [],
   "source": [
    "import pandas as pd\n",
    "import numpy as np\n",
    "import seaborn as sns\n",
    "import matplotlib.pyplot as plt\n",
    "import random"
   ]
  },
  {
   "cell_type": "code",
   "execution_count": 27,
   "id": "a4a50532",
   "metadata": {},
   "outputs": [],
   "source": [
    "def read_counts2tpm(df):\n",
    "\n",
    "    result = df\n",
    "    sample_reads = result.loc[:, result.columns != 'length'].copy()\n",
    "    gene_len = result.loc[:, ['length']]\n",
    "    normalize_by_genelength = sample_reads.values / gene_len.values\n",
    "    scaling_factor = (np.sum(normalize_by_genelength, axis=0).reshape(1, -1))/1e6\n",
    "    normalize_sequencingdepth = normalize_by_genelength / scaling_factor\n",
    "    tpm = normalize_sequencingdepth\n",
    "    return tpm"
   ]
  },
  {
   "cell_type": "code",
   "execution_count": 28,
   "id": "d647265f",
   "metadata": {},
   "outputs": [
    {
     "ename": "FileNotFoundError",
     "evalue": "[Errno 2] No such file or directory: '../data/results/deseq/allacma_fusca.tsebra.augustus.genes.bed'",
     "output_type": "error",
     "traceback": [
      "\u001b[0;31m---------------------------------------------------------------------------\u001b[0m",
      "\u001b[0;31mFileNotFoundError\u001b[0m                         Traceback (most recent call last)",
      "Cell \u001b[0;32mIn[28], line 1\u001b[0m\n\u001b[0;32m----> 1\u001b[0m gene_bed_df \u001b[38;5;241m=\u001b[39m \u001b[43mpd\u001b[49m\u001b[38;5;241;43m.\u001b[39;49m\u001b[43mread_csv\u001b[49m\u001b[43m(\u001b[49m\u001b[38;5;124;43m'\u001b[39;49m\u001b[38;5;124;43m../data/results/deseq/allacma_fusca.tsebra.augustus.genes.bed\u001b[39;49m\u001b[38;5;124;43m'\u001b[39;49m\u001b[43m,\u001b[49m\u001b[43m \u001b[49m\n\u001b[1;32m      2\u001b[0m \u001b[43m                        \u001b[49m\u001b[43msep\u001b[49m\u001b[43m \u001b[49m\u001b[38;5;241;43m=\u001b[39;49m\u001b[43m \u001b[49m\u001b[38;5;124;43m'\u001b[39;49m\u001b[38;5;130;43;01m\\t\u001b[39;49;00m\u001b[38;5;124;43m'\u001b[39;49m\u001b[43m,\u001b[49m\u001b[43m \u001b[49m\n\u001b[1;32m      3\u001b[0m \u001b[43m                        \u001b[49m\u001b[43mheader\u001b[49m\u001b[43m \u001b[49m\u001b[38;5;241;43m=\u001b[39;49m\u001b[43m \u001b[49m\u001b[38;5;28;43;01mNone\u001b[39;49;00m\u001b[43m,\u001b[49m\n\u001b[1;32m      4\u001b[0m \u001b[43m                        \u001b[49m\u001b[43mnames\u001b[49m\u001b[43m \u001b[49m\u001b[38;5;241;43m=\u001b[39;49m\u001b[43m \u001b[49m\u001b[43m[\u001b[49m\u001b[38;5;124;43m'\u001b[39;49m\u001b[38;5;124;43mchrom\u001b[39;49m\u001b[38;5;124;43m'\u001b[39;49m\u001b[43m,\u001b[49m\u001b[38;5;124;43m'\u001b[39;49m\u001b[38;5;124;43mstart\u001b[39;49m\u001b[38;5;124;43m'\u001b[39;49m\u001b[43m,\u001b[49m\u001b[38;5;124;43m'\u001b[39;49m\u001b[38;5;124;43mend\u001b[39;49m\u001b[38;5;124;43m'\u001b[39;49m\u001b[43m,\u001b[49m\u001b[38;5;124;43m'\u001b[39;49m\u001b[38;5;124;43mGeneid\u001b[39;49m\u001b[38;5;124;43m'\u001b[39;49m\u001b[43m]\u001b[49m\u001b[43m)\u001b[49m\n\u001b[1;32m      5\u001b[0m SBG_df \u001b[38;5;241m=\u001b[39m pd\u001b[38;5;241m.\u001b[39mread_csv(\u001b[38;5;124m'\u001b[39m\u001b[38;5;124m../data/results/deseq2/allacma_fusca/v_2/allacma_fusca.DEseq2_results_filtered.tsv\u001b[39m\u001b[38;5;124m'\u001b[39m, \n\u001b[1;32m      6\u001b[0m                         sep \u001b[38;5;241m=\u001b[39m \u001b[38;5;124m'\u001b[39m\u001b[38;5;130;01m\\t\u001b[39;00m\u001b[38;5;124m'\u001b[39m)\n\u001b[1;32m      7\u001b[0m raw_df \u001b[38;5;241m=\u001b[39m pd\u001b[38;5;241m.\u001b[39mread_csv(\u001b[38;5;124m'\u001b[39m\u001b[38;5;124m../data/results/deseq2/allacma_fusca/v_2/allacma_fusca.DEseq2_results_raw.tsv\u001b[39m\u001b[38;5;124m'\u001b[39m, \n\u001b[1;32m      8\u001b[0m                         sep \u001b[38;5;241m=\u001b[39m \u001b[38;5;124m'\u001b[39m\u001b[38;5;130;01m\\t\u001b[39;00m\u001b[38;5;124m'\u001b[39m)\n",
      "File \u001b[0;32m~/mambaforge/envs/herho/lib/python3.10/site-packages/pandas/io/parsers/readers.py:912\u001b[0m, in \u001b[0;36mread_csv\u001b[0;34m(filepath_or_buffer, sep, delimiter, header, names, index_col, usecols, dtype, engine, converters, true_values, false_values, skipinitialspace, skiprows, skipfooter, nrows, na_values, keep_default_na, na_filter, verbose, skip_blank_lines, parse_dates, infer_datetime_format, keep_date_col, date_parser, date_format, dayfirst, cache_dates, iterator, chunksize, compression, thousands, decimal, lineterminator, quotechar, quoting, doublequote, escapechar, comment, encoding, encoding_errors, dialect, on_bad_lines, delim_whitespace, low_memory, memory_map, float_precision, storage_options, dtype_backend)\u001b[0m\n\u001b[1;32m    899\u001b[0m kwds_defaults \u001b[38;5;241m=\u001b[39m _refine_defaults_read(\n\u001b[1;32m    900\u001b[0m     dialect,\n\u001b[1;32m    901\u001b[0m     delimiter,\n\u001b[0;32m   (...)\u001b[0m\n\u001b[1;32m    908\u001b[0m     dtype_backend\u001b[38;5;241m=\u001b[39mdtype_backend,\n\u001b[1;32m    909\u001b[0m )\n\u001b[1;32m    910\u001b[0m kwds\u001b[38;5;241m.\u001b[39mupdate(kwds_defaults)\n\u001b[0;32m--> 912\u001b[0m \u001b[38;5;28;01mreturn\u001b[39;00m \u001b[43m_read\u001b[49m\u001b[43m(\u001b[49m\u001b[43mfilepath_or_buffer\u001b[49m\u001b[43m,\u001b[49m\u001b[43m \u001b[49m\u001b[43mkwds\u001b[49m\u001b[43m)\u001b[49m\n",
      "File \u001b[0;32m~/mambaforge/envs/herho/lib/python3.10/site-packages/pandas/io/parsers/readers.py:577\u001b[0m, in \u001b[0;36m_read\u001b[0;34m(filepath_or_buffer, kwds)\u001b[0m\n\u001b[1;32m    574\u001b[0m _validate_names(kwds\u001b[38;5;241m.\u001b[39mget(\u001b[38;5;124m\"\u001b[39m\u001b[38;5;124mnames\u001b[39m\u001b[38;5;124m\"\u001b[39m, \u001b[38;5;28;01mNone\u001b[39;00m))\n\u001b[1;32m    576\u001b[0m \u001b[38;5;66;03m# Create the parser.\u001b[39;00m\n\u001b[0;32m--> 577\u001b[0m parser \u001b[38;5;241m=\u001b[39m \u001b[43mTextFileReader\u001b[49m\u001b[43m(\u001b[49m\u001b[43mfilepath_or_buffer\u001b[49m\u001b[43m,\u001b[49m\u001b[43m \u001b[49m\u001b[38;5;241;43m*\u001b[39;49m\u001b[38;5;241;43m*\u001b[39;49m\u001b[43mkwds\u001b[49m\u001b[43m)\u001b[49m\n\u001b[1;32m    579\u001b[0m \u001b[38;5;28;01mif\u001b[39;00m chunksize \u001b[38;5;129;01mor\u001b[39;00m iterator:\n\u001b[1;32m    580\u001b[0m     \u001b[38;5;28;01mreturn\u001b[39;00m parser\n",
      "File \u001b[0;32m~/mambaforge/envs/herho/lib/python3.10/site-packages/pandas/io/parsers/readers.py:1407\u001b[0m, in \u001b[0;36mTextFileReader.__init__\u001b[0;34m(self, f, engine, **kwds)\u001b[0m\n\u001b[1;32m   1404\u001b[0m     \u001b[38;5;28mself\u001b[39m\u001b[38;5;241m.\u001b[39moptions[\u001b[38;5;124m\"\u001b[39m\u001b[38;5;124mhas_index_names\u001b[39m\u001b[38;5;124m\"\u001b[39m] \u001b[38;5;241m=\u001b[39m kwds[\u001b[38;5;124m\"\u001b[39m\u001b[38;5;124mhas_index_names\u001b[39m\u001b[38;5;124m\"\u001b[39m]\n\u001b[1;32m   1406\u001b[0m \u001b[38;5;28mself\u001b[39m\u001b[38;5;241m.\u001b[39mhandles: IOHandles \u001b[38;5;241m|\u001b[39m \u001b[38;5;28;01mNone\u001b[39;00m \u001b[38;5;241m=\u001b[39m \u001b[38;5;28;01mNone\u001b[39;00m\n\u001b[0;32m-> 1407\u001b[0m \u001b[38;5;28mself\u001b[39m\u001b[38;5;241m.\u001b[39m_engine \u001b[38;5;241m=\u001b[39m \u001b[38;5;28;43mself\u001b[39;49m\u001b[38;5;241;43m.\u001b[39;49m\u001b[43m_make_engine\u001b[49m\u001b[43m(\u001b[49m\u001b[43mf\u001b[49m\u001b[43m,\u001b[49m\u001b[43m \u001b[49m\u001b[38;5;28;43mself\u001b[39;49m\u001b[38;5;241;43m.\u001b[39;49m\u001b[43mengine\u001b[49m\u001b[43m)\u001b[49m\n",
      "File \u001b[0;32m~/mambaforge/envs/herho/lib/python3.10/site-packages/pandas/io/parsers/readers.py:1661\u001b[0m, in \u001b[0;36mTextFileReader._make_engine\u001b[0;34m(self, f, engine)\u001b[0m\n\u001b[1;32m   1659\u001b[0m     \u001b[38;5;28;01mif\u001b[39;00m \u001b[38;5;124m\"\u001b[39m\u001b[38;5;124mb\u001b[39m\u001b[38;5;124m\"\u001b[39m \u001b[38;5;129;01mnot\u001b[39;00m \u001b[38;5;129;01min\u001b[39;00m mode:\n\u001b[1;32m   1660\u001b[0m         mode \u001b[38;5;241m+\u001b[39m\u001b[38;5;241m=\u001b[39m \u001b[38;5;124m\"\u001b[39m\u001b[38;5;124mb\u001b[39m\u001b[38;5;124m\"\u001b[39m\n\u001b[0;32m-> 1661\u001b[0m \u001b[38;5;28mself\u001b[39m\u001b[38;5;241m.\u001b[39mhandles \u001b[38;5;241m=\u001b[39m \u001b[43mget_handle\u001b[49m\u001b[43m(\u001b[49m\n\u001b[1;32m   1662\u001b[0m \u001b[43m    \u001b[49m\u001b[43mf\u001b[49m\u001b[43m,\u001b[49m\n\u001b[1;32m   1663\u001b[0m \u001b[43m    \u001b[49m\u001b[43mmode\u001b[49m\u001b[43m,\u001b[49m\n\u001b[1;32m   1664\u001b[0m \u001b[43m    \u001b[49m\u001b[43mencoding\u001b[49m\u001b[38;5;241;43m=\u001b[39;49m\u001b[38;5;28;43mself\u001b[39;49m\u001b[38;5;241;43m.\u001b[39;49m\u001b[43moptions\u001b[49m\u001b[38;5;241;43m.\u001b[39;49m\u001b[43mget\u001b[49m\u001b[43m(\u001b[49m\u001b[38;5;124;43m\"\u001b[39;49m\u001b[38;5;124;43mencoding\u001b[39;49m\u001b[38;5;124;43m\"\u001b[39;49m\u001b[43m,\u001b[49m\u001b[43m \u001b[49m\u001b[38;5;28;43;01mNone\u001b[39;49;00m\u001b[43m)\u001b[49m\u001b[43m,\u001b[49m\n\u001b[1;32m   1665\u001b[0m \u001b[43m    \u001b[49m\u001b[43mcompression\u001b[49m\u001b[38;5;241;43m=\u001b[39;49m\u001b[38;5;28;43mself\u001b[39;49m\u001b[38;5;241;43m.\u001b[39;49m\u001b[43moptions\u001b[49m\u001b[38;5;241;43m.\u001b[39;49m\u001b[43mget\u001b[49m\u001b[43m(\u001b[49m\u001b[38;5;124;43m\"\u001b[39;49m\u001b[38;5;124;43mcompression\u001b[39;49m\u001b[38;5;124;43m\"\u001b[39;49m\u001b[43m,\u001b[49m\u001b[43m \u001b[49m\u001b[38;5;28;43;01mNone\u001b[39;49;00m\u001b[43m)\u001b[49m\u001b[43m,\u001b[49m\n\u001b[1;32m   1666\u001b[0m \u001b[43m    \u001b[49m\u001b[43mmemory_map\u001b[49m\u001b[38;5;241;43m=\u001b[39;49m\u001b[38;5;28;43mself\u001b[39;49m\u001b[38;5;241;43m.\u001b[39;49m\u001b[43moptions\u001b[49m\u001b[38;5;241;43m.\u001b[39;49m\u001b[43mget\u001b[49m\u001b[43m(\u001b[49m\u001b[38;5;124;43m\"\u001b[39;49m\u001b[38;5;124;43mmemory_map\u001b[39;49m\u001b[38;5;124;43m\"\u001b[39;49m\u001b[43m,\u001b[49m\u001b[43m \u001b[49m\u001b[38;5;28;43;01mFalse\u001b[39;49;00m\u001b[43m)\u001b[49m\u001b[43m,\u001b[49m\n\u001b[1;32m   1667\u001b[0m \u001b[43m    \u001b[49m\u001b[43mis_text\u001b[49m\u001b[38;5;241;43m=\u001b[39;49m\u001b[43mis_text\u001b[49m\u001b[43m,\u001b[49m\n\u001b[1;32m   1668\u001b[0m \u001b[43m    \u001b[49m\u001b[43merrors\u001b[49m\u001b[38;5;241;43m=\u001b[39;49m\u001b[38;5;28;43mself\u001b[39;49m\u001b[38;5;241;43m.\u001b[39;49m\u001b[43moptions\u001b[49m\u001b[38;5;241;43m.\u001b[39;49m\u001b[43mget\u001b[49m\u001b[43m(\u001b[49m\u001b[38;5;124;43m\"\u001b[39;49m\u001b[38;5;124;43mencoding_errors\u001b[39;49m\u001b[38;5;124;43m\"\u001b[39;49m\u001b[43m,\u001b[49m\u001b[43m \u001b[49m\u001b[38;5;124;43m\"\u001b[39;49m\u001b[38;5;124;43mstrict\u001b[39;49m\u001b[38;5;124;43m\"\u001b[39;49m\u001b[43m)\u001b[49m\u001b[43m,\u001b[49m\n\u001b[1;32m   1669\u001b[0m \u001b[43m    \u001b[49m\u001b[43mstorage_options\u001b[49m\u001b[38;5;241;43m=\u001b[39;49m\u001b[38;5;28;43mself\u001b[39;49m\u001b[38;5;241;43m.\u001b[39;49m\u001b[43moptions\u001b[49m\u001b[38;5;241;43m.\u001b[39;49m\u001b[43mget\u001b[49m\u001b[43m(\u001b[49m\u001b[38;5;124;43m\"\u001b[39;49m\u001b[38;5;124;43mstorage_options\u001b[39;49m\u001b[38;5;124;43m\"\u001b[39;49m\u001b[43m,\u001b[49m\u001b[43m \u001b[49m\u001b[38;5;28;43;01mNone\u001b[39;49;00m\u001b[43m)\u001b[49m\u001b[43m,\u001b[49m\n\u001b[1;32m   1670\u001b[0m \u001b[43m\u001b[49m\u001b[43m)\u001b[49m\n\u001b[1;32m   1671\u001b[0m \u001b[38;5;28;01massert\u001b[39;00m \u001b[38;5;28mself\u001b[39m\u001b[38;5;241m.\u001b[39mhandles \u001b[38;5;129;01mis\u001b[39;00m \u001b[38;5;129;01mnot\u001b[39;00m \u001b[38;5;28;01mNone\u001b[39;00m\n\u001b[1;32m   1672\u001b[0m f \u001b[38;5;241m=\u001b[39m \u001b[38;5;28mself\u001b[39m\u001b[38;5;241m.\u001b[39mhandles\u001b[38;5;241m.\u001b[39mhandle\n",
      "File \u001b[0;32m~/mambaforge/envs/herho/lib/python3.10/site-packages/pandas/io/common.py:859\u001b[0m, in \u001b[0;36mget_handle\u001b[0;34m(path_or_buf, mode, encoding, compression, memory_map, is_text, errors, storage_options)\u001b[0m\n\u001b[1;32m    854\u001b[0m \u001b[38;5;28;01melif\u001b[39;00m \u001b[38;5;28misinstance\u001b[39m(handle, \u001b[38;5;28mstr\u001b[39m):\n\u001b[1;32m    855\u001b[0m     \u001b[38;5;66;03m# Check whether the filename is to be opened in binary mode.\u001b[39;00m\n\u001b[1;32m    856\u001b[0m     \u001b[38;5;66;03m# Binary mode does not support 'encoding' and 'newline'.\u001b[39;00m\n\u001b[1;32m    857\u001b[0m     \u001b[38;5;28;01mif\u001b[39;00m ioargs\u001b[38;5;241m.\u001b[39mencoding \u001b[38;5;129;01mand\u001b[39;00m \u001b[38;5;124m\"\u001b[39m\u001b[38;5;124mb\u001b[39m\u001b[38;5;124m\"\u001b[39m \u001b[38;5;129;01mnot\u001b[39;00m \u001b[38;5;129;01min\u001b[39;00m ioargs\u001b[38;5;241m.\u001b[39mmode:\n\u001b[1;32m    858\u001b[0m         \u001b[38;5;66;03m# Encoding\u001b[39;00m\n\u001b[0;32m--> 859\u001b[0m         handle \u001b[38;5;241m=\u001b[39m \u001b[38;5;28;43mopen\u001b[39;49m\u001b[43m(\u001b[49m\n\u001b[1;32m    860\u001b[0m \u001b[43m            \u001b[49m\u001b[43mhandle\u001b[49m\u001b[43m,\u001b[49m\n\u001b[1;32m    861\u001b[0m \u001b[43m            \u001b[49m\u001b[43mioargs\u001b[49m\u001b[38;5;241;43m.\u001b[39;49m\u001b[43mmode\u001b[49m\u001b[43m,\u001b[49m\n\u001b[1;32m    862\u001b[0m \u001b[43m            \u001b[49m\u001b[43mencoding\u001b[49m\u001b[38;5;241;43m=\u001b[39;49m\u001b[43mioargs\u001b[49m\u001b[38;5;241;43m.\u001b[39;49m\u001b[43mencoding\u001b[49m\u001b[43m,\u001b[49m\n\u001b[1;32m    863\u001b[0m \u001b[43m            \u001b[49m\u001b[43merrors\u001b[49m\u001b[38;5;241;43m=\u001b[39;49m\u001b[43merrors\u001b[49m\u001b[43m,\u001b[49m\n\u001b[1;32m    864\u001b[0m \u001b[43m            \u001b[49m\u001b[43mnewline\u001b[49m\u001b[38;5;241;43m=\u001b[39;49m\u001b[38;5;124;43m\"\u001b[39;49m\u001b[38;5;124;43m\"\u001b[39;49m\u001b[43m,\u001b[49m\n\u001b[1;32m    865\u001b[0m \u001b[43m        \u001b[49m\u001b[43m)\u001b[49m\n\u001b[1;32m    866\u001b[0m     \u001b[38;5;28;01melse\u001b[39;00m:\n\u001b[1;32m    867\u001b[0m         \u001b[38;5;66;03m# Binary mode\u001b[39;00m\n\u001b[1;32m    868\u001b[0m         handle \u001b[38;5;241m=\u001b[39m \u001b[38;5;28mopen\u001b[39m(handle, ioargs\u001b[38;5;241m.\u001b[39mmode)\n",
      "\u001b[0;31mFileNotFoundError\u001b[0m: [Errno 2] No such file or directory: '../data/results/deseq/allacma_fusca.tsebra.augustus.genes.bed'"
     ]
    }
   ],
   "source": [
    "gene_bed_df = pd.read_csv('data/results/deseq/allacma_fusca.tsebra.augustus.genes.bed', \n",
    "                        sep = '\\t', \n",
    "                        header = None,\n",
    "                        names = ['chrom','start','end','Geneid'])\n",
    "SBG_df = pd.read_csv('data/results/deseq2/allacma_fusca/v_2/allacma_fusca.DEseq2_results_filtered.tsv', \n",
    "                        sep = '\\t')\n",
    "raw_df = pd.read_csv('data/results/deseq2/allacma_fusca/v_2/allacma_fusca.DEseq2_results_raw.tsv', \n",
    "                        sep = '\\t')\n",
    "counts_df = pd.read_csv('data/results/deseq2/allacma_fusca/v_2/allacma_fusca.DEseq2_counts.tsv',\n",
    "                        sep = '\\t')\n",
    "pi_df = pd.read_csv('data/results/gene_pop/full/allacma_fusca.longest_isoforms.pi.tsv',\n",
    "                        sep = '\\t')\n",
    "pi_df.columns=['chrom','Geneid','0D_pi','4D_pi','0/4D_pi']\n"
   ]
  },
  {
   "cell_type": "code",
   "execution_count": null,
   "id": "32cb2fd0",
   "metadata": {},
   "outputs": [],
   "source": [
    "pi_df = pi_df.dropna()\n",
    "pi_df.replace([np.inf, -np.inf], np.nan, inplace=True)\n",
    "pi_df['linkage'] = np.where((pi_df['chrom'] == 'OX359249.1' ) | (pi_df['chrom'] == 'OX359250.1'),\n",
    "                            'X', 'autosome')\n",
    "chrom_pi = pi_df.groupby('chrom')['4D_pi'].mean().reset_index()"
   ]
  },
  {
   "cell_type": "code",
   "execution_count": null,
   "id": "2ccbb59e",
   "metadata": {},
   "outputs": [],
   "source": [
    "pi_df"
   ]
  },
  {
   "cell_type": "code",
   "execution_count": null,
   "id": "2aa002ca",
   "metadata": {},
   "outputs": [],
   "source": [
    "AB = [1119221, 983134, 594727, 480592, 154763, 195562]\n",
    "chrom_pi['length'] = [81897997, 75614292, 66084411, 58810162, 55591601, 48066046]\n",
    "chrom_pi['callable_length'] = [54030868, 55430720, 54707081, 50199174, 50944876, 41345527]\n",
    "chrom_pi['het'] = AB/chrom_pi['callable_length']\n",
    "chrom_pi['0D_pi'] = pi_df.groupby('chrom')['0D_pi'].mean().reset_index()['0D_pi']\n",
    "chrom_pi"
   ]
  },
  {
   "cell_type": "code",
   "execution_count": null,
   "id": "c601f47f",
   "metadata": {},
   "outputs": [],
   "source": [
    "value_tick = np.arange(0, 0.024, 0.004)\n",
    "\n",
    "g = sns.relplot(data = chrom_pi,\n",
    "           x = '4D_pi',\n",
    "           y = 'het')\n",
    "\n",
    "for ax in g.axes.flat:\n",
    "    labels = ax.get_xticklabels() \n",
    "    ax.set_xticks(ticks=value_tick)\n",
    "    ax.set_yticks(ticks=value_tick)\n",
    "\n",
    "    for idx, row in chrom_pi.iterrows():\n",
    "        x = row['4D_pi']\n",
    "        y = row['het']\n",
    "        text = row['chrom']\n",
    "        ax.text(x+0.0001,y,text, horizontalalignment='left')\n"
   ]
  },
  {
   "cell_type": "code",
   "execution_count": null,
   "id": "04eb0beb",
   "metadata": {},
   "outputs": [],
   "source": [
    "value_tick = np.arange(0, 0.024, 0.004)\n",
    "\n",
    "g = sns.relplot(data = chrom_pi,\n",
    "           x = '0D_pi',\n",
    "           y = 'het')\n",
    "\n",
    "for ax in g.axes.flat:\n",
    "    labels = ax.get_xticklabels() \n",
    "    ax.set_xticks(ticks=value_tick)\n",
    "    ax.set_yticks(ticks=value_tick)\n",
    "\n",
    "    for idx, row in chrom_pi.iterrows():\n",
    "        x = row['0D_pi']\n",
    "        y = row['het']\n",
    "        text = row['chrom']\n",
    "        ax.text(x+0.0001,y,text, horizontalalignment='left')\n"
   ]
  },
  {
   "cell_type": "code",
   "execution_count": null,
   "id": "5804e6ab",
   "metadata": {},
   "outputs": [],
   "source": [
    "value_tick = np.arange(0, 0.017, 0.002)\n",
    "\n",
    "g = sns.relplot(data = chrom_pi,\n",
    "           x = '0D_pi',\n",
    "           y = '4D_pi')\n",
    "\n",
    "for ax in g.axes.flat:\n",
    "    labels = ax.get_xticklabels() \n",
    "    ax.set_xticks(ticks=value_tick)\n",
    "    #ax.set_yticks(ticks=np.arange(0.6, 0.017, 0.02))\n",
    "\n",
    "    for idx, row in chrom_pi.iterrows():\n",
    "        x = row['0D_pi']\n",
    "        y = row['4D_pi']\n",
    "        text = row['chrom']\n",
    "        ax.text(x+0.0001,y,text, horizontalalignment='left')\n"
   ]
  },
  {
   "cell_type": "code",
   "execution_count": null,
   "id": "fb912f09",
   "metadata": {},
   "outputs": [],
   "source": [
    "value_tick = np.arange(0, 0.024, 0.004)\n",
    "\n",
    "g = sns.relplot(data = chrom_pi,\n",
    "           x = 'length',\n",
    "           y = '4D_pi')\n",
    "\n",
    "for ax in g.axes.flat:\n",
    "    labels = ax.get_xticklabels() \n",
    "    #ax.set_xticks(ticks=value_tick)\n",
    "    #ax.set_yticks(ticks=value_tick)\n",
    "    ax.set_ylim(0, 0.015)\n",
    "    ax.set_xlim(0, 20e7)\n",
    "\n",
    "    for idx, row in chrom_pi.iterrows():\n",
    "        x = row['length']\n",
    "        y = row['4D_pi']\n",
    "        text = row['chrom']\n",
    "        ax.text(x+0.0001,y,text, horizontalalignment='left')\n"
   ]
  },
  {
   "cell_type": "code",
   "execution_count": null,
   "id": "45b4a0f1",
   "metadata": {},
   "outputs": [],
   "source": [
    "fig, axs = plt.subplots(figsize = (8,8))\n",
    "\n",
    "sns.barplot(data = chrom_pi,\n",
    "           x = 'chrom',\n",
    "           y = '4D_pi',\n",
    "           color = 'tab:blue')"
   ]
  },
  {
   "cell_type": "code",
   "execution_count": null,
   "id": "ecfd378a",
   "metadata": {},
   "outputs": [],
   "source": [
    "fig, axs = plt.subplots(figsize = (8,8))\n",
    "\n",
    "sns.barplot(data = chrom_pi,\n",
    "           x = 'chrom',\n",
    "           y = 'het',\n",
    "           color = 'tab:blue')"
   ]
  },
  {
   "cell_type": "code",
   "execution_count": null,
   "id": "163373ec",
   "metadata": {},
   "outputs": [],
   "source": [
    "fig, axs = plt.subplots(figsize = (8,8))\n",
    "\n",
    "sns.barplot(data = chrom_pi,\n",
    "           x = 'chrom',\n",
    "           y = '0D_pi',\n",
    "           color = 'tab:blue')"
   ]
  },
  {
   "cell_type": "code",
   "execution_count": null,
   "id": "e23ac80b",
   "metadata": {},
   "outputs": [],
   "source": [
    "def ne(theta, mu):\n",
    "    # theta = 4*Ne*mu\n",
    "    # Ne = theta / (4*mu)\n",
    "    return theta / (4*mu)"
   ]
  },
  {
   "cell_type": "code",
   "execution_count": null,
   "id": "4100d882",
   "metadata": {},
   "outputs": [],
   "source": [
    "mu_drosophila = 8.4e-09\n",
    "mu_heliconius = 2.9e-09\n",
    "theta = chrom_pi['4D_pi'].mean()\n",
    "print(ne(theta, mu_drosophila))\n",
    "print(ne(theta, mu_heliconius))"
   ]
  },
  {
   "cell_type": "code",
   "execution_count": null,
   "id": "a00384f6",
   "metadata": {},
   "outputs": [],
   "source": [
    "(313325 + 907560) / 2"
   ]
  },
  {
   "cell_type": "code",
   "execution_count": null,
   "id": "c13f33e5",
   "metadata": {},
   "outputs": [],
   "source": [
    "sample_names = ['AF_F_1','AF_F_2','AF_F_3','AF_F_4','AF_F_5','AF_F_6','AF_F_7','AF_F_8','AF_F_9','AF_F_10',\n",
    "    'AF_M_1','AF_M_2','AF_M_3','AF_M_4','AF_M_5','AF_M_6','AF_M_7','AF_M_8','AF_M_9','AF_M_10']"
   ]
  },
  {
   "cell_type": "code",
   "execution_count": null,
   "id": "ecd9c3ba",
   "metadata": {},
   "outputs": [],
   "source": [
    "counts_df['length'] = (gene_bed_df['end'] - gene_bed_df['start'])/1000\n",
    "Geneid = list(counts_df['Geneid'])\n",
    "Chrom = list(gene_bed_df['chrom'])\n",
    "counts_df = counts_df.set_index('Geneid')"
   ]
  },
  {
   "cell_type": "code",
   "execution_count": null,
   "id": "bb266fdb",
   "metadata": {},
   "outputs": [],
   "source": [
    "normalised_count_df = pd.DataFrame(read_counts2tpm(counts_df))\n",
    "normalised_count_df.columns = sample_names\n",
    "normalised_count_df['Geneid'] = Geneid\n",
    "normalised_count_df['chrom'] = Chrom\n",
    "normalised_count_df"
   ]
  },
  {
   "cell_type": "code",
   "execution_count": 20,
   "id": "28ce3f81",
   "metadata": {},
   "outputs": [],
   "source": [
    "gene_bed_df = gene_bed_df.merge(SBG_df[['Geneid','log2FoldChange']], \n",
    "                                       how = 'outer',\n",
    "                                       on = 'Geneid')"
   ]
  },
  {
   "cell_type": "code",
   "execution_count": 21,
   "id": "e6d1b7ac",
   "metadata": {},
   "outputs": [],
   "source": [
    "bias_conditions = [\n",
    "    (gene_bed_df['log2FoldChange'] > 0),\n",
    "    (gene_bed_df['log2FoldChange'] < 0)]\n",
    "bias_outcomes = ['male_biased', 'female_biased']\n",
    "gene_bed_df['bias'] = np.select(bias_conditions, bias_outcomes, default='unbiased')"
   ]
  },
  {
   "cell_type": "code",
   "execution_count": 25,
   "id": "00405e18-3398-4daa-ae06-86ad3d66efd0",
   "metadata": {},
   "outputs": [
    {
     "data": {
      "text/html": [
       "<div>\n",
       "<style scoped>\n",
       "    .dataframe tbody tr th:only-of-type {\n",
       "        vertical-align: middle;\n",
       "    }\n",
       "\n",
       "    .dataframe tbody tr th {\n",
       "        vertical-align: top;\n",
       "    }\n",
       "\n",
       "    .dataframe thead th {\n",
       "        text-align: right;\n",
       "    }\n",
       "</style>\n",
       "<table border=\"1\" class=\"dataframe\">\n",
       "  <thead>\n",
       "    <tr style=\"text-align: right;\">\n",
       "      <th></th>\n",
       "      <th>chrom</th>\n",
       "      <th>start</th>\n",
       "      <th>end</th>\n",
       "      <th>Geneid</th>\n",
       "      <th>log2FoldChange</th>\n",
       "      <th>bias</th>\n",
       "    </tr>\n",
       "  </thead>\n",
       "  <tbody>\n",
       "    <tr>\n",
       "      <th>0</th>\n",
       "      <td>CAMXBY010000001.1</td>\n",
       "      <td>108891</td>\n",
       "      <td>115370</td>\n",
       "      <td>g_27516</td>\n",
       "      <td>4.873614</td>\n",
       "      <td>male_biased</td>\n",
       "    </tr>\n",
       "    <tr>\n",
       "      <th>1</th>\n",
       "      <td>CAMXBY010000002.1</td>\n",
       "      <td>3193</td>\n",
       "      <td>3624</td>\n",
       "      <td>g_89</td>\n",
       "      <td>NaN</td>\n",
       "      <td>unbiased</td>\n",
       "    </tr>\n",
       "    <tr>\n",
       "      <th>2</th>\n",
       "      <td>CAMXBY010000002.1</td>\n",
       "      <td>76807</td>\n",
       "      <td>79257</td>\n",
       "      <td>g_92</td>\n",
       "      <td>3.828103</td>\n",
       "      <td>male_biased</td>\n",
       "    </tr>\n",
       "    <tr>\n",
       "      <th>3</th>\n",
       "      <td>CAMXBY010000002.1</td>\n",
       "      <td>85503</td>\n",
       "      <td>87437</td>\n",
       "      <td>g_94</td>\n",
       "      <td>NaN</td>\n",
       "      <td>unbiased</td>\n",
       "    </tr>\n",
       "    <tr>\n",
       "      <th>4</th>\n",
       "      <td>CAMXBY010000002.1</td>\n",
       "      <td>87838</td>\n",
       "      <td>88289</td>\n",
       "      <td>g_95</td>\n",
       "      <td>NaN</td>\n",
       "      <td>unbiased</td>\n",
       "    </tr>\n",
       "    <tr>\n",
       "      <th>...</th>\n",
       "      <td>...</td>\n",
       "      <td>...</td>\n",
       "      <td>...</td>\n",
       "      <td>...</td>\n",
       "      <td>...</td>\n",
       "      <td>...</td>\n",
       "    </tr>\n",
       "    <tr>\n",
       "      <th>25938</th>\n",
       "      <td>OX359250.1</td>\n",
       "      <td>47790610</td>\n",
       "      <td>47791007</td>\n",
       "      <td>g_4693</td>\n",
       "      <td>NaN</td>\n",
       "      <td>unbiased</td>\n",
       "    </tr>\n",
       "    <tr>\n",
       "      <th>25939</th>\n",
       "      <td>OX359250.1</td>\n",
       "      <td>47855934</td>\n",
       "      <td>47859347</td>\n",
       "      <td>g_4695</td>\n",
       "      <td>NaN</td>\n",
       "      <td>unbiased</td>\n",
       "    </tr>\n",
       "    <tr>\n",
       "      <th>25940</th>\n",
       "      <td>OX359250.1</td>\n",
       "      <td>47859721</td>\n",
       "      <td>47861329</td>\n",
       "      <td>g_4696</td>\n",
       "      <td>NaN</td>\n",
       "      <td>unbiased</td>\n",
       "    </tr>\n",
       "    <tr>\n",
       "      <th>25941</th>\n",
       "      <td>OX359250.1</td>\n",
       "      <td>47976758</td>\n",
       "      <td>47978188</td>\n",
       "      <td>g_4706</td>\n",
       "      <td>NaN</td>\n",
       "      <td>unbiased</td>\n",
       "    </tr>\n",
       "    <tr>\n",
       "      <th>25942</th>\n",
       "      <td>OX359250.1</td>\n",
       "      <td>48051186</td>\n",
       "      <td>48051695</td>\n",
       "      <td>g_4711</td>\n",
       "      <td>NaN</td>\n",
       "      <td>unbiased</td>\n",
       "    </tr>\n",
       "  </tbody>\n",
       "</table>\n",
       "<p>25943 rows × 6 columns</p>\n",
       "</div>"
      ],
      "text/plain": [
       "                   chrom     start       end   Geneid  log2FoldChange  \\\n",
       "0      CAMXBY010000001.1    108891    115370  g_27516        4.873614   \n",
       "1      CAMXBY010000002.1      3193      3624     g_89             NaN   \n",
       "2      CAMXBY010000002.1     76807     79257     g_92        3.828103   \n",
       "3      CAMXBY010000002.1     85503     87437     g_94             NaN   \n",
       "4      CAMXBY010000002.1     87838     88289     g_95             NaN   \n",
       "...                  ...       ...       ...      ...             ...   \n",
       "25938         OX359250.1  47790610  47791007   g_4693             NaN   \n",
       "25939         OX359250.1  47855934  47859347   g_4695             NaN   \n",
       "25940         OX359250.1  47859721  47861329   g_4696             NaN   \n",
       "25941         OX359250.1  47976758  47978188   g_4706             NaN   \n",
       "25942         OX359250.1  48051186  48051695   g_4711             NaN   \n",
       "\n",
       "              bias  \n",
       "0      male_biased  \n",
       "1         unbiased  \n",
       "2      male_biased  \n",
       "3         unbiased  \n",
       "4         unbiased  \n",
       "...            ...  \n",
       "25938     unbiased  \n",
       "25939     unbiased  \n",
       "25940     unbiased  \n",
       "25941     unbiased  \n",
       "25942     unbiased  \n",
       "\n",
       "[25943 rows x 6 columns]"
      ]
     },
     "execution_count": 25,
     "metadata": {},
     "output_type": "execute_result"
    }
   ],
   "source": [
    "gene_bed_df"
   ]
  },
  {
   "cell_type": "code",
   "execution_count": 22,
   "id": "d02521eb",
   "metadata": {},
   "outputs": [],
   "source": [
    "chromosomes = ['OX359245.1',\n",
    " 'OX359246.1',\n",
    " 'OX359247.1',\n",
    " 'OX359248.1',\n",
    " 'OX359249.1',\n",
    " 'OX359250.1']\n",
    "\n",
    "chrom_df = gene_bed_df[gene_bed_df['chrom'].isin(chromosomes)]"
   ]
  },
  {
   "cell_type": "code",
   "execution_count": 23,
   "id": "5c12cae5",
   "metadata": {},
   "outputs": [],
   "source": [
    "pi_df['Geneid'] = [gene.replace('g','g_') for gene in pi_df['Geneid'].to_list()]\n",
    "pi_df = pi_df[pi_df['Geneid'].isin(Geneid)]\n",
    "pi_df = pi_df.merge(chrom_df[['Geneid','bias']], how='outer', on = 'Geneid').dropna()"
   ]
  },
  {
   "cell_type": "code",
   "execution_count": 24,
   "id": "bd7b53c8",
   "metadata": {},
   "outputs": [
    {
     "data": {
      "text/plain": [
       "chrom       bias         \n",
       "OX359245.1  unbiased         4572\n",
       "            male_biased       953\n",
       "            female_biased     425\n",
       "OX359246.1  unbiased         4455\n",
       "            male_biased       878\n",
       "            female_biased     456\n",
       "OX359247.1  unbiased         3370\n",
       "            male_biased       901\n",
       "            female_biased     381\n",
       "OX359248.1  unbiased         2760\n",
       "            male_biased       718\n",
       "            female_biased     354\n",
       "OX359249.1  unbiased         1793\n",
       "            male_biased       735\n",
       "            female_biased     231\n",
       "OX359250.1  unbiased         1717\n",
       "            male_biased       861\n",
       "            female_biased     137\n",
       "Name: count, dtype: int64"
      ]
     },
     "execution_count": 24,
     "metadata": {},
     "output_type": "execute_result"
    }
   ],
   "source": [
    "chrom_df.groupby(['chrom'])['bias'].value_counts()"
   ]
  },
  {
   "cell_type": "code",
   "execution_count": 25,
   "id": "139e1d90",
   "metadata": {},
   "outputs": [
    {
     "data": {
      "text/plain": [
       "chrom       bias         \n",
       "OX359245.1  unbiased         0.768403\n",
       "            male_biased      0.160168\n",
       "            female_biased    0.071429\n",
       "OX359246.1  unbiased         0.769563\n",
       "            male_biased      0.151667\n",
       "            female_biased    0.078770\n",
       "OX359247.1  unbiased         0.724420\n",
       "            male_biased      0.193680\n",
       "            female_biased    0.081900\n",
       "OX359248.1  unbiased         0.720251\n",
       "            male_biased      0.187370\n",
       "            female_biased    0.092380\n",
       "OX359249.1  unbiased         0.649873\n",
       "            male_biased      0.266401\n",
       "            female_biased    0.083726\n",
       "OX359250.1  unbiased         0.632413\n",
       "            male_biased      0.317127\n",
       "            female_biased    0.050460\n",
       "Name: proportion, dtype: float64"
      ]
     },
     "execution_count": 25,
     "metadata": {},
     "output_type": "execute_result"
    }
   ],
   "source": [
    "chrom_df.groupby(['chrom'])['bias'].value_counts(normalize='True')"
   ]
  },
  {
   "cell_type": "code",
   "execution_count": 26,
   "id": "71ec9230",
   "metadata": {},
   "outputs": [
    {
     "data": {
      "text/plain": [
       "bias\n",
       "unbiased         0.726427\n",
       "male_biased      0.196365\n",
       "female_biased    0.077207\n",
       "Name: proportion, dtype: float64"
      ]
     },
     "execution_count": 26,
     "metadata": {},
     "output_type": "execute_result"
    }
   ],
   "source": [
    "chrom_df['bias'].value_counts(normalize='True')"
   ]
  },
  {
   "cell_type": "code",
   "execution_count": 27,
   "id": "35fd70ff",
   "metadata": {},
   "outputs": [
    {
     "data": {
      "text/plain": [
       "27"
      ]
     },
     "execution_count": 27,
     "metadata": {},
     "output_type": "execute_result"
    }
   ],
   "source": [
    "100-73"
   ]
  },
  {
   "cell_type": "code",
   "execution_count": 28,
   "id": "591c8e00",
   "metadata": {},
   "outputs": [
    {
     "data": {
      "image/png": "[encoded data removed]",
      "text/plain": [
       "<Figure size 720x720 with 6 Axes>"
      ]
     },
     "metadata": {
      "needs_background": "light"
     },
     "output_type": "display_data"
    }
   ],
   "source": [
    "fig, axs = plt.subplots(nrows = 6, sharex=True, figsize = (10,10))\n",
    "\n",
    "for i, chrom in enumerate(chromosomes):\n",
    "    \n",
    "    sns.histplot(chrom_df[chrom_df['chrom']==chrom]['log2FoldChange'],\n",
    "                color = 'grey',\n",
    "                stat = 'proportion',\n",
    "                bins = np.arange(-23, 26, 1),\n",
    "                ax = axs[i])\n",
    "    axs[i].set_title(chrom, loc = 'right')\n",
    "    \n",
    "\n",
    "plt.tight_layout()"
   ]
  },
  {
   "cell_type": "code",
   "execution_count": 29,
   "id": "72dcc369",
   "metadata": {},
   "outputs": [
    {
     "data": {
      "image/png": "[encoded data removed]",
      "text/plain": [
       "<Figure size 720x720 with 6 Axes>"
      ]
     },
     "metadata": {
      "needs_background": "light"
     },
     "output_type": "display_data"
    }
   ],
   "source": [
    "fig, axs = plt.subplots(nrows = 6, sharex=True, figsize = (10,10))\n",
    "\n",
    "for i, chrom in enumerate(chromosomes):\n",
    "    \n",
    "    sns.histplot(chrom_df[(chrom_df['chrom']==chrom) & (chrom_df['log2FoldChange']<=-1)]['log2FoldChange'],\n",
    "                stat = 'count',\n",
    "                bins = np.arange(-23, 0, 1),\n",
    "                color = 'green',\n",
    "                ax = axs[i])\n",
    "    axs[i].set_title(chrom, loc = 'right')\n",
    "    \n",
    "    sns.histplot(chrom_df[(chrom_df['chrom']==chrom) & (chrom_df['log2FoldChange']>=1)]['log2FoldChange'],\n",
    "                stat = 'count',\n",
    "                bins = np.arange(0, 26, 1),\n",
    "                color = 'orange',\n",
    "                ax = axs[i])\n",
    "    \n",
    "    axs[i].set_title(chrom, loc = 'right')\n",
    "    axs[i].set_ylim(0, 220)\n",
    "    \n",
    "\n",
    "plt.tight_layout()"
   ]
  },
  {
   "cell_type": "code",
   "execution_count": 30,
   "id": "cf40ae68",
   "metadata": {},
   "outputs": [
    {
     "data": {
      "image/png": "[encoded data removed]",
      "text/plain": [
       "<Figure size 720x720 with 6 Axes>"
      ]
     },
     "metadata": {
      "needs_background": "light"
     },
     "output_type": "display_data"
    }
   ],
   "source": [
    "fig, axs = plt.subplots(nrows = 6, sharex=True, figsize = (10,10))\n",
    "\n",
    "for i, chrom in enumerate(chromosomes):\n",
    "    \n",
    "    sns.histplot(chrom_df[(chrom_df['chrom']==chrom) & (chrom_df['log2FoldChange']<=-1)]['log2FoldChange'],\n",
    "                stat = 'count',\n",
    "                bins = np.arange(-23, 0, 1),\n",
    "                color = 'green',\n",
    "                ax = axs[i])\n",
    "    axs[i].set_title(chrom, loc = 'right')\n",
    "    \n",
    "    sns.histplot(chrom_df[(chrom_df['chrom']==chrom) & (chrom_df['log2FoldChange']>=1)]['log2FoldChange'],\n",
    "                stat = 'count',\n",
    "                bins = np.arange(0, 26, 1),\n",
    "                color = 'orange',\n",
    "                ax = axs[i])\n",
    "    \n",
    "    axs[i].set_title(chrom, loc = 'right')\n",
    "    #axs[i].set_ylim(0, 220)\n",
    "    \n",
    "\n",
    "plt.tight_layout()"
   ]
  },
  {
   "cell_type": "code",
   "execution_count": 31,
   "id": "abd9ce1c",
   "metadata": {},
   "outputs": [],
   "source": [
    "barplot_df_count = chrom_df.groupby(['chrom'])['bias'].value_counts().reset_index()\n",
    "barplot_df_prop = chrom_df.groupby(['chrom'])['bias'].value_counts(normalize='True').reset_index()"
   ]
  },
  {
   "cell_type": "code",
   "execution_count": 32,
   "id": "3a0e1ab1",
   "metadata": {},
   "outputs": [
    {
     "data": {
      "image/png": "[encoded data removed]",
      "text/plain": [
       "<Figure size 720x720 with 2 Axes>"
      ]
     },
     "metadata": {
      "needs_background": "light"
     },
     "output_type": "display_data"
    }
   ],
   "source": [
    "fig, axs = plt.subplots(nrows = 2, sharex=True, figsize = (10,10))\n",
    "\n",
    "sns.barplot(data=barplot_df_count, \n",
    "            x=\"chrom\", \n",
    "            y=\"count\",\n",
    "            hue=\"bias\",\n",
    "            palette = ['tab:blue','orange','green'],\n",
    "            ax = axs[0])\n",
    "\n",
    "sns.barplot(data=barplot_df_prop, \n",
    "            x=\"chrom\", \n",
    "            y=\"proportion\",\n",
    "            hue='bias',\n",
    "            palette = ['tab:blue','orange','green'],\n",
    "            ax = axs[1])\n",
    "\n",
    "axs[1].legend().set_visible(False)"
   ]
  },
  {
   "cell_type": "code",
   "execution_count": 33,
   "id": "12662d33",
   "metadata": {},
   "outputs": [],
   "source": [
    "ncc_df = normalised_count_df[normalised_count_df['chrom'].isin(chromosomes)]\n",
    "ncc_ex_df = ncc_df[sample_names].apply(lambda x: [y if y >= 1 else np.nan for y in x])\n",
    "ncc_ex_df['Geneid'] = ncc_df['Geneid']\n",
    "ncc_ex_df['chrom'] = ncc_df['chrom']"
   ]
  },
  {
   "cell_type": "code",
   "execution_count": 34,
   "id": "743aa3d8",
   "metadata": {},
   "outputs": [],
   "source": [
    "females = sample_names[0:10]\n",
    "females.remove('AF_F_5')\n",
    "males = sample_names[10:]"
   ]
  },
  {
   "cell_type": "code",
   "execution_count": 35,
   "id": "7de70f11",
   "metadata": {},
   "outputs": [],
   "source": [
    "ncc_ex_df['female_mean_TPM'] = ncc_ex_df[females].mean(axis=1)\n",
    "ncc_ex_df['male_mean_TPM'] = ncc_ex_df[males].mean(axis=1)"
   ]
  },
  {
   "cell_type": "code",
   "execution_count": 36,
   "id": "513c33bb",
   "metadata": {},
   "outputs": [
    {
     "data": {
      "text/html": [
       "<div>\n",
       "<style scoped>\n",
       "    .dataframe tbody tr th:only-of-type {\n",
       "        vertical-align: middle;\n",
       "    }\n",
       "\n",
       "    .dataframe tbody tr th {\n",
       "        vertical-align: top;\n",
       "    }\n",
       "\n",
       "    .dataframe thead tr th {\n",
       "        text-align: left;\n",
       "    }\n",
       "\n",
       "    .dataframe thead tr:last-of-type th {\n",
       "        text-align: right;\n",
       "    }\n",
       "</style>\n",
       "<table border=\"1\" class=\"dataframe\">\n",
       "  <thead>\n",
       "    <tr>\n",
       "      <th></th>\n",
       "      <th colspan=\"8\" halign=\"left\">AF_F_8</th>\n",
       "    </tr>\n",
       "    <tr>\n",
       "      <th></th>\n",
       "      <th>count</th>\n",
       "      <th>mean</th>\n",
       "      <th>std</th>\n",
       "      <th>min</th>\n",
       "      <th>25%</th>\n",
       "      <th>50%</th>\n",
       "      <th>75%</th>\n",
       "      <th>max</th>\n",
       "    </tr>\n",
       "    <tr>\n",
       "      <th>chrom</th>\n",
       "      <th></th>\n",
       "      <th></th>\n",
       "      <th></th>\n",
       "      <th></th>\n",
       "      <th></th>\n",
       "      <th></th>\n",
       "      <th></th>\n",
       "      <th></th>\n",
       "    </tr>\n",
       "  </thead>\n",
       "  <tbody>\n",
       "    <tr>\n",
       "      <th>OX359245.1</th>\n",
       "      <td>1561.0</td>\n",
       "      <td>96.994627</td>\n",
       "      <td>581.170568</td>\n",
       "      <td>1.000071</td>\n",
       "      <td>2.963690</td>\n",
       "      <td>8.727039</td>\n",
       "      <td>28.628016</td>\n",
       "      <td>12772.772432</td>\n",
       "    </tr>\n",
       "    <tr>\n",
       "      <th>OX359246.1</th>\n",
       "      <td>1959.0</td>\n",
       "      <td>72.291549</td>\n",
       "      <td>316.059466</td>\n",
       "      <td>1.007017</td>\n",
       "      <td>3.201191</td>\n",
       "      <td>9.500671</td>\n",
       "      <td>29.968147</td>\n",
       "      <td>6042.582837</td>\n",
       "    </tr>\n",
       "    <tr>\n",
       "      <th>OX359247.1</th>\n",
       "      <td>2145.0</td>\n",
       "      <td>108.222844</td>\n",
       "      <td>615.160932</td>\n",
       "      <td>1.001513</td>\n",
       "      <td>4.439326</td>\n",
       "      <td>14.053046</td>\n",
       "      <td>38.179017</td>\n",
       "      <td>18329.498117</td>\n",
       "    </tr>\n",
       "    <tr>\n",
       "      <th>OX359248.1</th>\n",
       "      <td>1960.0</td>\n",
       "      <td>119.692793</td>\n",
       "      <td>632.416137</td>\n",
       "      <td>1.000821</td>\n",
       "      <td>5.569892</td>\n",
       "      <td>16.270263</td>\n",
       "      <td>45.992951</td>\n",
       "      <td>16651.029762</td>\n",
       "    </tr>\n",
       "    <tr>\n",
       "      <th>OX359249.1</th>\n",
       "      <td>1380.0</td>\n",
       "      <td>85.740418</td>\n",
       "      <td>385.331781</td>\n",
       "      <td>1.000672</td>\n",
       "      <td>6.307896</td>\n",
       "      <td>16.397340</td>\n",
       "      <td>40.375424</td>\n",
       "      <td>8066.367889</td>\n",
       "    </tr>\n",
       "    <tr>\n",
       "      <th>OX359250.1</th>\n",
       "      <td>1022.0</td>\n",
       "      <td>117.356452</td>\n",
       "      <td>865.906399</td>\n",
       "      <td>1.002067</td>\n",
       "      <td>4.900438</td>\n",
       "      <td>14.108232</td>\n",
       "      <td>43.561720</td>\n",
       "      <td>19474.533949</td>\n",
       "    </tr>\n",
       "  </tbody>\n",
       "</table>\n",
       "</div>"
      ],
      "text/plain": [
       "            AF_F_8                                                         \\\n",
       "             count        mean         std       min       25%        50%   \n",
       "chrom                                                                       \n",
       "OX359245.1  1561.0   96.994627  581.170568  1.000071  2.963690   8.727039   \n",
       "OX359246.1  1959.0   72.291549  316.059466  1.007017  3.201191   9.500671   \n",
       "OX359247.1  2145.0  108.222844  615.160932  1.001513  4.439326  14.053046   \n",
       "OX359248.1  1960.0  119.692793  632.416137  1.000821  5.569892  16.270263   \n",
       "OX359249.1  1380.0   85.740418  385.331781  1.000672  6.307896  16.397340   \n",
       "OX359250.1  1022.0  117.356452  865.906399  1.002067  4.900438  14.108232   \n",
       "\n",
       "                                     \n",
       "                  75%           max  \n",
       "chrom                                \n",
       "OX359245.1  28.628016  12772.772432  \n",
       "OX359246.1  29.968147   6042.582837  \n",
       "OX359247.1  38.179017  18329.498117  \n",
       "OX359248.1  45.992951  16651.029762  \n",
       "OX359249.1  40.375424   8066.367889  \n",
       "OX359250.1  43.561720  19474.533949  "
      ]
     },
     "execution_count": 36,
     "metadata": {},
     "output_type": "execute_result"
    }
   ],
   "source": [
    "ncc_ex_df[['chrom','AF_F_8']].groupby('chrom').describe()"
   ]
  },
  {
   "cell_type": "code",
   "execution_count": 37,
   "id": "cb52cd37",
   "metadata": {},
   "outputs": [
    {
     "data": {
      "text/html": [
       "<div>\n",
       "<style scoped>\n",
       "    .dataframe tbody tr th:only-of-type {\n",
       "        vertical-align: middle;\n",
       "    }\n",
       "\n",
       "    .dataframe tbody tr th {\n",
       "        vertical-align: top;\n",
       "    }\n",
       "\n",
       "    .dataframe thead tr th {\n",
       "        text-align: left;\n",
       "    }\n",
       "\n",
       "    .dataframe thead tr:last-of-type th {\n",
       "        text-align: right;\n",
       "    }\n",
       "</style>\n",
       "<table border=\"1\" class=\"dataframe\">\n",
       "  <thead>\n",
       "    <tr>\n",
       "      <th></th>\n",
       "      <th colspan=\"8\" halign=\"left\">AF_M_8</th>\n",
       "    </tr>\n",
       "    <tr>\n",
       "      <th></th>\n",
       "      <th>count</th>\n",
       "      <th>mean</th>\n",
       "      <th>std</th>\n",
       "      <th>min</th>\n",
       "      <th>25%</th>\n",
       "      <th>50%</th>\n",
       "      <th>75%</th>\n",
       "      <th>max</th>\n",
       "    </tr>\n",
       "    <tr>\n",
       "      <th>chrom</th>\n",
       "      <th></th>\n",
       "      <th></th>\n",
       "      <th></th>\n",
       "      <th></th>\n",
       "      <th></th>\n",
       "      <th></th>\n",
       "      <th></th>\n",
       "      <th></th>\n",
       "    </tr>\n",
       "  </thead>\n",
       "  <tbody>\n",
       "    <tr>\n",
       "      <th>OX359245.1</th>\n",
       "      <td>2062.0</td>\n",
       "      <td>108.156765</td>\n",
       "      <td>1067.855909</td>\n",
       "      <td>1.001990</td>\n",
       "      <td>3.352368</td>\n",
       "      <td>10.077584</td>\n",
       "      <td>32.306144</td>\n",
       "      <td>36497.231636</td>\n",
       "    </tr>\n",
       "    <tr>\n",
       "      <th>OX359246.1</th>\n",
       "      <td>2310.0</td>\n",
       "      <td>59.433833</td>\n",
       "      <td>240.898444</td>\n",
       "      <td>1.000673</td>\n",
       "      <td>3.599400</td>\n",
       "      <td>10.611122</td>\n",
       "      <td>33.244984</td>\n",
       "      <td>5444.360254</td>\n",
       "    </tr>\n",
       "    <tr>\n",
       "      <th>OX359247.1</th>\n",
       "      <td>2551.0</td>\n",
       "      <td>63.715465</td>\n",
       "      <td>233.566304</td>\n",
       "      <td>1.000370</td>\n",
       "      <td>5.491326</td>\n",
       "      <td>15.091629</td>\n",
       "      <td>42.542228</td>\n",
       "      <td>4387.845719</td>\n",
       "    </tr>\n",
       "    <tr>\n",
       "      <th>OX359248.1</th>\n",
       "      <td>2258.0</td>\n",
       "      <td>74.764312</td>\n",
       "      <td>295.647451</td>\n",
       "      <td>1.005518</td>\n",
       "      <td>6.405487</td>\n",
       "      <td>16.834160</td>\n",
       "      <td>45.657075</td>\n",
       "      <td>6741.703313</td>\n",
       "    </tr>\n",
       "    <tr>\n",
       "      <th>OX359249.1</th>\n",
       "      <td>1758.0</td>\n",
       "      <td>60.271328</td>\n",
       "      <td>211.925315</td>\n",
       "      <td>1.000343</td>\n",
       "      <td>7.384808</td>\n",
       "      <td>18.788054</td>\n",
       "      <td>51.248493</td>\n",
       "      <td>6792.018964</td>\n",
       "    </tr>\n",
       "    <tr>\n",
       "      <th>OX359250.1</th>\n",
       "      <td>1533.0</td>\n",
       "      <td>130.535739</td>\n",
       "      <td>2445.348110</td>\n",
       "      <td>1.006807</td>\n",
       "      <td>6.473349</td>\n",
       "      <td>18.792998</td>\n",
       "      <td>58.202520</td>\n",
       "      <td>95413.638574</td>\n",
       "    </tr>\n",
       "  </tbody>\n",
       "</table>\n",
       "</div>"
      ],
      "text/plain": [
       "            AF_M_8                                                          \\\n",
       "             count        mean          std       min       25%        50%   \n",
       "chrom                                                                        \n",
       "OX359245.1  2062.0  108.156765  1067.855909  1.001990  3.352368  10.077584   \n",
       "OX359246.1  2310.0   59.433833   240.898444  1.000673  3.599400  10.611122   \n",
       "OX359247.1  2551.0   63.715465   233.566304  1.000370  5.491326  15.091629   \n",
       "OX359248.1  2258.0   74.764312   295.647451  1.005518  6.405487  16.834160   \n",
       "OX359249.1  1758.0   60.271328   211.925315  1.000343  7.384808  18.788054   \n",
       "OX359250.1  1533.0  130.535739  2445.348110  1.006807  6.473349  18.792998   \n",
       "\n",
       "                                     \n",
       "                  75%           max  \n",
       "chrom                                \n",
       "OX359245.1  32.306144  36497.231636  \n",
       "OX359246.1  33.244984   5444.360254  \n",
       "OX359247.1  42.542228   4387.845719  \n",
       "OX359248.1  45.657075   6741.703313  \n",
       "OX359249.1  51.248493   6792.018964  \n",
       "OX359250.1  58.202520  95413.638574  "
      ]
     },
     "execution_count": 37,
     "metadata": {},
     "output_type": "execute_result"
    }
   ],
   "source": [
    "ncc_ex_df[['chrom','AF_M_8']].groupby('chrom').describe()"
   ]
  },
  {
   "cell_type": "code",
   "execution_count": 38,
   "id": "ad4ad4fd",
   "metadata": {},
   "outputs": [],
   "source": [
    "count_matrix = ncc_ex_df.groupby('chrom')[sample_names].mean()\n",
    "sex_count_matrix = ncc_ex_df.groupby('chrom')[['female_mean_TPM','male_mean_TPM']].mean()"
   ]
  },
  {
   "cell_type": "code",
   "execution_count": 39,
   "id": "7106a867",
   "metadata": {},
   "outputs": [
    {
     "data": {
      "text/plain": [
       "Text(1.0, 1.0, 'TPM mean (for TPM > 1)')"
      ]
     },
     "execution_count": 39,
     "metadata": {},
     "output_type": "execute_result"
    },
    {
     "data": {
      "image/png": "[encoded data removed]",
      "text/plain": [
       "<Figure size 720x720 with 2 Axes>"
      ]
     },
     "metadata": {
      "needs_background": "light"
     },
     "output_type": "display_data"
    }
   ],
   "source": [
    "fig, axs = plt.subplots(nrows = 1, figsize = (10,10))\n",
    "\n",
    "sns.heatmap(data = count_matrix)\n",
    "axs.set_title('TPM mean (for TPM > 1)', loc = 'right')"
   ]
  },
  {
   "cell_type": "code",
   "execution_count": 40,
   "id": "d586c0d3",
   "metadata": {},
   "outputs": [
    {
     "data": {
      "text/plain": [
       "Text(1.0, 1.0, 'TPM mean')"
      ]
     },
     "execution_count": 40,
     "metadata": {},
     "output_type": "execute_result"
    },
    {
     "data": {
      "image/png": "[encoded data removed]",
      "text/plain": [
       "<Figure size 720x720 with 2 Axes>"
      ]
     },
     "metadata": {
      "needs_background": "light"
     },
     "output_type": "display_data"
    }
   ],
   "source": [
    "fig, axs = plt.subplots(nrows = 1, figsize = (10,10))\n",
    "\n",
    "sns.heatmap(data = sex_count_matrix)\n",
    "axs.set_title('TPM mean', loc = 'right')"
   ]
  },
  {
   "cell_type": "code",
   "execution_count": 41,
   "id": "bebe2460",
   "metadata": {},
   "outputs": [
    {
     "name": "stdout",
     "output_type": "stream",
     "text": [
      "Female X1/mean(A)\n",
      "1.0167520662717036\n",
      "Female X2/mean(A)\n",
      "1.2285253423147737\n",
      "Male X1/mean(A)\n",
      "1.0633521258601328\n",
      "Male X2/mean(A)\n",
      "1.5612099043509329\n"
     ]
    }
   ],
   "source": [
    "print('Female X1/mean(A)')\n",
    "print(sex_count_matrix['female_mean_TPM'][4]/np.mean(sex_count_matrix['female_mean_TPM'][:4]))\n",
    "print('Female X2/mean(A)')\n",
    "print(sex_count_matrix['female_mean_TPM'][5]/np.mean(sex_count_matrix['female_mean_TPM'][:4]))\n",
    "print('Male X1/mean(A)')\n",
    "print(sex_count_matrix['male_mean_TPM'][4]/np.mean(sex_count_matrix['male_mean_TPM'][:4]))\n",
    "print('Male X2/mean(A)')\n",
    "print(sex_count_matrix['male_mean_TPM'][5]/np.mean(sex_count_matrix['male_mean_TPM'][:4]))"
   ]
  },
  {
   "cell_type": "code",
   "execution_count": 42,
   "id": "5ad0140d",
   "metadata": {},
   "outputs": [],
   "source": [
    "female_ratio_matrix = sex_count_matrix['female_mean_TPM'].to_numpy()[:, None]/sex_count_matrix['female_mean_TPM'].to_numpy()[None,:]\n",
    "male_ratio_matrix = sex_count_matrix['male_mean_TPM'].to_numpy()[:, None]/sex_count_matrix['male_mean_TPM'].to_numpy()[None,:]"
   ]
  },
  {
   "cell_type": "code",
   "execution_count": 43,
   "id": "1e73d66b",
   "metadata": {},
   "outputs": [
    {
     "data": {
      "text/plain": [
       "Text(1.0, 1.0, 'Ratio')"
      ]
     },
     "execution_count": 43,
     "metadata": {},
     "output_type": "execute_result"
    },
    {
     "data": {
      "image/png": "[encoded data removed]",
      "text/plain": [
       "<Figure size 720x720 with 2 Axes>"
      ]
     },
     "metadata": {
      "needs_background": "light"
     },
     "output_type": "display_data"
    }
   ],
   "source": [
    "fig, axs = plt.subplots(nrows = 1, figsize = (10,10))\n",
    "\n",
    "sns.heatmap(data = female_ratio_matrix)\n",
    "axs.set_title('Ratio', loc = 'right')"
   ]
  },
  {
   "cell_type": "code",
   "execution_count": 44,
   "id": "81b7ed65",
   "metadata": {},
   "outputs": [
    {
     "data": {
      "text/plain": [
       "Text(1.0, 1.0, 'Ratio')"
      ]
     },
     "execution_count": 44,
     "metadata": {},
     "output_type": "execute_result"
    },
    {
     "data": {
      "image/png": "[encoded data removed]",
      "text/plain": [
       "<Figure size 720x720 with 2 Axes>"
      ]
     },
     "metadata": {
      "needs_background": "light"
     },
     "output_type": "display_data"
    }
   ],
   "source": [
    "fig, axs = plt.subplots(nrows = 1, figsize = (10,10))\n",
    "\n",
    "sns.heatmap(data = male_ratio_matrix)\n",
    "axs.set_title('Ratio', loc = 'right')"
   ]
  },
  {
   "cell_type": "code",
   "execution_count": 45,
   "id": "23be7085",
   "metadata": {},
   "outputs": [
    {
     "data": {
      "text/plain": [
       "<Axes: xlabel='AF_F_1', ylabel='Count'>"
      ]
     },
     "execution_count": 45,
     "metadata": {},
     "output_type": "execute_result"
    },
    {
     "data": {
      "image/png": "[encoded data removed]",
      "text/plain": [
       "<Figure size 576x576 with 1 Axes>"
      ]
     },
     "metadata": {
      "needs_background": "light"
     },
     "output_type": "display_data"
    }
   ],
   "source": [
    "fig, axs = plt.subplots(nrows = 1, figsize = (8,8))\n",
    "\n",
    "sns.histplot(data = ncc_df[ncc_df['AF_F_1'] > 100],\n",
    "             x = 'AF_F_1',\n",
    "             hue = 'chrom',\n",
    "             bins = 100,\n",
    "             stat = 'count')"
   ]
  },
  {
   "cell_type": "code",
   "execution_count": 46,
   "id": "b158fbca",
   "metadata": {},
   "outputs": [
    {
     "data": {
      "text/html": [
       "<div>\n",
       "<style scoped>\n",
       "    .dataframe tbody tr th:only-of-type {\n",
       "        vertical-align: middle;\n",
       "    }\n",
       "\n",
       "    .dataframe tbody tr th {\n",
       "        vertical-align: top;\n",
       "    }\n",
       "\n",
       "    .dataframe thead th {\n",
       "        text-align: right;\n",
       "    }\n",
       "</style>\n",
       "<table border=\"1\" class=\"dataframe\">\n",
       "  <thead>\n",
       "    <tr style=\"text-align: right;\">\n",
       "      <th></th>\n",
       "      <th>chrom</th>\n",
       "      <th>Geneid</th>\n",
       "      <th>0D_pi</th>\n",
       "      <th>4D_pi</th>\n",
       "      <th>0/4D_pi</th>\n",
       "      <th>linkage</th>\n",
       "      <th>bias</th>\n",
       "    </tr>\n",
       "  </thead>\n",
       "  <tbody>\n",
       "    <tr>\n",
       "      <th>0</th>\n",
       "      <td>OX359245.1</td>\n",
       "      <td>g_33544</td>\n",
       "      <td>0.019374</td>\n",
       "      <td>0.010455</td>\n",
       "      <td>1.853129</td>\n",
       "      <td>autosome</td>\n",
       "      <td>unbiased</td>\n",
       "    </tr>\n",
       "    <tr>\n",
       "      <th>1</th>\n",
       "      <td>OX359245.1</td>\n",
       "      <td>g_33549</td>\n",
       "      <td>0.000501</td>\n",
       "      <td>0.000487</td>\n",
       "      <td>1.027850</td>\n",
       "      <td>autosome</td>\n",
       "      <td>unbiased</td>\n",
       "    </tr>\n",
       "    <tr>\n",
       "      <th>2</th>\n",
       "      <td>OX359245.1</td>\n",
       "      <td>g_33551</td>\n",
       "      <td>0.001268</td>\n",
       "      <td>0.005283</td>\n",
       "      <td>0.239941</td>\n",
       "      <td>autosome</td>\n",
       "      <td>male_biased</td>\n",
       "    </tr>\n",
       "    <tr>\n",
       "      <th>3</th>\n",
       "      <td>OX359245.1</td>\n",
       "      <td>g_33556</td>\n",
       "      <td>0.000921</td>\n",
       "      <td>0.000665</td>\n",
       "      <td>1.385024</td>\n",
       "      <td>autosome</td>\n",
       "      <td>unbiased</td>\n",
       "    </tr>\n",
       "    <tr>\n",
       "      <th>4</th>\n",
       "      <td>OX359245.1</td>\n",
       "      <td>g_33557</td>\n",
       "      <td>0.000347</td>\n",
       "      <td>0.010225</td>\n",
       "      <td>0.033888</td>\n",
       "      <td>autosome</td>\n",
       "      <td>unbiased</td>\n",
       "    </tr>\n",
       "    <tr>\n",
       "      <th>...</th>\n",
       "      <td>...</td>\n",
       "      <td>...</td>\n",
       "      <td>...</td>\n",
       "      <td>...</td>\n",
       "      <td>...</td>\n",
       "      <td>...</td>\n",
       "      <td>...</td>\n",
       "    </tr>\n",
       "    <tr>\n",
       "      <th>11147</th>\n",
       "      <td>OX359250.1</td>\n",
       "      <td>g_4665</td>\n",
       "      <td>0.002774</td>\n",
       "      <td>0.002684</td>\n",
       "      <td>1.033188</td>\n",
       "      <td>X</td>\n",
       "      <td>unbiased</td>\n",
       "    </tr>\n",
       "    <tr>\n",
       "      <th>11148</th>\n",
       "      <td>OX359250.1</td>\n",
       "      <td>g_4690</td>\n",
       "      <td>0.010225</td>\n",
       "      <td>0.008239</td>\n",
       "      <td>1.241028</td>\n",
       "      <td>X</td>\n",
       "      <td>unbiased</td>\n",
       "    </tr>\n",
       "    <tr>\n",
       "      <th>11149</th>\n",
       "      <td>OX359250.1</td>\n",
       "      <td>g_4691</td>\n",
       "      <td>0.000186</td>\n",
       "      <td>0.000765</td>\n",
       "      <td>0.242762</td>\n",
       "      <td>X</td>\n",
       "      <td>unbiased</td>\n",
       "    </tr>\n",
       "    <tr>\n",
       "      <th>11150</th>\n",
       "      <td>OX359250.1</td>\n",
       "      <td>g_4692</td>\n",
       "      <td>0.000494</td>\n",
       "      <td>0.001736</td>\n",
       "      <td>0.284659</td>\n",
       "      <td>X</td>\n",
       "      <td>unbiased</td>\n",
       "    </tr>\n",
       "    <tr>\n",
       "      <th>11151</th>\n",
       "      <td>OX359250.1</td>\n",
       "      <td>g_4695</td>\n",
       "      <td>0.000720</td>\n",
       "      <td>0.000415</td>\n",
       "      <td>1.736440</td>\n",
       "      <td>X</td>\n",
       "      <td>unbiased</td>\n",
       "    </tr>\n",
       "  </tbody>\n",
       "</table>\n",
       "<p>11011 rows × 7 columns</p>\n",
       "</div>"
      ],
      "text/plain": [
       "            chrom   Geneid     0D_pi     4D_pi   0/4D_pi   linkage  \\\n",
       "0      OX359245.1  g_33544  0.019374  0.010455  1.853129  autosome   \n",
       "1      OX359245.1  g_33549  0.000501  0.000487  1.027850  autosome   \n",
       "2      OX359245.1  g_33551  0.001268  0.005283  0.239941  autosome   \n",
       "3      OX359245.1  g_33556  0.000921  0.000665  1.385024  autosome   \n",
       "4      OX359245.1  g_33557  0.000347  0.010225  0.033888  autosome   \n",
       "...           ...      ...       ...       ...       ...       ...   \n",
       "11147  OX359250.1   g_4665  0.002774  0.002684  1.033188         X   \n",
       "11148  OX359250.1   g_4690  0.010225  0.008239  1.241028         X   \n",
       "11149  OX359250.1   g_4691  0.000186  0.000765  0.242762         X   \n",
       "11150  OX359250.1   g_4692  0.000494  0.001736  0.284659         X   \n",
       "11151  OX359250.1   g_4695  0.000720  0.000415  1.736440         X   \n",
       "\n",
       "              bias  \n",
       "0         unbiased  \n",
       "1         unbiased  \n",
       "2      male_biased  \n",
       "3         unbiased  \n",
       "4         unbiased  \n",
       "...            ...  \n",
       "11147     unbiased  \n",
       "11148     unbiased  \n",
       "11149     unbiased  \n",
       "11150     unbiased  \n",
       "11151     unbiased  \n",
       "\n",
       "[11011 rows x 7 columns]"
      ]
     },
     "execution_count": 46,
     "metadata": {},
     "output_type": "execute_result"
    }
   ],
   "source": [
    "pi_df"
   ]
  },
  {
   "cell_type": "code",
   "execution_count": 47,
   "id": "fd95fb85",
   "metadata": {},
   "outputs": [
    {
     "data": {
      "text/plain": [
       "count    11011.000000\n",
       "mean         0.543641\n",
       "std          0.788726\n",
       "min          0.000000\n",
       "25%          0.170986\n",
       "50%          0.338169\n",
       "75%          0.629371\n",
       "max         15.058803\n",
       "Name: 0/4D_pi, dtype: float64"
      ]
     },
     "execution_count": 47,
     "metadata": {},
     "output_type": "execute_result"
    }
   ],
   "source": [
    "pi_df['0/4D_pi'].describe()"
   ]
  },
  {
   "cell_type": "code",
   "execution_count": 48,
   "id": "7000cc51",
   "metadata": {},
   "outputs": [
    {
     "data": {
      "text/plain": [
       "<Axes: xlabel='0/4D_pi', ylabel='Count'>"
      ]
     },
     "execution_count": 48,
     "metadata": {},
     "output_type": "execute_result"
    },
    {
     "data": {
      "image/png": "[encoded data removed]",
      "text/plain": [
       "<Figure size 432x288 with 1 Axes>"
      ]
     },
     "metadata": {
      "needs_background": "light"
     },
     "output_type": "display_data"
    }
   ],
   "source": [
    "sns.histplot(pi_df['0/4D_pi'])"
   ]
  },
  {
   "cell_type": "code",
   "execution_count": 49,
   "id": "aeba9d4b",
   "metadata": {},
   "outputs": [
    {
     "data": {
      "image/png": "[encoded data removed]",
      "text/plain": [
       "<Figure size 720x720 with 6 Axes>"
      ]
     },
     "metadata": {
      "needs_background": "light"
     },
     "output_type": "display_data"
    }
   ],
   "source": [
    "fig, axs = plt.subplots(nrows = 3, ncols=2, figsize = (10,10), sharex=True)\n",
    "\n",
    "x_upper = 2.5\n",
    "x_lower = 0\n",
    "y_upper = 0.2\n",
    "y_lower = 0\n",
    "n_bins = 25\n",
    "bins = np.arange(x_lower,x_upper,(x_upper-x_lower)/n_bins)\n",
    "\n",
    "stat = 'count'\n",
    "\n",
    "sns.histplot(data = pi_df[(pi_df['bias']=='unbiased') & (pi_df['linkage']=='autosome')],\n",
    "             x = '0/4D_pi',\n",
    "             stat=stat,\n",
    "             bins=bins,\n",
    "             ax = axs[0][0])\n",
    "\n",
    "sns.histplot(data = pi_df[(pi_df['bias']=='male_biased') & (pi_df['linkage']=='autosome')],\n",
    "             x = '0/4D_pi',\n",
    "             stat=stat,\n",
    "             bins=bins,\n",
    "             color='orange',\n",
    "             ax = axs[1][0])\n",
    "\n",
    "sns.histplot(data = pi_df[(pi_df['bias']=='female_biased') & (pi_df['linkage']=='autosome')],\n",
    "             x = '0/4D_pi',\n",
    "             stat=stat,\n",
    "             bins=bins,\n",
    "             color='green',\n",
    "             ax = axs[2][0])\n",
    "\n",
    "sns.histplot(data = pi_df[(pi_df['bias']=='unbiased') & (pi_df['linkage']=='X')],\n",
    "             x = '0/4D_pi',\n",
    "             stat=stat,\n",
    "             bins=bins,\n",
    "             label = 'Unbiased',\n",
    "             ax = axs[0][1])\n",
    "\n",
    "sns.histplot(data = pi_df[(pi_df['bias']=='male_biased') & (pi_df['linkage']=='X')],\n",
    "             x = '0/4D_pi',\n",
    "             stat=stat,\n",
    "             bins=bins,\n",
    "             color='orange',\n",
    "             label = 'Male biased',\n",
    "             ax = axs[1][1])\n",
    "\n",
    "sns.histplot(data = pi_df[(pi_df['bias']=='female_biased') & (pi_df['linkage']=='X')],\n",
    "             x = '0/4D_pi',\n",
    "             stat=stat,\n",
    "             bins=bins,\n",
    "             color='green',\n",
    "             label = 'Female biased',\n",
    "             ax = axs[2][1])\n",
    "\n",
    "for i in range(3):\n",
    "    axs[i][0].set_xlim(x_lower, x_upper)\n",
    "    axs[i][1].set_xlim(x_lower, x_upper)\n",
    "    \n",
    "    #axs[i][0].set_ylim(y_lower, y_upper)\n",
    "    #axs[i][1].set_ylim(y_lower, y_upper)\n",
    "    \n",
    "    axs[i][0].set_xlabel('0D/4D pi (autosome)')\n",
    "    axs[i][1].set_xlabel('0D/4D pi (X)')\n",
    "    \n",
    "    axs[i][1].legend()\n",
    "    \n",
    "#plt.xticks(np.arange(x_lower, x_upper, x_upper/7))"
   ]
  },
  {
   "cell_type": "code",
   "execution_count": 50,
   "id": "b500a77a",
   "metadata": {},
   "outputs": [
    {
     "data": {
      "image/png": "[encoded data removed]",
      "text/plain": [
       "<Figure size 720x720 with 6 Axes>"
      ]
     },
     "metadata": {
      "needs_background": "light"
     },
     "output_type": "display_data"
    }
   ],
   "source": [
    "fig, axs = plt.subplots(nrows = 3, ncols=2, figsize = (10,10), sharex=True)\n",
    "\n",
    "x_upper = 0.05\n",
    "x_lower = 0\n",
    "y_upper = 0.2\n",
    "y_lower = 0\n",
    "n_bins = 25\n",
    "bins = np.arange(x_lower,x_upper,(x_upper-x_lower)/n_bins)\n",
    "\n",
    "stat = 'count'\n",
    "\n",
    "sns.histplot(data = pi_df[(pi_df['bias']=='unbiased') & (pi_df['linkage']=='autosome')],\n",
    "             x = '0D_pi',\n",
    "             stat=stat,\n",
    "             bins=bins,\n",
    "             ax = axs[0][0])\n",
    "\n",
    "sns.histplot(data = pi_df[(pi_df['bias']=='male_biased') & (pi_df['linkage']=='autosome')],\n",
    "             x = '0D_pi',\n",
    "             stat=stat,\n",
    "             bins=bins,\n",
    "             color='orange',\n",
    "             ax = axs[1][0])\n",
    "\n",
    "sns.histplot(data = pi_df[(pi_df['bias']=='female_biased') & (pi_df['linkage']=='autosome')],\n",
    "             x = '0D_pi',\n",
    "             stat=stat,\n",
    "             bins=bins,\n",
    "             color='green',\n",
    "             ax = axs[2][0])\n",
    "\n",
    "sns.histplot(data = pi_df[(pi_df['bias']=='unbiased') & (pi_df['linkage']=='X')],\n",
    "             x = '0D_pi',\n",
    "             stat=stat,\n",
    "             bins=bins,\n",
    "             label = 'Unbiased',\n",
    "             ax = axs[0][1])\n",
    "\n",
    "sns.histplot(data = pi_df[(pi_df['bias']=='male_biased') & (pi_df['linkage']=='X')],\n",
    "             x = '0D_pi',\n",
    "             stat=stat,\n",
    "             bins=bins,\n",
    "             color='orange',\n",
    "             label = 'Male biased',\n",
    "             ax = axs[1][1])\n",
    "\n",
    "sns.histplot(data = pi_df[(pi_df['bias']=='female_biased') & (pi_df['linkage']=='X')],\n",
    "             x = '4D_pi',\n",
    "             stat=stat,\n",
    "             bins=bins,\n",
    "             color='green',\n",
    "             label = 'Female biased',\n",
    "             ax = axs[2][1])\n",
    "\n",
    "for i in range(3):\n",
    "    axs[i][0].set_xlim(x_lower, x_upper)\n",
    "    axs[i][1].set_xlim(x_lower, x_upper)\n",
    "    \n",
    "    #axs[i][0].set_ylim(y_lower, y_upper)\n",
    "    #axs[i][1].set_ylim(y_lower, y_upper)\n",
    "    \n",
    "    axs[i][0].set_xlabel('0D/4D pi (autosome)')\n",
    "    axs[i][1].set_xlabel('0D/4D pi (X)')\n",
    "    \n",
    "    axs[i][1].legend()\n",
    "    \n",
    "#plt.xticks(np.arange(x_lower, x_upper, x_upper/7))"
   ]
  },
  {
   "cell_type": "code",
   "execution_count": 51,
   "id": "32c4299d",
   "metadata": {},
   "outputs": [
    {
     "data": {
      "text/plain": [
       "7521"
      ]
     },
     "execution_count": 51,
     "metadata": {},
     "output_type": "execute_result"
    }
   ],
   "source": [
    "pi_df[(pi_df['bias']=='unbiased') & (pi_df['linkage']=='autosome')].shape[0]"
   ]
  },
  {
   "cell_type": "code",
   "execution_count": 52,
   "id": "d0b53e7f",
   "metadata": {},
   "outputs": [
    {
     "data": {
      "text/plain": [
       "1677"
      ]
     },
     "execution_count": 52,
     "metadata": {},
     "output_type": "execute_result"
    }
   ],
   "source": [
    "pi_df[(pi_df['bias']=='male_biased') & (pi_df['linkage']=='autosome')].shape[0]"
   ]
  },
  {
   "cell_type": "code",
   "execution_count": 53,
   "id": "817b0c35",
   "metadata": {},
   "outputs": [
    {
     "data": {
      "text/plain": [
       "785"
      ]
     },
     "execution_count": 53,
     "metadata": {},
     "output_type": "execute_result"
    }
   ],
   "source": [
    "pi_df[(pi_df['bias']=='female_biased') & (pi_df['linkage']=='autosome')].shape[0]"
   ]
  },
  {
   "cell_type": "code",
   "execution_count": 54,
   "id": "d1bb8cdf",
   "metadata": {},
   "outputs": [
    {
     "data": {
      "text/plain": [
       "651"
      ]
     },
     "execution_count": 54,
     "metadata": {},
     "output_type": "execute_result"
    }
   ],
   "source": [
    "pi_df[(pi_df['bias']=='unbiased') & (pi_df['linkage']=='X')].shape[0]"
   ]
  },
  {
   "cell_type": "code",
   "execution_count": 55,
   "id": "bb49015c",
   "metadata": {},
   "outputs": [
    {
     "data": {
      "text/plain": [
       "306"
      ]
     },
     "execution_count": 55,
     "metadata": {},
     "output_type": "execute_result"
    }
   ],
   "source": [
    "pi_df[(pi_df['bias']=='male_biased') & (pi_df['linkage']=='X')].shape[0]"
   ]
  },
  {
   "cell_type": "code",
   "execution_count": 56,
   "id": "e1bf4ebe",
   "metadata": {},
   "outputs": [
    {
     "data": {
      "text/plain": [
       "71"
      ]
     },
     "execution_count": 56,
     "metadata": {},
     "output_type": "execute_result"
    }
   ],
   "source": [
    "pi_df[(pi_df['bias']=='female_biased') & (pi_df['linkage']=='X')].shape[0]"
   ]
  },
  {
   "cell_type": "code",
   "execution_count": 57,
   "id": "ac5b5d61",
   "metadata": {},
   "outputs": [
    {
     "name": "stdout",
     "output_type": "stream",
     "text": [
      "0.011316575407782676\n",
      "count    466.000000\n",
      "mean       0.008754\n",
      "std        0.015977\n",
      "min        0.000035\n",
      "25%        0.001168\n",
      "50%        0.003298\n",
      "75%        0.009743\n",
      "max        0.178744\n",
      "Name: 4D_pi, dtype: float64\n",
      "count    562.000000\n",
      "mean       0.010112\n",
      "std        0.013744\n",
      "min        0.000105\n",
      "25%        0.001552\n",
      "50%        0.004631\n",
      "75%        0.011805\n",
      "max        0.083286\n",
      "Name: 4D_pi, dtype: float64\n"
     ]
    }
   ],
   "source": [
    "print(pi_df[pi_df['linkage']=='autosome']['4D_pi'].mean())\n",
    "print(pi_df[pi_df['chrom']=='OX359249.1']['4D_pi'].describe())\n",
    "print(pi_df[pi_df['chrom']=='OX359250.1']['4D_pi'].describe())"
   ]
  },
  {
   "cell_type": "code",
   "execution_count": 58,
   "id": "1247cbc4",
   "metadata": {},
   "outputs": [
    {
     "data": {
      "text/plain": [
       "<Axes: xlabel='4D_pi', ylabel='Count'>"
      ]
     },
     "execution_count": 58,
     "metadata": {},
     "output_type": "execute_result"
    },
    {
     "data": {
      "image/png": "[encoded data removed]",
      "text/plain": [
       "<Figure size 432x288 with 1 Axes>"
      ]
     },
     "metadata": {
      "needs_background": "light"
     },
     "output_type": "display_data"
    }
   ],
   "source": [
    "sns.histplot(pi_df[pi_df['chrom']=='OX359249.1']['4D_pi'])"
   ]
  },
  {
   "cell_type": "code",
   "execution_count": 59,
   "id": "a1378b0d",
   "metadata": {},
   "outputs": [
    {
     "data": {
      "text/plain": [
       "<Axes: xlabel='4D_pi', ylabel='Count'>"
      ]
     },
     "execution_count": 59,
     "metadata": {},
     "output_type": "execute_result"
    },
    {
     "data": {
      "image/png": "[encoded data removed]",
      "text/plain": [
       "<Figure size 432x288 with 1 Axes>"
      ]
     },
     "metadata": {
      "needs_background": "light"
     },
     "output_type": "display_data"
    }
   ],
   "source": [
    "sns.histplot(pi_df[pi_df['chrom']=='OX359250.1']['4D_pi'])"
   ]
  },
  {
   "cell_type": "code",
   "execution_count": 60,
   "id": "244eefeb",
   "metadata": {},
   "outputs": [
    {
     "data": {
      "text/plain": [
       "['OX359245.1',\n",
       " 'OX359246.1',\n",
       " 'OX359247.1',\n",
       " 'OX359248.1',\n",
       " 'OX359249.1',\n",
       " 'OX359250.1']"
      ]
     },
     "execution_count": 60,
     "metadata": {},
     "output_type": "execute_result"
    }
   ],
   "source": [
    "chromosomes"
   ]
  },
  {
   "cell_type": "code",
   "execution_count": 61,
   "id": "f7c4ae78",
   "metadata": {},
   "outputs": [
    {
     "data": {
      "text/plain": [
       "(0.0, 0.05)"
      ]
     },
     "execution_count": 61,
     "metadata": {},
     "output_type": "execute_result"
    },
    {
     "data": {
      "image/png": "[encoded data removed]",
      "text/plain": [
       "<Figure size 720x720 with 6 Axes>"
      ]
     },
     "metadata": {
      "needs_background": "light"
     },
     "output_type": "display_data"
    }
   ],
   "source": [
    "fig, axs = plt.subplots(nrows=6, figsize = (10,10), sharex=True)\n",
    "\n",
    "bins = np.arange(0, 0.05, 0.005)\n",
    "\n",
    "for i, chrom in enumerate(chromosomes):\n",
    "    sns.histplot(pi_df[pi_df['chrom']==chrom]['4D_pi'],\n",
    "                ax = axs[i],\n",
    "                bins = bins)\n",
    "    \n",
    "axs[5].set_xlim(0, 0.05)"
   ]
  },
  {
   "cell_type": "code",
   "execution_count": 62,
   "id": "af98efd7",
   "metadata": {},
   "outputs": [
    {
     "data": {
      "image/png": "[encoded data removed]",
      "text/plain": [
       "<Figure size 720x720 with 6 Axes>"
      ]
     },
     "metadata": {
      "needs_background": "light"
     },
     "output_type": "display_data"
    }
   ],
   "source": [
    "fig, axs = plt.subplots(nrows=6, figsize = (10,10), sharex=True)\n",
    "\n",
    "bins = np.arange(-10, 0.5, 0.5)\n",
    "\n",
    "for i, chrom in enumerate(chromosomes):\n",
    "    sns.histplot(np.log(pi_df[pi_df['chrom']==chrom]['4D_pi']),\n",
    "                ax = axs[i],\n",
    "                bins = bins)\n",
    "    \n",
    "    axs[i].set_title(chrom, loc = 'right')\n",
    "\n",
    "axs[5].set_xlabel('log(4D_pi)')\n",
    "\n",
    "plt.tight_layout()"
   ]
  },
  {
   "cell_type": "code",
   "execution_count": 63,
   "id": "e5abbe6a",
   "metadata": {},
   "outputs": [
    {
     "name": "stderr",
     "output_type": "stream",
     "text": [
      "/Users/se13/mambaforge/envs/lg_het/lib/python3.10/site-packages/pandas/core/arraylike.py:396: RuntimeWarning: divide by zero encountered in log10\n",
      "  result = getattr(ufunc, method)(*inputs, **kwargs)\n"
     ]
    }
   ],
   "source": [
    "pi_df['log_4D_pi'] = np.log10(pi_df['4D_pi'])\n",
    "pi_df['log_0/4D_pi'] = np.log10(pi_df['0/4D_pi'])\n",
    "pi_df['log_0/4D_pi/0/4D_pi'] = pi_df['log_0/4D_pi']/pi_df['log_4D_pi']\n",
    "pi_df.replace([np.inf, -np.inf], np.nan, inplace=True)"
   ]
  },
  {
   "cell_type": "code",
   "execution_count": 64,
   "id": "651485be",
   "metadata": {},
   "outputs": [
    {
     "data": {
      "text/plain": [
       "0.24618042230642448"
      ]
     },
     "execution_count": 64,
     "metadata": {},
     "output_type": "execute_result"
    }
   ],
   "source": [
    "pi_df['log_0/4D_pi/0/4D_pi'].mean()"
   ]
  },
  {
   "cell_type": "code",
   "execution_count": 65,
   "id": "37f21473",
   "metadata": {},
   "outputs": [
    {
     "data": {
      "text/plain": [
       "'lower the β value the more skewed the distribution, with many weakly deleterious and only a few very strongly deleterious mutations'"
      ]
     },
     "execution_count": 65,
     "metadata": {},
     "output_type": "execute_result"
    },
    {
     "data": {
      "image/png": "[encoded data removed]",
      "text/plain": [
       "<Figure size 720x720 with 1 Axes>"
      ]
     },
     "metadata": {
      "needs_background": "light"
     },
     "output_type": "display_data"
    }
   ],
   "source": [
    "fig, axs = plt.subplots( figsize = (10,10))\n",
    "\n",
    "sns.histplot(pi_df['log_0/4D_pi/0/4D_pi'])\n",
    "axs.axvline(x=pi_df['log_0/4D_pi/0/4D_pi'].mean(), color = 'black')\n",
    "'lower the β value the more skewed the distribution, with many weakly deleterious and only a few very strongly deleterious mutations'"
   ]
  },
  {
   "cell_type": "code",
   "execution_count": 66,
   "id": "4d423f63",
   "metadata": {},
   "outputs": [
    {
     "data": {
      "text/html": [
       "<div>\n",
       "<style scoped>\n",
       "    .dataframe tbody tr th:only-of-type {\n",
       "        vertical-align: middle;\n",
       "    }\n",
       "\n",
       "    .dataframe tbody tr th {\n",
       "        vertical-align: top;\n",
       "    }\n",
       "\n",
       "    .dataframe thead th {\n",
       "        text-align: right;\n",
       "    }\n",
       "</style>\n",
       "<table border=\"1\" class=\"dataframe\">\n",
       "  <thead>\n",
       "    <tr style=\"text-align: right;\">\n",
       "      <th></th>\n",
       "      <th>chrom</th>\n",
       "      <th>Geneid</th>\n",
       "      <th>0D_pi</th>\n",
       "      <th>4D_pi</th>\n",
       "      <th>0/4D_pi</th>\n",
       "      <th>linkage</th>\n",
       "      <th>bias</th>\n",
       "      <th>log_4D_pi</th>\n",
       "      <th>log_0/4D_pi</th>\n",
       "      <th>log_0/4D_pi/0/4D_pi</th>\n",
       "    </tr>\n",
       "  </thead>\n",
       "  <tbody>\n",
       "    <tr>\n",
       "      <th>0</th>\n",
       "      <td>OX359245.1</td>\n",
       "      <td>g_33544</td>\n",
       "      <td>0.019374</td>\n",
       "      <td>0.010455</td>\n",
       "      <td>1.853129</td>\n",
       "      <td>autosome</td>\n",
       "      <td>unbiased</td>\n",
       "      <td>-1.980689</td>\n",
       "      <td>0.267906</td>\n",
       "      <td>-0.135259</td>\n",
       "    </tr>\n",
       "    <tr>\n",
       "      <th>1</th>\n",
       "      <td>OX359245.1</td>\n",
       "      <td>g_33549</td>\n",
       "      <td>0.000501</td>\n",
       "      <td>0.000487</td>\n",
       "      <td>1.027850</td>\n",
       "      <td>autosome</td>\n",
       "      <td>unbiased</td>\n",
       "      <td>-3.312177</td>\n",
       "      <td>0.011930</td>\n",
       "      <td>-0.003602</td>\n",
       "    </tr>\n",
       "    <tr>\n",
       "      <th>2</th>\n",
       "      <td>OX359245.1</td>\n",
       "      <td>g_33551</td>\n",
       "      <td>0.001268</td>\n",
       "      <td>0.005283</td>\n",
       "      <td>0.239941</td>\n",
       "      <td>autosome</td>\n",
       "      <td>male_biased</td>\n",
       "      <td>-2.277132</td>\n",
       "      <td>-0.619895</td>\n",
       "      <td>0.272226</td>\n",
       "    </tr>\n",
       "    <tr>\n",
       "      <th>3</th>\n",
       "      <td>OX359245.1</td>\n",
       "      <td>g_33556</td>\n",
       "      <td>0.000921</td>\n",
       "      <td>0.000665</td>\n",
       "      <td>1.385024</td>\n",
       "      <td>autosome</td>\n",
       "      <td>unbiased</td>\n",
       "      <td>-3.177127</td>\n",
       "      <td>0.141457</td>\n",
       "      <td>-0.044524</td>\n",
       "    </tr>\n",
       "    <tr>\n",
       "      <th>4</th>\n",
       "      <td>OX359245.1</td>\n",
       "      <td>g_33557</td>\n",
       "      <td>0.000347</td>\n",
       "      <td>0.010225</td>\n",
       "      <td>0.033888</td>\n",
       "      <td>autosome</td>\n",
       "      <td>unbiased</td>\n",
       "      <td>-1.990347</td>\n",
       "      <td>-1.469949</td>\n",
       "      <td>0.738539</td>\n",
       "    </tr>\n",
       "    <tr>\n",
       "      <th>...</th>\n",
       "      <td>...</td>\n",
       "      <td>...</td>\n",
       "      <td>...</td>\n",
       "      <td>...</td>\n",
       "      <td>...</td>\n",
       "      <td>...</td>\n",
       "      <td>...</td>\n",
       "      <td>...</td>\n",
       "      <td>...</td>\n",
       "      <td>...</td>\n",
       "    </tr>\n",
       "    <tr>\n",
       "      <th>11147</th>\n",
       "      <td>OX359250.1</td>\n",
       "      <td>g_4665</td>\n",
       "      <td>0.002774</td>\n",
       "      <td>0.002684</td>\n",
       "      <td>1.033188</td>\n",
       "      <td>X</td>\n",
       "      <td>unbiased</td>\n",
       "      <td>-2.571150</td>\n",
       "      <td>0.014179</td>\n",
       "      <td>-0.005515</td>\n",
       "    </tr>\n",
       "    <tr>\n",
       "      <th>11148</th>\n",
       "      <td>OX359250.1</td>\n",
       "      <td>g_4690</td>\n",
       "      <td>0.010225</td>\n",
       "      <td>0.008239</td>\n",
       "      <td>1.241028</td>\n",
       "      <td>X</td>\n",
       "      <td>unbiased</td>\n",
       "      <td>-2.084124</td>\n",
       "      <td>0.093782</td>\n",
       "      <td>-0.044998</td>\n",
       "    </tr>\n",
       "    <tr>\n",
       "      <th>11149</th>\n",
       "      <td>OX359250.1</td>\n",
       "      <td>g_4691</td>\n",
       "      <td>0.000186</td>\n",
       "      <td>0.000765</td>\n",
       "      <td>0.242762</td>\n",
       "      <td>X</td>\n",
       "      <td>unbiased</td>\n",
       "      <td>-3.116608</td>\n",
       "      <td>-0.614820</td>\n",
       "      <td>0.197272</td>\n",
       "    </tr>\n",
       "    <tr>\n",
       "      <th>11150</th>\n",
       "      <td>OX359250.1</td>\n",
       "      <td>g_4692</td>\n",
       "      <td>0.000494</td>\n",
       "      <td>0.001736</td>\n",
       "      <td>0.284659</td>\n",
       "      <td>X</td>\n",
       "      <td>unbiased</td>\n",
       "      <td>-2.760536</td>\n",
       "      <td>-0.545675</td>\n",
       "      <td>0.197670</td>\n",
       "    </tr>\n",
       "    <tr>\n",
       "      <th>11151</th>\n",
       "      <td>OX359250.1</td>\n",
       "      <td>g_4695</td>\n",
       "      <td>0.000720</td>\n",
       "      <td>0.000415</td>\n",
       "      <td>1.736440</td>\n",
       "      <td>X</td>\n",
       "      <td>unbiased</td>\n",
       "      <td>-3.382377</td>\n",
       "      <td>0.239660</td>\n",
       "      <td>-0.070855</td>\n",
       "    </tr>\n",
       "  </tbody>\n",
       "</table>\n",
       "<p>11011 rows × 10 columns</p>\n",
       "</div>"
      ],
      "text/plain": [
       "            chrom   Geneid     0D_pi     4D_pi   0/4D_pi   linkage  \\\n",
       "0      OX359245.1  g_33544  0.019374  0.010455  1.853129  autosome   \n",
       "1      OX359245.1  g_33549  0.000501  0.000487  1.027850  autosome   \n",
       "2      OX359245.1  g_33551  0.001268  0.005283  0.239941  autosome   \n",
       "3      OX359245.1  g_33556  0.000921  0.000665  1.385024  autosome   \n",
       "4      OX359245.1  g_33557  0.000347  0.010225  0.033888  autosome   \n",
       "...           ...      ...       ...       ...       ...       ...   \n",
       "11147  OX359250.1   g_4665  0.002774  0.002684  1.033188         X   \n",
       "11148  OX359250.1   g_4690  0.010225  0.008239  1.241028         X   \n",
       "11149  OX359250.1   g_4691  0.000186  0.000765  0.242762         X   \n",
       "11150  OX359250.1   g_4692  0.000494  0.001736  0.284659         X   \n",
       "11151  OX359250.1   g_4695  0.000720  0.000415  1.736440         X   \n",
       "\n",
       "              bias  log_4D_pi  log_0/4D_pi  log_0/4D_pi/0/4D_pi  \n",
       "0         unbiased  -1.980689     0.267906            -0.135259  \n",
       "1         unbiased  -3.312177     0.011930            -0.003602  \n",
       "2      male_biased  -2.277132    -0.619895             0.272226  \n",
       "3         unbiased  -3.177127     0.141457            -0.044524  \n",
       "4         unbiased  -1.990347    -1.469949             0.738539  \n",
       "...            ...        ...          ...                  ...  \n",
       "11147     unbiased  -2.571150     0.014179            -0.005515  \n",
       "11148     unbiased  -2.084124     0.093782            -0.044998  \n",
       "11149     unbiased  -3.116608    -0.614820             0.197272  \n",
       "11150     unbiased  -2.760536    -0.545675             0.197670  \n",
       "11151     unbiased  -3.382377     0.239660            -0.070855  \n",
       "\n",
       "[11011 rows x 10 columns]"
      ]
     },
     "execution_count": 66,
     "metadata": {},
     "output_type": "execute_result"
    }
   ],
   "source": [
    "pi_df"
   ]
  },
  {
   "cell_type": "code",
   "execution_count": 67,
   "id": "263eb182",
   "metadata": {},
   "outputs": [
    {
     "data": {
      "text/plain": [
       "bias\n",
       "unbiased         0.633268\n",
       "male_biased      0.297665\n",
       "female_biased    0.069066\n",
       "Name: proportion, dtype: float64"
      ]
     },
     "execution_count": 67,
     "metadata": {},
     "output_type": "execute_result"
    }
   ],
   "source": [
    "pi_df[pi_df['chrom'].isin(['OX359249.1','OX359250.1'])]['bias'].value_counts(normalize=True)"
   ]
  },
  {
   "cell_type": "code",
   "execution_count": 68,
   "id": "24af6a48",
   "metadata": {},
   "outputs": [
    {
     "data": {
      "text/plain": [
       "bias\n",
       "unbiased         0.753381\n",
       "male_biased      0.167986\n",
       "female_biased    0.078634\n",
       "Name: proportion, dtype: float64"
      ]
     },
     "execution_count": 68,
     "metadata": {},
     "output_type": "execute_result"
    }
   ],
   "source": [
    "pi_df[pi_df['chrom'].isin(['OX359245.1','OX359246.1','OX359247.1','OX359248.1'])]['bias'].value_counts(normalize=True)"
   ]
  },
  {
   "cell_type": "code",
   "execution_count": 69,
   "id": "0491ab10",
   "metadata": {},
   "outputs": [
    {
     "data": {
      "text/plain": [
       "bias\n",
       "unbiased         0.742167\n",
       "male_biased      0.180093\n",
       "female_biased    0.077740\n",
       "Name: proportion, dtype: float64"
      ]
     },
     "execution_count": 69,
     "metadata": {},
     "output_type": "execute_result"
    }
   ],
   "source": [
    "pi_df['bias'].value_counts(normalize=True)"
   ]
  },
  {
   "cell_type": "code",
   "execution_count": 70,
   "id": "0341fb5b",
   "metadata": {},
   "outputs": [],
   "source": [
    "n = 1028\n",
    "u = 0.742167\n",
    "m = 0.180093\n",
    "f = 0.077740\n",
    "obs = 0.297"
   ]
  },
  {
   "cell_type": "code",
   "execution_count": 71,
   "id": "ef57c5c3",
   "metadata": {},
   "outputs": [],
   "source": [
    "def resample_bias(n, frequency):\n",
    "    return sum([True if random.random() <= frequency else False for _ in range(n)])/n"
   ]
  },
  {
   "cell_type": "code",
   "execution_count": 72,
   "id": "59af27af",
   "metadata": {},
   "outputs": [
    {
     "name": "stdout",
     "output_type": "stream",
     "text": [
      " The observed proportion of X-linked male-biased genes is 9.72 standard deviations higher than the resampled distribution\n"
     ]
    },
    {
     "data": {
      "image/png": "[encoded data removed]",
      "text/plain": [
       "<Figure size 432x288 with 1 Axes>"
      ]
     },
     "metadata": {
      "needs_background": "light"
     },
     "output_type": "display_data"
    }
   ],
   "source": [
    "result_dist = [resample_bias(n, m) for _ in range(10000)]\n",
    "plt.hist(result_dist, color='grey', bins = 25)\n",
    "plt.axvline(m, color='blue')\n",
    "plt.axvline(obs, color='red')\n",
    "print(f' The observed proportion of X-linked male-biased genes is {round((obs-m)/np.std(result_dist), 2)} standard deviations higher than the resampled distribution')"
   ]
  },
  {
   "cell_type": "code",
   "execution_count": 73,
   "id": "969591c2",
   "metadata": {},
   "outputs": [
    {
     "data": {
      "text/plain": [
       "<matplotlib.lines.Line2D at 0x178d531c0>"
      ]
     },
     "execution_count": 73,
     "metadata": {},
     "output_type": "execute_result"
    },
    {
     "data": {
      "image/png": "[encoded data removed]",
      "text/plain": [
       "<Figure size 432x288 with 1 Axes>"
      ]
     },
     "metadata": {
      "needs_background": "light"
     },
     "output_type": "display_data"
    }
   ],
   "source": [
    "plt.hist([result-m for result in result_dist], color='grey', bins = 25)\n",
    "plt.axvline(0, color='blue')\n",
    "plt.axvline(0.297-m, color='red')"
   ]
  },
  {
   "cell_type": "code",
   "execution_count": null,
   "id": "f3020ed9",
   "metadata": {},
   "outputs": [],
   "source": []
  }
 ],
 "metadata": {
  "kernelspec": {
   "display_name": "Python 3 (ipykernel)",
   "language": "python",
   "name": "python3"
  },
  "language_info": {
   "codemirror_mode": {
    "name": "ipython",
    "version": 3
   },
   "file_extension": ".py",
   "mimetype": "text/x-python",
   "name": "python",
   "nbconvert_exporter": "python",
   "pygments_lexer": "ipython3",
   "version": "3.10.12"
  }
 },
 "nbformat": 4,
 "nbformat_minor": 5
}
