{
 "cells": [
  {
   "cell_type": "code",
   "execution_count": 5,
   "id": "7b4f5307",
   "metadata": {},
   "outputs": [],
   "source": [
    "import pandas as pd\n",
    "import numpy as np\n",
    "import seaborn as sns\n",
    "import matplotlib.pyplot as plt"
   ]
  },
  {
   "cell_type": "code",
   "execution_count": 55,
   "id": "a4a50532",
   "metadata": {},
   "outputs": [],
   "source": [
    "def read_counts2tpm(df):\n",
    "\n",
    "    result = df\n",
    "    sample_reads = result.loc[:, result.columns != 'length'].copy()\n",
    "    gene_len = result.loc[:, ['length']]\n",
    "    normalize_by_genelength = sample_reads.values / gene_len.values\n",
    "    scaling_factor = (np.sum(normalize_by_genelength, axis=0).reshape(1, -1))/1e6\n",
    "    normalize_sequencingdepth = normalize_by_genelength / scaling_factor\n",
    "    tpm = normalize_sequencingdepth\n",
    "    return tpm"
   ]
  },
  {
   "cell_type": "code",
   "execution_count": 197,
   "id": "d647265f",
   "metadata": {},
   "outputs": [],
   "source": [
    "gene_bed_df = pd.read_csv('../data/results/deseq/allacma_fusca.tsebra.augustus.genes.bed', \n",
    "                        sep = '\\t', \n",
    "                        header = None,\n",
    "                        names = ['chrom','start','end','Geneid'])\n",
    "SBG_df = pd.read_csv('../data/results/deseq2/allacma_fusca/v_1/allacma_fusca.DEseq2_results_filtered.tsv', \n",
    "                        sep = '\\t')\n",
    "raw_df = pd.read_csv('../data/results/deseq2/allacma_fusca/v_1/allacma_fusca.DEseq2_results_raw.tsv', \n",
    "                        sep = '\\t')\n",
    "counts_df = pd.read_csv('../data/results/deseq2/allacma_fusca/v_1/allacma_fusca.DEseq2_counts.tsv',\n",
    "                        sep = '\\t')\n",
    "pi_df = pd.read_csv('../data/results/gene_pop/full/allacma_fusca.longest_isoforms.pi.tsv',\n",
    "                        sep = '\\t')\n",
    "pi_df.columns=['chrom','Geneid','0D_pi','4D_pi','0/4D_pi']\n"
   ]
  },
  {
   "cell_type": "code",
   "execution_count": 198,
   "id": "b1712e31",
   "metadata": {},
   "outputs": [],
   "source": [
    "pi_df = pi_df.dropna()\n",
    "pi_df['Geneid'] = [gene.replace('g','g_') for gene in pi_df['Geneid'].to_list()]\n",
    "pi_df = pi_df[pi_df['Geneid'].isin(Geneid)]\n",
    "pi_df['linkage'] = np.where((pi_df['chrom'] == 'OX359249.1' ) | (pi_df['chrom'] == 'OX359250.1'),\n",
    "                            'X', 'autosome')\n",
    "pi_df.replace([np.inf, -np.inf], np.nan, inplace=True)\n",
    "pi_df = pi_df.merge(chrom_df[['Geneid','bias']], how='outer', on = 'Geneid').dropna()"
   ]
  },
  {
   "cell_type": "code",
   "execution_count": 74,
   "id": "c13f33e5",
   "metadata": {},
   "outputs": [],
   "source": [
    "sample_names = ['AF_F_1','AF_F_2','AF_F_3','AF_F_4','AF_F_5','AF_F_6','AF_F_7','AF_F_8','AF_F_9','AF_F_10',\n",
    "    'AF_M_1','AF_M_2','AF_M_3','AF_M_4','AF_M_5','AF_M_6','AF_M_7','AF_M_8','AF_M_9','AF_M_10']"
   ]
  },
  {
   "cell_type": "code",
   "execution_count": 75,
   "id": "ecd9c3ba",
   "metadata": {},
   "outputs": [],
   "source": [
    "counts_df['length'] = (gene_bed_df['end'] - gene_bed_df['start'])/1000\n",
    "Geneid = list(counts_df['Geneid'])\n",
    "Chrom = list(gene_bed_df['chrom'])\n",
    "counts_df = counts_df.set_index('Geneid')"
   ]
  },
  {
   "cell_type": "code",
   "execution_count": 68,
   "id": "bb266fdb",
   "metadata": {},
   "outputs": [
    {
     "data": {
      "text/html": [
       "<div>\n",
       "<style scoped>\n",
       "    .dataframe tbody tr th:only-of-type {\n",
       "        vertical-align: middle;\n",
       "    }\n",
       "\n",
       "    .dataframe tbody tr th {\n",
       "        vertical-align: top;\n",
       "    }\n",
       "\n",
       "    .dataframe thead th {\n",
       "        text-align: right;\n",
       "    }\n",
       "</style>\n",
       "<table border=\"1\" class=\"dataframe\">\n",
       "  <thead>\n",
       "    <tr style=\"text-align: right;\">\n",
       "      <th></th>\n",
       "      <th>AF_F_1</th>\n",
       "      <th>AF_F_2</th>\n",
       "      <th>AF_F_3</th>\n",
       "      <th>AF_F_4</th>\n",
       "      <th>AF_F_5</th>\n",
       "      <th>AF_F_6</th>\n",
       "      <th>AF_F_7</th>\n",
       "      <th>AF_F_8</th>\n",
       "      <th>AF_F_9</th>\n",
       "      <th>AF_F_10</th>\n",
       "      <th>...</th>\n",
       "      <th>AF_M_3</th>\n",
       "      <th>AF_M_4</th>\n",
       "      <th>AF_M_5</th>\n",
       "      <th>AF_M_6</th>\n",
       "      <th>AF_M_7</th>\n",
       "      <th>AF_M_8</th>\n",
       "      <th>AF_M_9</th>\n",
       "      <th>AF_M_10</th>\n",
       "      <th>Geneid</th>\n",
       "      <th>chrom</th>\n",
       "    </tr>\n",
       "  </thead>\n",
       "  <tbody>\n",
       "    <tr>\n",
       "      <th>0</th>\n",
       "      <td>0.834472</td>\n",
       "      <td>0.704063</td>\n",
       "      <td>0.062557</td>\n",
       "      <td>0.041488</td>\n",
       "      <td>3.086613</td>\n",
       "      <td>0.000000</td>\n",
       "      <td>0.000000</td>\n",
       "      <td>0.000000</td>\n",
       "      <td>0.000000</td>\n",
       "      <td>0.0</td>\n",
       "      <td>...</td>\n",
       "      <td>12.743709</td>\n",
       "      <td>13.100929</td>\n",
       "      <td>7.581688</td>\n",
       "      <td>0.000000</td>\n",
       "      <td>0.000000</td>\n",
       "      <td>0.000000</td>\n",
       "      <td>0.0</td>\n",
       "      <td>0.0</td>\n",
       "      <td>g_27516</td>\n",
       "      <td>CAMXBY010000001.1</td>\n",
       "    </tr>\n",
       "    <tr>\n",
       "      <th>1</th>\n",
       "      <td>0.000000</td>\n",
       "      <td>0.000000</td>\n",
       "      <td>0.000000</td>\n",
       "      <td>0.000000</td>\n",
       "      <td>0.000000</td>\n",
       "      <td>0.000000</td>\n",
       "      <td>0.000000</td>\n",
       "      <td>0.000000</td>\n",
       "      <td>0.000000</td>\n",
       "      <td>0.0</td>\n",
       "      <td>...</td>\n",
       "      <td>0.000000</td>\n",
       "      <td>0.000000</td>\n",
       "      <td>0.000000</td>\n",
       "      <td>0.000000</td>\n",
       "      <td>0.000000</td>\n",
       "      <td>0.000000</td>\n",
       "      <td>0.0</td>\n",
       "      <td>0.0</td>\n",
       "      <td>g_89</td>\n",
       "      <td>CAMXBY010000002.1</td>\n",
       "    </tr>\n",
       "    <tr>\n",
       "      <th>2</th>\n",
       "      <td>0.584695</td>\n",
       "      <td>1.624200</td>\n",
       "      <td>0.496298</td>\n",
       "      <td>1.792003</td>\n",
       "      <td>3.597952</td>\n",
       "      <td>0.000000</td>\n",
       "      <td>0.000000</td>\n",
       "      <td>0.000000</td>\n",
       "      <td>0.000000</td>\n",
       "      <td>0.0</td>\n",
       "      <td>...</td>\n",
       "      <td>6.792169</td>\n",
       "      <td>15.617153</td>\n",
       "      <td>4.631044</td>\n",
       "      <td>13.140533</td>\n",
       "      <td>6.435697</td>\n",
       "      <td>1.359844</td>\n",
       "      <td>0.0</td>\n",
       "      <td>0.0</td>\n",
       "      <td>g_92</td>\n",
       "      <td>CAMXBY010000002.1</td>\n",
       "    </tr>\n",
       "    <tr>\n",
       "      <th>3</th>\n",
       "      <td>2.126509</td>\n",
       "      <td>3.588156</td>\n",
       "      <td>5.951807</td>\n",
       "      <td>5.466814</td>\n",
       "      <td>3.095291</td>\n",
       "      <td>1.300597</td>\n",
       "      <td>0.529783</td>\n",
       "      <td>1.089547</td>\n",
       "      <td>1.869153</td>\n",
       "      <td>0.0</td>\n",
       "      <td>...</td>\n",
       "      <td>4.318659</td>\n",
       "      <td>2.249792</td>\n",
       "      <td>5.970156</td>\n",
       "      <td>1.631282</td>\n",
       "      <td>1.878828</td>\n",
       "      <td>2.510156</td>\n",
       "      <td>0.0</td>\n",
       "      <td>0.0</td>\n",
       "      <td>g_94</td>\n",
       "      <td>CAMXBY010000002.1</td>\n",
       "    </tr>\n",
       "    <tr>\n",
       "      <th>4</th>\n",
       "      <td>8.606694</td>\n",
       "      <td>14.848901</td>\n",
       "      <td>24.983612</td>\n",
       "      <td>13.906897</td>\n",
       "      <td>12.689933</td>\n",
       "      <td>2.884802</td>\n",
       "      <td>2.065311</td>\n",
       "      <td>3.893539</td>\n",
       "      <td>3.606926</td>\n",
       "      <td>0.0</td>\n",
       "      <td>...</td>\n",
       "      <td>16.257560</td>\n",
       "      <td>13.476103</td>\n",
       "      <td>22.197843</td>\n",
       "      <td>4.133610</td>\n",
       "      <td>6.042660</td>\n",
       "      <td>9.708861</td>\n",
       "      <td>0.0</td>\n",
       "      <td>0.0</td>\n",
       "      <td>g_95</td>\n",
       "      <td>CAMXBY010000002.1</td>\n",
       "    </tr>\n",
       "    <tr>\n",
       "      <th>...</th>\n",
       "      <td>...</td>\n",
       "      <td>...</td>\n",
       "      <td>...</td>\n",
       "      <td>...</td>\n",
       "      <td>...</td>\n",
       "      <td>...</td>\n",
       "      <td>...</td>\n",
       "      <td>...</td>\n",
       "      <td>...</td>\n",
       "      <td>...</td>\n",
       "      <td>...</td>\n",
       "      <td>...</td>\n",
       "      <td>...</td>\n",
       "      <td>...</td>\n",
       "      <td>...</td>\n",
       "      <td>...</td>\n",
       "      <td>...</td>\n",
       "      <td>...</td>\n",
       "      <td>...</td>\n",
       "      <td>...</td>\n",
       "      <td>...</td>\n",
       "    </tr>\n",
       "    <tr>\n",
       "      <th>25938</th>\n",
       "      <td>0.000000</td>\n",
       "      <td>0.000000</td>\n",
       "      <td>0.000000</td>\n",
       "      <td>0.000000</td>\n",
       "      <td>0.000000</td>\n",
       "      <td>0.000000</td>\n",
       "      <td>0.000000</td>\n",
       "      <td>0.000000</td>\n",
       "      <td>0.000000</td>\n",
       "      <td>0.0</td>\n",
       "      <td>...</td>\n",
       "      <td>0.000000</td>\n",
       "      <td>0.000000</td>\n",
       "      <td>0.000000</td>\n",
       "      <td>0.180610</td>\n",
       "      <td>0.490327</td>\n",
       "      <td>0.000000</td>\n",
       "      <td>0.0</td>\n",
       "      <td>0.0</td>\n",
       "      <td>g_4693</td>\n",
       "      <td>OX359250.1</td>\n",
       "    </tr>\n",
       "    <tr>\n",
       "      <th>25939</th>\n",
       "      <td>0.000000</td>\n",
       "      <td>0.000000</td>\n",
       "      <td>0.023751</td>\n",
       "      <td>0.000000</td>\n",
       "      <td>0.000000</td>\n",
       "      <td>0.000000</td>\n",
       "      <td>0.000000</td>\n",
       "      <td>0.000000</td>\n",
       "      <td>0.000000</td>\n",
       "      <td>0.0</td>\n",
       "      <td>...</td>\n",
       "      <td>0.000000</td>\n",
       "      <td>0.000000</td>\n",
       "      <td>0.019555</td>\n",
       "      <td>0.000000</td>\n",
       "      <td>0.000000</td>\n",
       "      <td>0.000000</td>\n",
       "      <td>0.0</td>\n",
       "      <td>0.0</td>\n",
       "      <td>g_4695</td>\n",
       "      <td>OX359250.1</td>\n",
       "    </tr>\n",
       "    <tr>\n",
       "      <th>25940</th>\n",
       "      <td>0.000000</td>\n",
       "      <td>0.000000</td>\n",
       "      <td>0.000000</td>\n",
       "      <td>0.000000</td>\n",
       "      <td>0.000000</td>\n",
       "      <td>0.000000</td>\n",
       "      <td>0.000000</td>\n",
       "      <td>0.000000</td>\n",
       "      <td>0.000000</td>\n",
       "      <td>0.0</td>\n",
       "      <td>...</td>\n",
       "      <td>0.000000</td>\n",
       "      <td>0.000000</td>\n",
       "      <td>0.000000</td>\n",
       "      <td>0.000000</td>\n",
       "      <td>0.000000</td>\n",
       "      <td>0.000000</td>\n",
       "      <td>0.0</td>\n",
       "      <td>0.0</td>\n",
       "      <td>g_4696</td>\n",
       "      <td>OX359250.1</td>\n",
       "    </tr>\n",
       "    <tr>\n",
       "      <th>25941</th>\n",
       "      <td>0.000000</td>\n",
       "      <td>0.000000</td>\n",
       "      <td>0.000000</td>\n",
       "      <td>0.000000</td>\n",
       "      <td>0.000000</td>\n",
       "      <td>0.000000</td>\n",
       "      <td>0.000000</td>\n",
       "      <td>0.000000</td>\n",
       "      <td>0.000000</td>\n",
       "      <td>0.0</td>\n",
       "      <td>...</td>\n",
       "      <td>0.000000</td>\n",
       "      <td>0.000000</td>\n",
       "      <td>0.046672</td>\n",
       "      <td>0.000000</td>\n",
       "      <td>0.000000</td>\n",
       "      <td>0.000000</td>\n",
       "      <td>0.0</td>\n",
       "      <td>0.0</td>\n",
       "      <td>g_4706</td>\n",
       "      <td>OX359250.1</td>\n",
       "    </tr>\n",
       "    <tr>\n",
       "      <th>25942</th>\n",
       "      <td>0.000000</td>\n",
       "      <td>0.000000</td>\n",
       "      <td>0.000000</td>\n",
       "      <td>0.000000</td>\n",
       "      <td>0.000000</td>\n",
       "      <td>0.000000</td>\n",
       "      <td>0.000000</td>\n",
       "      <td>0.000000</td>\n",
       "      <td>0.000000</td>\n",
       "      <td>0.0</td>\n",
       "      <td>...</td>\n",
       "      <td>0.000000</td>\n",
       "      <td>0.000000</td>\n",
       "      <td>0.000000</td>\n",
       "      <td>0.000000</td>\n",
       "      <td>0.000000</td>\n",
       "      <td>0.000000</td>\n",
       "      <td>0.0</td>\n",
       "      <td>0.0</td>\n",
       "      <td>g_4711</td>\n",
       "      <td>OX359250.1</td>\n",
       "    </tr>\n",
       "  </tbody>\n",
       "</table>\n",
       "<p>25943 rows × 22 columns</p>\n",
       "</div>"
      ],
      "text/plain": [
       "         AF_F_1     AF_F_2     AF_F_3     AF_F_4     AF_F_5    AF_F_6  \\\n",
       "0      0.834472   0.704063   0.062557   0.041488   3.086613  0.000000   \n",
       "1      0.000000   0.000000   0.000000   0.000000   0.000000  0.000000   \n",
       "2      0.584695   1.624200   0.496298   1.792003   3.597952  0.000000   \n",
       "3      2.126509   3.588156   5.951807   5.466814   3.095291  1.300597   \n",
       "4      8.606694  14.848901  24.983612  13.906897  12.689933  2.884802   \n",
       "...         ...        ...        ...        ...        ...       ...   \n",
       "25938  0.000000   0.000000   0.000000   0.000000   0.000000  0.000000   \n",
       "25939  0.000000   0.000000   0.023751   0.000000   0.000000  0.000000   \n",
       "25940  0.000000   0.000000   0.000000   0.000000   0.000000  0.000000   \n",
       "25941  0.000000   0.000000   0.000000   0.000000   0.000000  0.000000   \n",
       "25942  0.000000   0.000000   0.000000   0.000000   0.000000  0.000000   \n",
       "\n",
       "         AF_F_7    AF_F_8    AF_F_9  AF_F_10  ...     AF_M_3     AF_M_4  \\\n",
       "0      0.000000  0.000000  0.000000      0.0  ...  12.743709  13.100929   \n",
       "1      0.000000  0.000000  0.000000      0.0  ...   0.000000   0.000000   \n",
       "2      0.000000  0.000000  0.000000      0.0  ...   6.792169  15.617153   \n",
       "3      0.529783  1.089547  1.869153      0.0  ...   4.318659   2.249792   \n",
       "4      2.065311  3.893539  3.606926      0.0  ...  16.257560  13.476103   \n",
       "...         ...       ...       ...      ...  ...        ...        ...   \n",
       "25938  0.000000  0.000000  0.000000      0.0  ...   0.000000   0.000000   \n",
       "25939  0.000000  0.000000  0.000000      0.0  ...   0.000000   0.000000   \n",
       "25940  0.000000  0.000000  0.000000      0.0  ...   0.000000   0.000000   \n",
       "25941  0.000000  0.000000  0.000000      0.0  ...   0.000000   0.000000   \n",
       "25942  0.000000  0.000000  0.000000      0.0  ...   0.000000   0.000000   \n",
       "\n",
       "          AF_M_5     AF_M_6    AF_M_7    AF_M_8  AF_M_9  AF_M_10   Geneid  \\\n",
       "0       7.581688   0.000000  0.000000  0.000000     0.0      0.0  g_27516   \n",
       "1       0.000000   0.000000  0.000000  0.000000     0.0      0.0     g_89   \n",
       "2       4.631044  13.140533  6.435697  1.359844     0.0      0.0     g_92   \n",
       "3       5.970156   1.631282  1.878828  2.510156     0.0      0.0     g_94   \n",
       "4      22.197843   4.133610  6.042660  9.708861     0.0      0.0     g_95   \n",
       "...          ...        ...       ...       ...     ...      ...      ...   \n",
       "25938   0.000000   0.180610  0.490327  0.000000     0.0      0.0   g_4693   \n",
       "25939   0.019555   0.000000  0.000000  0.000000     0.0      0.0   g_4695   \n",
       "25940   0.000000   0.000000  0.000000  0.000000     0.0      0.0   g_4696   \n",
       "25941   0.046672   0.000000  0.000000  0.000000     0.0      0.0   g_4706   \n",
       "25942   0.000000   0.000000  0.000000  0.000000     0.0      0.0   g_4711   \n",
       "\n",
       "                   chrom  \n",
       "0      CAMXBY010000001.1  \n",
       "1      CAMXBY010000002.1  \n",
       "2      CAMXBY010000002.1  \n",
       "3      CAMXBY010000002.1  \n",
       "4      CAMXBY010000002.1  \n",
       "...                  ...  \n",
       "25938         OX359250.1  \n",
       "25939         OX359250.1  \n",
       "25940         OX359250.1  \n",
       "25941         OX359250.1  \n",
       "25942         OX359250.1  \n",
       "\n",
       "[25943 rows x 22 columns]"
      ]
     },
     "execution_count": 68,
     "metadata": {},
     "output_type": "execute_result"
    }
   ],
   "source": [
    "normalised_count_df = pd.DataFrame(read_counts2tpm(counts_df))\n",
    "normalised_count_df.columns = sample_names\n",
    "normalised_count_df['Geneid'] = Geneid\n",
    "normalised_count_df['chrom'] = Chrom\n",
    "normalised_count_df"
   ]
  },
  {
   "cell_type": "code",
   "execution_count": 13,
   "id": "28ce3f81",
   "metadata": {},
   "outputs": [],
   "source": [
    "gene_bed_df = gene_bed_df.merge(SBG_df[['Geneid','log2FoldChange']], \n",
    "                                       how = 'outer',\n",
    "                                       on = 'Geneid')"
   ]
  },
  {
   "cell_type": "code",
   "execution_count": 14,
   "id": "e6d1b7ac",
   "metadata": {},
   "outputs": [],
   "source": [
    "bias_conditions = [\n",
    "    (gene_bed_df['log2FoldChange'] > 0),\n",
    "    (gene_bed_df['log2FoldChange'] < 0)]\n",
    "bias_outcomes = ['male_biased', 'female_biased']\n",
    "gene_bed_df['bias'] = np.select(bias_conditions, bias_outcomes, default='unbiased')"
   ]
  },
  {
   "cell_type": "code",
   "execution_count": 15,
   "id": "d02521eb",
   "metadata": {
    "scrolled": false
   },
   "outputs": [],
   "source": [
    "chromosomes = ['OX359245.1',\n",
    " 'OX359246.1',\n",
    " 'OX359247.1',\n",
    " 'OX359248.1',\n",
    " 'OX359249.1',\n",
    " 'OX359250.1']\n",
    "\n",
    "chrom_df = gene_bed_df[gene_bed_df['chrom'].isin(chromosomes)]"
   ]
  },
  {
   "cell_type": "code",
   "execution_count": 16,
   "id": "bd7b53c8",
   "metadata": {},
   "outputs": [
    {
     "data": {
      "text/plain": [
       "chrom       bias         \n",
       "OX359245.1  unbiased         4572\n",
       "            male_biased       953\n",
       "            female_biased     425\n",
       "OX359246.1  unbiased         4455\n",
       "            male_biased       878\n",
       "            female_biased     456\n",
       "OX359247.1  unbiased         3370\n",
       "            male_biased       901\n",
       "            female_biased     381\n",
       "OX359248.1  unbiased         2760\n",
       "            male_biased       718\n",
       "            female_biased     354\n",
       "OX359249.1  unbiased         1793\n",
       "            male_biased       735\n",
       "            female_biased     231\n",
       "OX359250.1  unbiased         1717\n",
       "            male_biased       861\n",
       "            female_biased     137\n",
       "Name: count, dtype: int64"
      ]
     },
     "execution_count": 16,
     "metadata": {},
     "output_type": "execute_result"
    }
   ],
   "source": [
    "chrom_df.groupby(['chrom'])['bias'].value_counts()"
   ]
  },
  {
   "cell_type": "code",
   "execution_count": 17,
   "id": "139e1d90",
   "metadata": {},
   "outputs": [
    {
     "data": {
      "text/plain": [
       "chrom       bias         \n",
       "OX359245.1  unbiased         0.768403\n",
       "            male_biased      0.160168\n",
       "            female_biased    0.071429\n",
       "OX359246.1  unbiased         0.769563\n",
       "            male_biased      0.151667\n",
       "            female_biased    0.078770\n",
       "OX359247.1  unbiased         0.724420\n",
       "            male_biased      0.193680\n",
       "            female_biased    0.081900\n",
       "OX359248.1  unbiased         0.720251\n",
       "            male_biased      0.187370\n",
       "            female_biased    0.092380\n",
       "OX359249.1  unbiased         0.649873\n",
       "            male_biased      0.266401\n",
       "            female_biased    0.083726\n",
       "OX359250.1  unbiased         0.632413\n",
       "            male_biased      0.317127\n",
       "            female_biased    0.050460\n",
       "Name: proportion, dtype: float64"
      ]
     },
     "execution_count": 17,
     "metadata": {},
     "output_type": "execute_result"
    }
   ],
   "source": [
    "chrom_df.groupby(['chrom'])['bias'].value_counts(normalize='True')"
   ]
  },
  {
   "cell_type": "code",
   "execution_count": 18,
   "id": "591c8e00",
   "metadata": {
    "scrolled": false
   },
   "outputs": [
    {
     "data": {
      "image/png": "[encoded data removed]",
      "text/plain": [
       "<Figure size 720x720 with 6 Axes>"
      ]
     },
     "metadata": {
      "needs_background": "light"
     },
     "output_type": "display_data"
    }
   ],
   "source": [
    "fig, axs = plt.subplots(nrows = 6, sharex=True, figsize = (10,10))\n",
    "\n",
    "for i, chrom in enumerate(chromosomes):\n",
    "    \n",
    "    sns.histplot(chrom_df[chrom_df['chrom']==chrom]['log2FoldChange'],\n",
    "                color = 'grey',\n",
    "                stat = 'proportion',\n",
    "                bins = np.arange(-23, 26, 1),\n",
    "                ax = axs[i])\n",
    "    axs[i].set_title(chrom, loc = 'right')\n",
    "    \n",
    "\n",
    "plt.tight_layout()"
   ]
  },
  {
   "cell_type": "code",
   "execution_count": 19,
   "id": "abd9ce1c",
   "metadata": {},
   "outputs": [],
   "source": [
    "barplot_df_count = chrom_df.groupby(['chrom'])['bias'].value_counts().reset_index()\n",
    "barplot_df_prop = chrom_df.groupby(['chrom'])['bias'].value_counts(normalize='True').reset_index()"
   ]
  },
  {
   "cell_type": "code",
   "execution_count": 20,
   "id": "3a0e1ab1",
   "metadata": {},
   "outputs": [
    {
     "data": {
      "image/png": "[encoded data removed]",
      "text/plain": [
       "<Figure size 720x720 with 2 Axes>"
      ]
     },
     "metadata": {
      "needs_background": "light"
     },
     "output_type": "display_data"
    }
   ],
   "source": [
    "fig, axs = plt.subplots(nrows = 2, sharex=True, figsize = (10,10))\n",
    "\n",
    "sns.barplot(data=barplot_df_count, \n",
    "            x=\"chrom\", \n",
    "            y=\"count\",\n",
    "            hue=\"bias\",\n",
    "            ax = axs[0])\n",
    "\n",
    "sns.barplot(data=barplot_df_prop, \n",
    "            x=\"chrom\", \n",
    "            y=\"proportion\",\n",
    "            hue=\"bias\",\n",
    "            ax = axs[1])\n",
    "\n",
    "axs[1].legend().set_visible(False)"
   ]
  },
  {
   "cell_type": "code",
   "execution_count": 21,
   "id": "12662d33",
   "metadata": {},
   "outputs": [],
   "source": [
    "ncc_df = normalised_count_df[normalised_count_df['chrom'].isin(chromosomes)]\n",
    "ncc_ex_df = ncc_df[sample_names].apply(lambda x: [y if y >= 1 else np.nan for y in x])\n",
    "ncc_ex_df['Geneid'] = ncc_df['Geneid']\n",
    "ncc_ex_df['chrom'] = ncc_df['chrom']"
   ]
  },
  {
   "cell_type": "code",
   "execution_count": 22,
   "id": "743aa3d8",
   "metadata": {},
   "outputs": [],
   "source": [
    "females = sample_names[0:10]\n",
    "females.remove('AF_F_5')\n",
    "males = sample_names[10:]"
   ]
  },
  {
   "cell_type": "code",
   "execution_count": 23,
   "id": "7de70f11",
   "metadata": {},
   "outputs": [],
   "source": [
    "ncc_ex_df['female_mean_TPM'] = ncc_ex_df[females].mean(axis=1)\n",
    "ncc_ex_df['male_mean_TPM'] = ncc_ex_df[males].mean(axis=1)"
   ]
  },
  {
   "cell_type": "code",
   "execution_count": 24,
   "id": "513c33bb",
   "metadata": {},
   "outputs": [
    {
     "data": {
      "text/html": [
       "<div>\n",
       "<style scoped>\n",
       "    .dataframe tbody tr th:only-of-type {\n",
       "        vertical-align: middle;\n",
       "    }\n",
       "\n",
       "    .dataframe tbody tr th {\n",
       "        vertical-align: top;\n",
       "    }\n",
       "\n",
       "    .dataframe thead tr th {\n",
       "        text-align: left;\n",
       "    }\n",
       "\n",
       "    .dataframe thead tr:last-of-type th {\n",
       "        text-align: right;\n",
       "    }\n",
       "</style>\n",
       "<table border=\"1\" class=\"dataframe\">\n",
       "  <thead>\n",
       "    <tr>\n",
       "      <th></th>\n",
       "      <th colspan=\"8\" halign=\"left\">AF_F_8</th>\n",
       "    </tr>\n",
       "    <tr>\n",
       "      <th></th>\n",
       "      <th>count</th>\n",
       "      <th>mean</th>\n",
       "      <th>std</th>\n",
       "      <th>min</th>\n",
       "      <th>25%</th>\n",
       "      <th>50%</th>\n",
       "      <th>75%</th>\n",
       "      <th>max</th>\n",
       "    </tr>\n",
       "    <tr>\n",
       "      <th>chrom</th>\n",
       "      <th></th>\n",
       "      <th></th>\n",
       "      <th></th>\n",
       "      <th></th>\n",
       "      <th></th>\n",
       "      <th></th>\n",
       "      <th></th>\n",
       "      <th></th>\n",
       "    </tr>\n",
       "  </thead>\n",
       "  <tbody>\n",
       "    <tr>\n",
       "      <th>OX359245.1</th>\n",
       "      <td>1561.0</td>\n",
       "      <td>96.994627</td>\n",
       "      <td>581.170568</td>\n",
       "      <td>1.000071</td>\n",
       "      <td>2.963690</td>\n",
       "      <td>8.727039</td>\n",
       "      <td>28.628016</td>\n",
       "      <td>12772.772432</td>\n",
       "    </tr>\n",
       "    <tr>\n",
       "      <th>OX359246.1</th>\n",
       "      <td>1959.0</td>\n",
       "      <td>72.291549</td>\n",
       "      <td>316.059466</td>\n",
       "      <td>1.007017</td>\n",
       "      <td>3.201191</td>\n",
       "      <td>9.500671</td>\n",
       "      <td>29.968147</td>\n",
       "      <td>6042.582837</td>\n",
       "    </tr>\n",
       "    <tr>\n",
       "      <th>OX359247.1</th>\n",
       "      <td>2145.0</td>\n",
       "      <td>108.222844</td>\n",
       "      <td>615.160932</td>\n",
       "      <td>1.001513</td>\n",
       "      <td>4.439326</td>\n",
       "      <td>14.053046</td>\n",
       "      <td>38.179017</td>\n",
       "      <td>18329.498117</td>\n",
       "    </tr>\n",
       "    <tr>\n",
       "      <th>OX359248.1</th>\n",
       "      <td>1960.0</td>\n",
       "      <td>119.692793</td>\n",
       "      <td>632.416137</td>\n",
       "      <td>1.000821</td>\n",
       "      <td>5.569892</td>\n",
       "      <td>16.270263</td>\n",
       "      <td>45.992951</td>\n",
       "      <td>16651.029762</td>\n",
       "    </tr>\n",
       "    <tr>\n",
       "      <th>OX359249.1</th>\n",
       "      <td>1380.0</td>\n",
       "      <td>85.740418</td>\n",
       "      <td>385.331781</td>\n",
       "      <td>1.000672</td>\n",
       "      <td>6.307896</td>\n",
       "      <td>16.397340</td>\n",
       "      <td>40.375424</td>\n",
       "      <td>8066.367889</td>\n",
       "    </tr>\n",
       "    <tr>\n",
       "      <th>OX359250.1</th>\n",
       "      <td>1022.0</td>\n",
       "      <td>117.356452</td>\n",
       "      <td>865.906399</td>\n",
       "      <td>1.002067</td>\n",
       "      <td>4.900438</td>\n",
       "      <td>14.108232</td>\n",
       "      <td>43.561720</td>\n",
       "      <td>19474.533949</td>\n",
       "    </tr>\n",
       "  </tbody>\n",
       "</table>\n",
       "</div>"
      ],
      "text/plain": [
       "            AF_F_8                                                         \\\n",
       "             count        mean         std       min       25%        50%   \n",
       "chrom                                                                       \n",
       "OX359245.1  1561.0   96.994627  581.170568  1.000071  2.963690   8.727039   \n",
       "OX359246.1  1959.0   72.291549  316.059466  1.007017  3.201191   9.500671   \n",
       "OX359247.1  2145.0  108.222844  615.160932  1.001513  4.439326  14.053046   \n",
       "OX359248.1  1960.0  119.692793  632.416137  1.000821  5.569892  16.270263   \n",
       "OX359249.1  1380.0   85.740418  385.331781  1.000672  6.307896  16.397340   \n",
       "OX359250.1  1022.0  117.356452  865.906399  1.002067  4.900438  14.108232   \n",
       "\n",
       "                                     \n",
       "                  75%           max  \n",
       "chrom                                \n",
       "OX359245.1  28.628016  12772.772432  \n",
       "OX359246.1  29.968147   6042.582837  \n",
       "OX359247.1  38.179017  18329.498117  \n",
       "OX359248.1  45.992951  16651.029762  \n",
       "OX359249.1  40.375424   8066.367889  \n",
       "OX359250.1  43.561720  19474.533949  "
      ]
     },
     "execution_count": 24,
     "metadata": {},
     "output_type": "execute_result"
    }
   ],
   "source": [
    "ncc_ex_df[['chrom','AF_F_8']].groupby('chrom').describe()"
   ]
  },
  {
   "cell_type": "code",
   "execution_count": 25,
   "id": "cb52cd37",
   "metadata": {},
   "outputs": [
    {
     "data": {
      "text/html": [
       "<div>\n",
       "<style scoped>\n",
       "    .dataframe tbody tr th:only-of-type {\n",
       "        vertical-align: middle;\n",
       "    }\n",
       "\n",
       "    .dataframe tbody tr th {\n",
       "        vertical-align: top;\n",
       "    }\n",
       "\n",
       "    .dataframe thead tr th {\n",
       "        text-align: left;\n",
       "    }\n",
       "\n",
       "    .dataframe thead tr:last-of-type th {\n",
       "        text-align: right;\n",
       "    }\n",
       "</style>\n",
       "<table border=\"1\" class=\"dataframe\">\n",
       "  <thead>\n",
       "    <tr>\n",
       "      <th></th>\n",
       "      <th colspan=\"8\" halign=\"left\">AF_M_8</th>\n",
       "    </tr>\n",
       "    <tr>\n",
       "      <th></th>\n",
       "      <th>count</th>\n",
       "      <th>mean</th>\n",
       "      <th>std</th>\n",
       "      <th>min</th>\n",
       "      <th>25%</th>\n",
       "      <th>50%</th>\n",
       "      <th>75%</th>\n",
       "      <th>max</th>\n",
       "    </tr>\n",
       "    <tr>\n",
       "      <th>chrom</th>\n",
       "      <th></th>\n",
       "      <th></th>\n",
       "      <th></th>\n",
       "      <th></th>\n",
       "      <th></th>\n",
       "      <th></th>\n",
       "      <th></th>\n",
       "      <th></th>\n",
       "    </tr>\n",
       "  </thead>\n",
       "  <tbody>\n",
       "    <tr>\n",
       "      <th>OX359245.1</th>\n",
       "      <td>2062.0</td>\n",
       "      <td>108.156765</td>\n",
       "      <td>1067.855909</td>\n",
       "      <td>1.001990</td>\n",
       "      <td>3.352368</td>\n",
       "      <td>10.077584</td>\n",
       "      <td>32.306144</td>\n",
       "      <td>36497.231636</td>\n",
       "    </tr>\n",
       "    <tr>\n",
       "      <th>OX359246.1</th>\n",
       "      <td>2310.0</td>\n",
       "      <td>59.433833</td>\n",
       "      <td>240.898444</td>\n",
       "      <td>1.000673</td>\n",
       "      <td>3.599400</td>\n",
       "      <td>10.611122</td>\n",
       "      <td>33.244984</td>\n",
       "      <td>5444.360254</td>\n",
       "    </tr>\n",
       "    <tr>\n",
       "      <th>OX359247.1</th>\n",
       "      <td>2551.0</td>\n",
       "      <td>63.715465</td>\n",
       "      <td>233.566304</td>\n",
       "      <td>1.000370</td>\n",
       "      <td>5.491326</td>\n",
       "      <td>15.091629</td>\n",
       "      <td>42.542228</td>\n",
       "      <td>4387.845719</td>\n",
       "    </tr>\n",
       "    <tr>\n",
       "      <th>OX359248.1</th>\n",
       "      <td>2258.0</td>\n",
       "      <td>74.764312</td>\n",
       "      <td>295.647451</td>\n",
       "      <td>1.005518</td>\n",
       "      <td>6.405487</td>\n",
       "      <td>16.834160</td>\n",
       "      <td>45.657075</td>\n",
       "      <td>6741.703313</td>\n",
       "    </tr>\n",
       "    <tr>\n",
       "      <th>OX359249.1</th>\n",
       "      <td>1758.0</td>\n",
       "      <td>60.271328</td>\n",
       "      <td>211.925315</td>\n",
       "      <td>1.000343</td>\n",
       "      <td>7.384808</td>\n",
       "      <td>18.788054</td>\n",
       "      <td>51.248493</td>\n",
       "      <td>6792.018964</td>\n",
       "    </tr>\n",
       "    <tr>\n",
       "      <th>OX359250.1</th>\n",
       "      <td>1533.0</td>\n",
       "      <td>130.535739</td>\n",
       "      <td>2445.348110</td>\n",
       "      <td>1.006807</td>\n",
       "      <td>6.473349</td>\n",
       "      <td>18.792998</td>\n",
       "      <td>58.202520</td>\n",
       "      <td>95413.638574</td>\n",
       "    </tr>\n",
       "  </tbody>\n",
       "</table>\n",
       "</div>"
      ],
      "text/plain": [
       "            AF_M_8                                                          \\\n",
       "             count        mean          std       min       25%        50%   \n",
       "chrom                                                                        \n",
       "OX359245.1  2062.0  108.156765  1067.855909  1.001990  3.352368  10.077584   \n",
       "OX359246.1  2310.0   59.433833   240.898444  1.000673  3.599400  10.611122   \n",
       "OX359247.1  2551.0   63.715465   233.566304  1.000370  5.491326  15.091629   \n",
       "OX359248.1  2258.0   74.764312   295.647451  1.005518  6.405487  16.834160   \n",
       "OX359249.1  1758.0   60.271328   211.925315  1.000343  7.384808  18.788054   \n",
       "OX359250.1  1533.0  130.535739  2445.348110  1.006807  6.473349  18.792998   \n",
       "\n",
       "                                     \n",
       "                  75%           max  \n",
       "chrom                                \n",
       "OX359245.1  32.306144  36497.231636  \n",
       "OX359246.1  33.244984   5444.360254  \n",
       "OX359247.1  42.542228   4387.845719  \n",
       "OX359248.1  45.657075   6741.703313  \n",
       "OX359249.1  51.248493   6792.018964  \n",
       "OX359250.1  58.202520  95413.638574  "
      ]
     },
     "execution_count": 25,
     "metadata": {},
     "output_type": "execute_result"
    }
   ],
   "source": [
    "ncc_ex_df[['chrom','AF_M_8']].groupby('chrom').describe()"
   ]
  },
  {
   "cell_type": "code",
   "execution_count": 26,
   "id": "ad4ad4fd",
   "metadata": {},
   "outputs": [],
   "source": [
    "count_matrix = ncc_ex_df.groupby('chrom')[sample_names].mean()\n",
    "sex_count_matrix = ncc_ex_df.groupby('chrom')[['female_mean_TPM','male_mean_TPM']].mean()"
   ]
  },
  {
   "cell_type": "code",
   "execution_count": 27,
   "id": "7106a867",
   "metadata": {},
   "outputs": [
    {
     "data": {
      "text/plain": [
       "Text(1.0, 1.0, 'TPM mean (for TPM > 1)')"
      ]
     },
     "execution_count": 27,
     "metadata": {},
     "output_type": "execute_result"
    },
    {
     "data": {
      "image/png": "[encoded data removed]",
      "text/plain": [
       "<Figure size 720x720 with 2 Axes>"
      ]
     },
     "metadata": {
      "needs_background": "light"
     },
     "output_type": "display_data"
    }
   ],
   "source": [
    "fig, axs = plt.subplots(nrows = 1, figsize = (10,10))\n",
    "\n",
    "sns.heatmap(data = count_matrix)\n",
    "axs.set_title('TPM mean (for TPM > 1)', loc = 'right')"
   ]
  },
  {
   "cell_type": "code",
   "execution_count": 28,
   "id": "d586c0d3",
   "metadata": {},
   "outputs": [
    {
     "data": {
      "text/plain": [
       "Text(1.0, 1.0, 'TPM mean')"
      ]
     },
     "execution_count": 28,
     "metadata": {},
     "output_type": "execute_result"
    },
    {
     "data": {
      "image/png": "[encoded data removed]",
      "text/plain": [
       "<Figure size 720x720 with 2 Axes>"
      ]
     },
     "metadata": {
      "needs_background": "light"
     },
     "output_type": "display_data"
    }
   ],
   "source": [
    "fig, axs = plt.subplots(nrows = 1, figsize = (10,10))\n",
    "\n",
    "sns.heatmap(data = sex_count_matrix)\n",
    "axs.set_title('TPM mean', loc = 'right')"
   ]
  },
  {
   "cell_type": "code",
   "execution_count": 29,
   "id": "bebe2460",
   "metadata": {},
   "outputs": [
    {
     "name": "stdout",
     "output_type": "stream",
     "text": [
      "Female X1/mean(A)\n",
      "1.0167520662717036\n",
      "Female X2/mean(A)\n",
      "1.2285253423147737\n",
      "Male X1/mean(A)\n",
      "1.0633521258601328\n",
      "Male X2/mean(A)\n",
      "1.5612099043509329\n"
     ]
    }
   ],
   "source": [
    "print('Female X1/mean(A)')\n",
    "print(sex_count_matrix['female_mean_TPM'][4]/np.mean(sex_count_matrix['female_mean_TPM'][:4]))\n",
    "print('Female X2/mean(A)')\n",
    "print(sex_count_matrix['female_mean_TPM'][5]/np.mean(sex_count_matrix['female_mean_TPM'][:4]))\n",
    "print('Male X1/mean(A)')\n",
    "print(sex_count_matrix['male_mean_TPM'][4]/np.mean(sex_count_matrix['male_mean_TPM'][:4]))\n",
    "print('Male X2/mean(A)')\n",
    "print(sex_count_matrix['male_mean_TPM'][5]/np.mean(sex_count_matrix['male_mean_TPM'][:4]))"
   ]
  },
  {
   "cell_type": "code",
   "execution_count": 30,
   "id": "5ad0140d",
   "metadata": {},
   "outputs": [],
   "source": [
    "female_ratio_matrix = sex_count_matrix['female_mean_TPM'].to_numpy()[:, None]/sex_count_matrix['female_mean_TPM'].to_numpy()[None,:]\n",
    "male_ratio_matrix = sex_count_matrix['male_mean_TPM'].to_numpy()[:, None]/sex_count_matrix['male_mean_TPM'].to_numpy()[None,:]"
   ]
  },
  {
   "cell_type": "code",
   "execution_count": 31,
   "id": "1e73d66b",
   "metadata": {},
   "outputs": [
    {
     "data": {
      "text/plain": [
       "Text(1.0, 1.0, 'Ratio')"
      ]
     },
     "execution_count": 31,
     "metadata": {},
     "output_type": "execute_result"
    },
    {
     "data": {
      "image/png": "[encoded data removed]",
      "text/plain": [
       "<Figure size 720x720 with 2 Axes>"
      ]
     },
     "metadata": {
      "needs_background": "light"
     },
     "output_type": "display_data"
    }
   ],
   "source": [
    "fig, axs = plt.subplots(nrows = 1, figsize = (10,10))\n",
    "\n",
    "sns.heatmap(data = female_ratio_matrix)\n",
    "axs.set_title('Ratio', loc = 'right')"
   ]
  },
  {
   "cell_type": "code",
   "execution_count": 32,
   "id": "81b7ed65",
   "metadata": {},
   "outputs": [
    {
     "data": {
      "text/plain": [
       "Text(1.0, 1.0, 'Ratio')"
      ]
     },
     "execution_count": 32,
     "metadata": {},
     "output_type": "execute_result"
    },
    {
     "data": {
      "image/png": "[encoded data removed]",
      "text/plain": [
       "<Figure size 720x720 with 2 Axes>"
      ]
     },
     "metadata": {
      "needs_background": "light"
     },
     "output_type": "display_data"
    }
   ],
   "source": [
    "fig, axs = plt.subplots(nrows = 1, figsize = (10,10))\n",
    "\n",
    "sns.heatmap(data = male_ratio_matrix)\n",
    "axs.set_title('Ratio', loc = 'right')"
   ]
  },
  {
   "cell_type": "code",
   "execution_count": 33,
   "id": "23be7085",
   "metadata": {},
   "outputs": [
    {
     "data": {
      "text/plain": [
       "<Axes: xlabel='AF_F_1', ylabel='Count'>"
      ]
     },
     "execution_count": 33,
     "metadata": {},
     "output_type": "execute_result"
    },
    {
     "data": {
      "image/png": "[encoded data removed]",
      "text/plain": [
       "<Figure size 576x576 with 1 Axes>"
      ]
     },
     "metadata": {
      "needs_background": "light"
     },
     "output_type": "display_data"
    }
   ],
   "source": [
    "fig, axs = plt.subplots(nrows = 1, figsize = (8,8))\n",
    "\n",
    "sns.histplot(data = ncc_df[ncc_df['AF_F_1'] > 100],\n",
    "             x = 'AF_F_1',\n",
    "             hue = 'chrom',\n",
    "             bins = 100,\n",
    "             stat = 'count')"
   ]
  },
  {
   "cell_type": "code",
   "execution_count": 137,
   "id": "44e6e9f0",
   "metadata": {},
   "outputs": [
    {
     "data": {
      "text/html": [
       "<div>\n",
       "<style scoped>\n",
       "    .dataframe tbody tr th:only-of-type {\n",
       "        vertical-align: middle;\n",
       "    }\n",
       "\n",
       "    .dataframe tbody tr th {\n",
       "        vertical-align: top;\n",
       "    }\n",
       "\n",
       "    .dataframe thead th {\n",
       "        text-align: right;\n",
       "    }\n",
       "</style>\n",
       "<table border=\"1\" class=\"dataframe\">\n",
       "  <thead>\n",
       "    <tr style=\"text-align: right;\">\n",
       "      <th></th>\n",
       "      <th>chrom</th>\n",
       "      <th>Geneid</th>\n",
       "      <th>0D_pi</th>\n",
       "      <th>4D_pi</th>\n",
       "      <th>0/4D_pi</th>\n",
       "      <th>linkage</th>\n",
       "    </tr>\n",
       "  </thead>\n",
       "  <tbody>\n",
       "    <tr>\n",
       "      <th>8</th>\n",
       "      <td>OX359245.1</td>\n",
       "      <td>g_33544</td>\n",
       "      <td>0.019374</td>\n",
       "      <td>0.010455</td>\n",
       "      <td>1.853129</td>\n",
       "      <td>autosome</td>\n",
       "    </tr>\n",
       "    <tr>\n",
       "      <th>13</th>\n",
       "      <td>OX359245.1</td>\n",
       "      <td>g_33549</td>\n",
       "      <td>0.000501</td>\n",
       "      <td>0.000487</td>\n",
       "      <td>1.027850</td>\n",
       "      <td>autosome</td>\n",
       "    </tr>\n",
       "    <tr>\n",
       "      <th>15</th>\n",
       "      <td>OX359245.1</td>\n",
       "      <td>g_33551</td>\n",
       "      <td>0.001268</td>\n",
       "      <td>0.005283</td>\n",
       "      <td>0.239941</td>\n",
       "      <td>autosome</td>\n",
       "    </tr>\n",
       "    <tr>\n",
       "      <th>20</th>\n",
       "      <td>OX359245.1</td>\n",
       "      <td>g_33556</td>\n",
       "      <td>0.000921</td>\n",
       "      <td>0.000665</td>\n",
       "      <td>1.385024</td>\n",
       "      <td>autosome</td>\n",
       "    </tr>\n",
       "    <tr>\n",
       "      <th>21</th>\n",
       "      <td>OX359245.1</td>\n",
       "      <td>g_33557</td>\n",
       "      <td>0.000347</td>\n",
       "      <td>0.010225</td>\n",
       "      <td>0.033888</td>\n",
       "      <td>autosome</td>\n",
       "    </tr>\n",
       "    <tr>\n",
       "      <th>...</th>\n",
       "      <td>...</td>\n",
       "      <td>...</td>\n",
       "      <td>...</td>\n",
       "      <td>...</td>\n",
       "      <td>...</td>\n",
       "      <td>...</td>\n",
       "    </tr>\n",
       "    <tr>\n",
       "      <th>43568</th>\n",
       "      <td>OX359250.1</td>\n",
       "      <td>g_4665</td>\n",
       "      <td>0.002774</td>\n",
       "      <td>0.002684</td>\n",
       "      <td>1.033188</td>\n",
       "      <td>X</td>\n",
       "    </tr>\n",
       "    <tr>\n",
       "      <th>43593</th>\n",
       "      <td>OX359250.1</td>\n",
       "      <td>g_4690</td>\n",
       "      <td>0.010225</td>\n",
       "      <td>0.008239</td>\n",
       "      <td>1.241028</td>\n",
       "      <td>X</td>\n",
       "    </tr>\n",
       "    <tr>\n",
       "      <th>43594</th>\n",
       "      <td>OX359250.1</td>\n",
       "      <td>g_4691</td>\n",
       "      <td>0.000186</td>\n",
       "      <td>0.000765</td>\n",
       "      <td>0.242762</td>\n",
       "      <td>X</td>\n",
       "    </tr>\n",
       "    <tr>\n",
       "      <th>43595</th>\n",
       "      <td>OX359250.1</td>\n",
       "      <td>g_4692</td>\n",
       "      <td>0.000494</td>\n",
       "      <td>0.001736</td>\n",
       "      <td>0.284659</td>\n",
       "      <td>X</td>\n",
       "    </tr>\n",
       "    <tr>\n",
       "      <th>43598</th>\n",
       "      <td>OX359250.1</td>\n",
       "      <td>g_4695</td>\n",
       "      <td>0.000720</td>\n",
       "      <td>0.000415</td>\n",
       "      <td>1.736440</td>\n",
       "      <td>X</td>\n",
       "    </tr>\n",
       "  </tbody>\n",
       "</table>\n",
       "<p>11152 rows × 6 columns</p>\n",
       "</div>"
      ],
      "text/plain": [
       "            chrom   Geneid     0D_pi     4D_pi   0/4D_pi   linkage\n",
       "8      OX359245.1  g_33544  0.019374  0.010455  1.853129  autosome\n",
       "13     OX359245.1  g_33549  0.000501  0.000487  1.027850  autosome\n",
       "15     OX359245.1  g_33551  0.001268  0.005283  0.239941  autosome\n",
       "20     OX359245.1  g_33556  0.000921  0.000665  1.385024  autosome\n",
       "21     OX359245.1  g_33557  0.000347  0.010225  0.033888  autosome\n",
       "...           ...      ...       ...       ...       ...       ...\n",
       "43568  OX359250.1   g_4665  0.002774  0.002684  1.033188         X\n",
       "43593  OX359250.1   g_4690  0.010225  0.008239  1.241028         X\n",
       "43594  OX359250.1   g_4691  0.000186  0.000765  0.242762         X\n",
       "43595  OX359250.1   g_4692  0.000494  0.001736  0.284659         X\n",
       "43598  OX359250.1   g_4695  0.000720  0.000415  1.736440         X\n",
       "\n",
       "[11152 rows x 6 columns]"
      ]
     },
     "execution_count": 137,
     "metadata": {},
     "output_type": "execute_result"
    }
   ],
   "source": [
    "pi_df"
   ]
  },
  {
   "cell_type": "code",
   "execution_count": 138,
   "id": "e3864a5c",
   "metadata": {},
   "outputs": [
    {
     "data": {
      "text/plain": [
       "count    1.115200e+04\n",
       "mean              inf\n",
       "std               NaN\n",
       "min      0.000000e+00\n",
       "25%      1.730227e-01\n",
       "50%      3.427807e-01\n",
       "75%      6.478873e-01\n",
       "max               inf\n",
       "Name: 0/4D_pi, dtype: float64"
      ]
     },
     "execution_count": 138,
     "metadata": {},
     "output_type": "execute_result"
    }
   ],
   "source": [
    "pi_df['0/4D_pi'].describe()"
   ]
  },
  {
   "cell_type": "code",
   "execution_count": 139,
   "id": "ce3a76e1",
   "metadata": {},
   "outputs": [
    {
     "data": {
      "text/plain": [
       "<Axes: xlabel='0/4D_pi', ylabel='Count'>"
      ]
     },
     "execution_count": 139,
     "metadata": {},
     "output_type": "execute_result"
    },
    {
     "data": {
      "image/png": "[encoded data removed]",
      "text/plain": [
       "<Figure size 432x288 with 1 Axes>"
      ]
     },
     "metadata": {
      "needs_background": "light"
     },
     "output_type": "display_data"
    }
   ],
   "source": [
    "sns.histplot(data = pi_df,\n",
    "             x = '0/4D_pi')"
   ]
  },
  {
   "cell_type": "code",
   "execution_count": 199,
   "id": "c14ab24a",
   "metadata": {},
   "outputs": [
    {
     "data": {
      "text/html": [
       "<div>\n",
       "<style scoped>\n",
       "    .dataframe tbody tr th:only-of-type {\n",
       "        vertical-align: middle;\n",
       "    }\n",
       "\n",
       "    .dataframe tbody tr th {\n",
       "        vertical-align: top;\n",
       "    }\n",
       "\n",
       "    .dataframe thead th {\n",
       "        text-align: right;\n",
       "    }\n",
       "</style>\n",
       "<table border=\"1\" class=\"dataframe\">\n",
       "  <thead>\n",
       "    <tr style=\"text-align: right;\">\n",
       "      <th></th>\n",
       "      <th>chrom</th>\n",
       "      <th>Geneid</th>\n",
       "      <th>0D_pi</th>\n",
       "      <th>4D_pi</th>\n",
       "      <th>0/4D_pi</th>\n",
       "      <th>linkage</th>\n",
       "      <th>bias</th>\n",
       "    </tr>\n",
       "  </thead>\n",
       "  <tbody>\n",
       "    <tr>\n",
       "      <th>0</th>\n",
       "      <td>OX359245.1</td>\n",
       "      <td>g_33544</td>\n",
       "      <td>0.019374</td>\n",
       "      <td>0.010455</td>\n",
       "      <td>1.853129</td>\n",
       "      <td>autosome</td>\n",
       "      <td>unbiased</td>\n",
       "    </tr>\n",
       "    <tr>\n",
       "      <th>1</th>\n",
       "      <td>OX359245.1</td>\n",
       "      <td>g_33549</td>\n",
       "      <td>0.000501</td>\n",
       "      <td>0.000487</td>\n",
       "      <td>1.027850</td>\n",
       "      <td>autosome</td>\n",
       "      <td>unbiased</td>\n",
       "    </tr>\n",
       "    <tr>\n",
       "      <th>2</th>\n",
       "      <td>OX359245.1</td>\n",
       "      <td>g_33551</td>\n",
       "      <td>0.001268</td>\n",
       "      <td>0.005283</td>\n",
       "      <td>0.239941</td>\n",
       "      <td>autosome</td>\n",
       "      <td>male_biased</td>\n",
       "    </tr>\n",
       "    <tr>\n",
       "      <th>3</th>\n",
       "      <td>OX359245.1</td>\n",
       "      <td>g_33556</td>\n",
       "      <td>0.000921</td>\n",
       "      <td>0.000665</td>\n",
       "      <td>1.385024</td>\n",
       "      <td>autosome</td>\n",
       "      <td>unbiased</td>\n",
       "    </tr>\n",
       "    <tr>\n",
       "      <th>4</th>\n",
       "      <td>OX359245.1</td>\n",
       "      <td>g_33557</td>\n",
       "      <td>0.000347</td>\n",
       "      <td>0.010225</td>\n",
       "      <td>0.033888</td>\n",
       "      <td>autosome</td>\n",
       "      <td>unbiased</td>\n",
       "    </tr>\n",
       "    <tr>\n",
       "      <th>...</th>\n",
       "      <td>...</td>\n",
       "      <td>...</td>\n",
       "      <td>...</td>\n",
       "      <td>...</td>\n",
       "      <td>...</td>\n",
       "      <td>...</td>\n",
       "      <td>...</td>\n",
       "    </tr>\n",
       "    <tr>\n",
       "      <th>11147</th>\n",
       "      <td>OX359250.1</td>\n",
       "      <td>g_4665</td>\n",
       "      <td>0.002774</td>\n",
       "      <td>0.002684</td>\n",
       "      <td>1.033188</td>\n",
       "      <td>X</td>\n",
       "      <td>unbiased</td>\n",
       "    </tr>\n",
       "    <tr>\n",
       "      <th>11148</th>\n",
       "      <td>OX359250.1</td>\n",
       "      <td>g_4690</td>\n",
       "      <td>0.010225</td>\n",
       "      <td>0.008239</td>\n",
       "      <td>1.241028</td>\n",
       "      <td>X</td>\n",
       "      <td>unbiased</td>\n",
       "    </tr>\n",
       "    <tr>\n",
       "      <th>11149</th>\n",
       "      <td>OX359250.1</td>\n",
       "      <td>g_4691</td>\n",
       "      <td>0.000186</td>\n",
       "      <td>0.000765</td>\n",
       "      <td>0.242762</td>\n",
       "      <td>X</td>\n",
       "      <td>unbiased</td>\n",
       "    </tr>\n",
       "    <tr>\n",
       "      <th>11150</th>\n",
       "      <td>OX359250.1</td>\n",
       "      <td>g_4692</td>\n",
       "      <td>0.000494</td>\n",
       "      <td>0.001736</td>\n",
       "      <td>0.284659</td>\n",
       "      <td>X</td>\n",
       "      <td>unbiased</td>\n",
       "    </tr>\n",
       "    <tr>\n",
       "      <th>11151</th>\n",
       "      <td>OX359250.1</td>\n",
       "      <td>g_4695</td>\n",
       "      <td>0.000720</td>\n",
       "      <td>0.000415</td>\n",
       "      <td>1.736440</td>\n",
       "      <td>X</td>\n",
       "      <td>unbiased</td>\n",
       "    </tr>\n",
       "  </tbody>\n",
       "</table>\n",
       "<p>11011 rows × 7 columns</p>\n",
       "</div>"
      ],
      "text/plain": [
       "            chrom   Geneid     0D_pi     4D_pi   0/4D_pi   linkage  \\\n",
       "0      OX359245.1  g_33544  0.019374  0.010455  1.853129  autosome   \n",
       "1      OX359245.1  g_33549  0.000501  0.000487  1.027850  autosome   \n",
       "2      OX359245.1  g_33551  0.001268  0.005283  0.239941  autosome   \n",
       "3      OX359245.1  g_33556  0.000921  0.000665  1.385024  autosome   \n",
       "4      OX359245.1  g_33557  0.000347  0.010225  0.033888  autosome   \n",
       "...           ...      ...       ...       ...       ...       ...   \n",
       "11147  OX359250.1   g_4665  0.002774  0.002684  1.033188         X   \n",
       "11148  OX359250.1   g_4690  0.010225  0.008239  1.241028         X   \n",
       "11149  OX359250.1   g_4691  0.000186  0.000765  0.242762         X   \n",
       "11150  OX359250.1   g_4692  0.000494  0.001736  0.284659         X   \n",
       "11151  OX359250.1   g_4695  0.000720  0.000415  1.736440         X   \n",
       "\n",
       "              bias  \n",
       "0         unbiased  \n",
       "1         unbiased  \n",
       "2      male_biased  \n",
       "3         unbiased  \n",
       "4         unbiased  \n",
       "...            ...  \n",
       "11147     unbiased  \n",
       "11148     unbiased  \n",
       "11149     unbiased  \n",
       "11150     unbiased  \n",
       "11151     unbiased  \n",
       "\n",
       "[11011 rows x 7 columns]"
      ]
     },
     "execution_count": 199,
     "metadata": {},
     "output_type": "execute_result"
    }
   ],
   "source": [
    "pi_df"
   ]
  },
  {
   "cell_type": "code",
   "execution_count": 200,
   "id": "3dfe3c93",
   "metadata": {
    "scrolled": false
   },
   "outputs": [
    {
     "data": {
      "image/png": "[encoded data removed]",
      "text/plain": [
       "<Figure size 720x720 with 6 Axes>"
      ]
     },
     "metadata": {
      "needs_background": "light"
     },
     "output_type": "display_data"
    }
   ],
   "source": [
    "fig, axs = plt.subplots(nrows = 3, ncols=2, figsize = (10,10), sharex=True)\n",
    "\n",
    "x_upper = 2.5\n",
    "x_lower = 0\n",
    "y_upper = 0.2\n",
    "y_lower = 0\n",
    "n_bins = 25\n",
    "bins = np.arange(x_lower,x_upper,(x_upper-x_lower)/n_bins)\n",
    "\n",
    "stat = 'count'\n",
    "\n",
    "sns.histplot(data = pi_df[(pi_df['bias']=='unbiased') & (pi_df['linkage']=='autosome')],\n",
    "             x = '0/4D_pi',\n",
    "             stat=stat,\n",
    "             bins=bins,\n",
    "             ax = axs[0][0])\n",
    "\n",
    "sns.histplot(data = pi_df[(pi_df['bias']=='male_biased') & (pi_df['linkage']=='autosome')],\n",
    "             x = '0/4D_pi',\n",
    "             stat=stat,\n",
    "             bins=bins,\n",
    "             color='orange',\n",
    "             ax = axs[1][0])\n",
    "\n",
    "sns.histplot(data = pi_df[(pi_df['bias']=='female_biased') & (pi_df['linkage']=='autosome')],\n",
    "             x = '0/4D_pi',\n",
    "             stat=stat,\n",
    "             bins=bins,\n",
    "             color='green',\n",
    "             ax = axs[2][0])\n",
    "\n",
    "sns.histplot(data = pi_df[(pi_df['bias']=='unbiased') & (pi_df['linkage']=='X')],\n",
    "             x = '0/4D_pi',\n",
    "             stat=stat,\n",
    "             bins=bins,\n",
    "             label = 'Unbiased',\n",
    "             ax = axs[0][1])\n",
    "\n",
    "sns.histplot(data = pi_df[(pi_df['bias']=='male_biased') & (pi_df['linkage']=='X')],\n",
    "             x = '0/4D_pi',\n",
    "             stat=stat,\n",
    "             bins=bins,\n",
    "             color='orange',\n",
    "             label = 'Male biased',\n",
    "             ax = axs[1][1])\n",
    "\n",
    "sns.histplot(data = pi_df[(pi_df['bias']=='female_biased') & (pi_df['linkage']=='X')],\n",
    "             x = '0/4D_pi',\n",
    "             stat=stat,\n",
    "             bins=bins,\n",
    "             color='green',\n",
    "             label = 'Female biased',\n",
    "             ax = axs[2][1])\n",
    "\n",
    "for i in range(3):\n",
    "    axs[i][0].set_xlim(x_lower, x_upper)\n",
    "    axs[i][1].set_xlim(x_lower, x_upper)\n",
    "    \n",
    "    #axs[i][0].set_ylim(y_lower, y_upper)\n",
    "    #axs[i][1].set_ylim(y_lower, y_upper)\n",
    "    \n",
    "    axs[i][0].set_xlabel('Pn/Ps (autosome)')\n",
    "    axs[i][1].set_xlabel('Pn/Ps (X)')\n",
    "    \n",
    "    axs[i][1].legend()\n",
    "    \n",
    "#plt.xticks(np.arange(x_lower, x_upper, x_upper/7))"
   ]
  },
  {
   "cell_type": "code",
   "execution_count": 201,
   "id": "0b23cd37",
   "metadata": {},
   "outputs": [
    {
     "data": {
      "text/plain": [
       "7521"
      ]
     },
     "execution_count": 201,
     "metadata": {},
     "output_type": "execute_result"
    }
   ],
   "source": [
    "pi_df[(pi_df['bias']=='unbiased') & (pi_df['linkage']=='autosome')].shape[0]"
   ]
  },
  {
   "cell_type": "code",
   "execution_count": 202,
   "id": "dc920e32",
   "metadata": {},
   "outputs": [
    {
     "data": {
      "text/plain": [
       "1677"
      ]
     },
     "execution_count": 202,
     "metadata": {},
     "output_type": "execute_result"
    }
   ],
   "source": [
    "pi_df[(pi_df['bias']=='male_biased') & (pi_df['linkage']=='autosome')].shape[0]"
   ]
  },
  {
   "cell_type": "code",
   "execution_count": 203,
   "id": "dadae78c",
   "metadata": {},
   "outputs": [
    {
     "data": {
      "text/plain": [
       "785"
      ]
     },
     "execution_count": 203,
     "metadata": {},
     "output_type": "execute_result"
    }
   ],
   "source": [
    "pi_df[(pi_df['bias']=='female_biased') & (pi_df['linkage']=='autosome')].shape[0]"
   ]
  },
  {
   "cell_type": "code",
   "execution_count": 204,
   "id": "be24b4ef",
   "metadata": {},
   "outputs": [
    {
     "data": {
      "text/plain": [
       "651"
      ]
     },
     "execution_count": 204,
     "metadata": {},
     "output_type": "execute_result"
    }
   ],
   "source": [
    "pi_df[(pi_df['bias']=='unbiased') & (pi_df['linkage']=='X')].shape[0]"
   ]
  },
  {
   "cell_type": "code",
   "execution_count": 205,
   "id": "034d647b",
   "metadata": {},
   "outputs": [
    {
     "data": {
      "text/plain": [
       "306"
      ]
     },
     "execution_count": 205,
     "metadata": {},
     "output_type": "execute_result"
    }
   ],
   "source": [
    "pi_df[(pi_df['bias']=='male_biased') & (pi_df['linkage']=='X')].shape[0]"
   ]
  },
  {
   "cell_type": "code",
   "execution_count": 206,
   "id": "0ea6b654",
   "metadata": {},
   "outputs": [
    {
     "data": {
      "text/plain": [
       "71"
      ]
     },
     "execution_count": 206,
     "metadata": {},
     "output_type": "execute_result"
    }
   ],
   "source": [
    "pi_df[(pi_df['bias']=='female_biased') & (pi_df['linkage']=='X')].shape[0]"
   ]
  },
  {
   "cell_type": "code",
   "execution_count": 207,
   "id": "a6635071",
   "metadata": {},
   "outputs": [
    {
     "data": {
      "text/plain": [
       "0.4204377155019885"
      ]
     },
     "execution_count": 207,
     "metadata": {},
     "output_type": "execute_result"
    }
   ],
   "source": [
    "pi_df[(pi_df['bias']=='male_biased') & (pi_df['linkage']=='X')]['0/4D_pi'].median()"
   ]
  },
  {
   "cell_type": "code",
   "execution_count": 208,
   "id": "a2d293fb",
   "metadata": {},
   "outputs": [
    {
     "data": {
      "text/plain": [
       "0.3381695578878613"
      ]
     },
     "execution_count": 208,
     "metadata": {},
     "output_type": "execute_result"
    }
   ],
   "source": [
    "pi_df[(pi_df['bias']=='male_biased') & (pi_df['linkage']=='autosome')]['0/4D_pi'].median()"
   ]
  },
  {
   "cell_type": "code",
   "execution_count": 210,
   "id": "6d020a75",
   "metadata": {},
   "outputs": [
    {
     "data": {
      "text/plain": [
       "count    9983.000000\n",
       "mean        0.011321\n",
       "std         0.013863\n",
       "min         0.000035\n",
       "25%         0.002765\n",
       "50%         0.006548\n",
       "75%         0.014259\n",
       "max         0.195264\n",
       "Name: 4D_pi, dtype: float64"
      ]
     },
     "execution_count": 210,
     "metadata": {},
     "output_type": "execute_result"
    }
   ],
   "source": [
    "pi_df[pi_df['linkage']=='autosome']['4D_pi'].describe()"
   ]
  },
  {
   "cell_type": "code",
   "execution_count": 211,
   "id": "2490f3c9",
   "metadata": {},
   "outputs": [
    {
     "data": {
      "text/plain": [
       "count    1028.000000\n",
       "mean        0.009495\n",
       "std         0.014802\n",
       "min         0.000035\n",
       "25%         0.001364\n",
       "50%         0.003995\n",
       "75%         0.010623\n",
       "max         0.178744\n",
       "Name: 4D_pi, dtype: float64"
      ]
     },
     "execution_count": 211,
     "metadata": {},
     "output_type": "execute_result"
    }
   ],
   "source": [
    "pi_df[pi_df['linkage']=='X']['4D_pi'].describe()"
   ]
  },
  {
   "cell_type": "code",
   "execution_count": 215,
   "id": "0c0897d5",
   "metadata": {},
   "outputs": [
    {
     "data": {
      "text/plain": [
       "count    466.000000\n",
       "mean       0.008754\n",
       "std        0.015976\n",
       "min        0.000035\n",
       "25%        0.001168\n",
       "50%        0.003298\n",
       "75%        0.009743\n",
       "max        0.178744\n",
       "Name: 4D_pi, dtype: float64"
      ]
     },
     "execution_count": 215,
     "metadata": {},
     "output_type": "execute_result"
    }
   ],
   "source": [
    "pi_df[pi_df['chrom']=='OX359249.1']['4D_pi'].describe()"
   ]
  },
  {
   "cell_type": "code",
   "execution_count": 216,
   "id": "31646b7f",
   "metadata": {},
   "outputs": [
    {
     "data": {
      "text/plain": [
       "count    562.000000\n",
       "mean       0.010109\n",
       "std        0.013737\n",
       "min        0.000105\n",
       "25%        0.001552\n",
       "50%        0.004631\n",
       "75%        0.011805\n",
       "max        0.083286\n",
       "Name: 4D_pi, dtype: float64"
      ]
     },
     "execution_count": 216,
     "metadata": {},
     "output_type": "execute_result"
    }
   ],
   "source": [
    "pi_df[pi_df['chrom']=='OX359250.1']['4D_pi'].describe()"
   ]
  },
  {
   "cell_type": "code",
   "execution_count": 218,
   "id": "d0b2b906",
   "metadata": {},
   "outputs": [
    {
     "data": {
      "text/plain": [
       "0.8849557522123894"
      ]
     },
     "execution_count": 218,
     "metadata": {},
     "output_type": "execute_result"
    }
   ],
   "source": [
    "0.01/0.0113"
   ]
  },
  {
   "cell_type": "code",
   "execution_count": null,
   "id": "bb908d7a",
   "metadata": {},
   "outputs": [],
   "source": []
  }
 ],
 "metadata": {
  "kernelspec": {
   "display_name": "Python 3 (ipykernel)",
   "language": "python",
   "name": "python3"
  },
  "language_info": {
   "codemirror_mode": {
    "name": "ipython",
    "version": 3
   },
   "file_extension": ".py",
   "mimetype": "text/x-python",
   "name": "python",
   "nbconvert_exporter": "python",
   "pygments_lexer": "ipython3",
   "version": "3.10.12"
  }
 },
 "nbformat": 4,
 "nbformat_minor": 5
}
